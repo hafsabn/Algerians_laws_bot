{
 "cells": [
  {
   "cell_type": "markdown",
   "metadata": {},
   "source": [
    "## Libraries"
   ]
  },
  {
   "cell_type": "code",
   "execution_count": null,
   "metadata": {
    "execution": {
     "iopub.execute_input": "2025-05-19T12:48:45.862505Z",
     "iopub.status.busy": "2025-05-19T12:48:45.862237Z",
     "iopub.status.idle": "2025-05-19T12:49:12.811765Z",
     "shell.execute_reply": "2025-05-19T12:49:12.810729Z",
     "shell.execute_reply.started": "2025-05-19T12:48:45.862480Z"
    },
    "trusted": true
   },
   "outputs": [
    {
     "name": "stderr",
     "output_type": "stream",
     "text": [
      "2025-05-19 12:48:58.464667: E external/local_xla/xla/stream_executor/cuda/cuda_fft.cc:477] Unable to register cuFFT factory: Attempting to register factory for plugin cuFFT when one has already been registered\n",
      "WARNING: All log messages before absl::InitializeLog() is called are written to STDERR\n",
      "E0000 00:00:1747658938.671336      31 cuda_dnn.cc:8310] Unable to register cuDNN factory: Attempting to register factory for plugin cuDNN when one has already been registered\n",
      "E0000 00:00:1747658938.726098      31 cuda_blas.cc:1418] Unable to register cuBLAS factory: Attempting to register factory for plugin cuBLAS when one has already been registered\n"
     ]
    }
   ],
   "source": [
    "from sklearn.cluster import KMeans\n",
    "import numpy as np\n",
    "import joblib\n",
    "import json\n",
    "import re"
   ]
  },
  {
   "cell_type": "code",
   "execution_count": null,
   "metadata": {
    "execution": {
     "iopub.execute_input": "2025-05-19T12:49:21.543633Z",
     "iopub.status.busy": "2025-05-19T12:49:21.543429Z",
     "iopub.status.idle": "2025-05-19T12:49:23.226263Z",
     "shell.execute_reply": "2025-05-19T12:49:23.225545Z",
     "shell.execute_reply.started": "2025-05-19T12:49:21.543617Z"
    },
    "trusted": true
   },
   "outputs": [
    {
     "data": {
      "text/plain": [
       "1146"
      ]
     },
     "execution_count": 4,
     "metadata": {},
     "output_type": "execute_result"
    }
   ],
   "source": [
    "with open(\"/datasetset_2005.json\", \"r\") as f:\n",
    "    data = json.load(f)\n",
    "\n",
    "len(data)"
   ]
  },
  {
   "cell_type": "code",
   "execution_count": 5,
   "metadata": {
    "execution": {
     "iopub.execute_input": "2025-05-19T12:49:23.227390Z",
     "iopub.status.busy": "2025-05-19T12:49:23.227140Z",
     "iopub.status.idle": "2025-05-19T12:49:23.231513Z",
     "shell.execute_reply": "2025-05-19T12:49:23.230858Z",
     "shell.execute_reply.started": "2025-05-19T12:49:23.227357Z"
    },
    "trusted": true
   },
   "outputs": [],
   "source": [
    "documents = [entry[\"content\"] for entry in data if entry[\"content\"]]"
   ]
  },
  {
   "cell_type": "code",
   "execution_count": null,
   "metadata": {
    "execution": {
     "iopub.execute_input": "2025-05-19T12:49:23.232636Z",
     "iopub.status.busy": "2025-05-19T12:49:23.232283Z",
     "iopub.status.idle": "2025-05-19T12:49:23.248514Z",
     "shell.execute_reply": "2025-05-19T12:49:23.247837Z",
     "shell.execute_reply.started": "2025-05-19T12:49:23.232602Z"
    },
    "trusted": true
   },
   "outputs": [],
   "source": [
    "def chunk_text(text, size=512, stride=50):\n",
    "    words = text.split()\n",
    "    chunks = []\n",
    "    for i in range(0, len(words) - size + 1, stride):\n",
    "        chunk = \" \".join(words[i:i+size])\n",
    "        chunks.append(chunk)\n",
    "    return chunks\n"
   ]
  },
  {
   "cell_type": "code",
   "execution_count": 7,
   "metadata": {
    "execution": {
     "iopub.execute_input": "2025-05-19T12:49:23.249877Z",
     "iopub.status.busy": "2025-05-19T12:49:23.249329Z",
     "iopub.status.idle": "2025-05-19T12:49:29.705276Z",
     "shell.execute_reply": "2025-05-19T12:49:29.704492Z",
     "shell.execute_reply.started": "2025-05-19T12:49:23.249856Z"
    },
    "trusted": true
   },
   "outputs": [],
   "source": [
    "all_chunks = []\n",
    "for i, doc in enumerate(documents):\n",
    "    chunks = chunk_text(doc)\n",
    "    all_chunks.extend(chunks)"
   ]
  },
  {
   "cell_type": "code",
   "execution_count": 8,
   "metadata": {
    "execution": {
     "iopub.execute_input": "2025-05-19T12:49:29.706334Z",
     "iopub.status.busy": "2025-05-19T12:49:29.706101Z",
     "iopub.status.idle": "2025-05-19T13:00:52.138651Z",
     "shell.execute_reply": "2025-05-19T13:00:52.138003Z",
     "shell.execute_reply.started": "2025-05-19T12:49:29.706304Z"
    },
    "trusted": true
   },
   "outputs": [
    {
     "data": {
      "application/vnd.jupyter.widget-view+json": {
       "model_id": "bc9a43927c2b4bff922a6bbb2fd7e327",
       "version_major": 2,
       "version_minor": 0
      },
      "text/plain": [
       "Batches:   0%|          | 0/8461 [00:00<?, ?it/s]"
      ]
     },
     "metadata": {},
     "output_type": "display_data"
    }
   ],
   "source": [
    "chunk_embeddings = model.encode(all_chunks, convert_to_numpy=True, show_progress_bar=True)"
   ]
  },
  {
   "cell_type": "code",
   "execution_count": null,
   "metadata": {
    "execution": {
     "iopub.execute_input": "2025-05-19T13:00:52.142460Z",
     "iopub.status.busy": "2025-05-19T13:00:52.142189Z",
     "iopub.status.idle": "2025-05-19T13:00:52.289443Z",
     "shell.execute_reply": "2025-05-19T13:00:52.288663Z",
     "shell.execute_reply.started": "2025-05-19T13:00:52.142441Z"
    },
    "trusted": true
   },
   "outputs": [
    {
     "name": "stdout",
     "output_type": "stream",
     "text": [
      "Shape: (270729, 384)\n",
      "Contains NaNs: False\n"
     ]
    }
   ],
   "source": [
    "print(\"Shape:\", chunk_embeddings.shape)\n",
    "print(\"Contains NaNs:\", np.isnan(chunk_embeddings).any())"
   ]
  },
  {
   "cell_type": "markdown",
   "metadata": {},
   "source": [
    "## K-Means model"
   ]
  },
  {
   "cell_type": "code",
   "execution_count": null,
   "metadata": {
    "execution": {
     "iopub.execute_input": "2025-05-19T13:00:52.292440Z",
     "iopub.status.busy": "2025-05-19T13:00:52.292169Z",
     "iopub.status.idle": "2025-05-19T14:30:42.920748Z",
     "shell.execute_reply": "2025-05-19T14:30:42.920082Z",
     "shell.execute_reply.started": "2025-05-19T13:00:52.292422Z"
    },
    "trusted": true
   },
   "outputs": [
    {
     "name": "stdout",
     "output_type": "stream",
     "text": [
      "Initialization complete\n",
      "Iteration 0, inertia 671227.375.\n",
      "Iteration 1, inertia 531907.125.\n",
      "Iteration 2, inertia 516746.40625.\n",
      "Iteration 3, inertia 510792.25.\n",
      "Iteration 4, inertia 507771.875.\n",
      "Iteration 5, inertia 506064.0.\n",
      "Iteration 6, inertia 504949.0625.\n",
      "Iteration 7, inertia 504226.25.\n",
      "Iteration 8, inertia 503763.46875.\n",
      "Iteration 9, inertia 503443.1875.\n",
      "Iteration 10, inertia 503220.75.\n",
      "Iteration 11, inertia 503046.75.\n",
      "Iteration 12, inertia 502920.78125.\n",
      "Iteration 13, inertia 502834.5.\n",
      "Iteration 14, inertia 502769.25.\n",
      "Iteration 15, inertia 502721.9375.\n",
      "Iteration 16, inertia 502681.96875.\n",
      "Iteration 17, inertia 502656.78125.\n",
      "Iteration 18, inertia 502638.1875.\n",
      "Iteration 19, inertia 502625.9375.\n",
      "Iteration 20, inertia 502617.9375.\n",
      "Iteration 21, inertia 502611.25.\n",
      "Iteration 22, inertia 502605.65625.\n",
      "Iteration 23, inertia 502602.3125.\n",
      "Iteration 24, inertia 502598.15625.\n",
      "Iteration 25, inertia 502594.6875.\n",
      "Iteration 26, inertia 502592.5.\n",
      "Iteration 27, inertia 502588.34375.\n",
      "Iteration 28, inertia 502586.0.\n",
      "Iteration 29, inertia 502584.375.\n",
      "Iteration 30, inertia 502583.65625.\n",
      "Iteration 31, inertia 502583.625.\n",
      "Iteration 32, inertia 502583.53125.\n",
      "Iteration 33, inertia 502583.3125.\n",
      "Iteration 34, inertia 502583.09375.\n",
      "Iteration 35, inertia 502582.9375.\n",
      "Iteration 36, inertia 502582.90625.\n",
      "Iteration 37, inertia 502583.0625.\n",
      "Iteration 38, inertia 502582.6875.\n",
      "Iteration 39, inertia 502582.5625.\n",
      "Iteration 40, inertia 502582.5625.\n",
      "Iteration 41, inertia 502582.5.\n",
      "Iteration 42, inertia 502582.5.\n",
      "Iteration 43, inertia 502582.375.\n",
      "Iteration 44, inertia 502582.3125.\n",
      "Iteration 45, inertia 502582.09375.\n",
      "Iteration 46, inertia 502582.0.\n",
      "Iteration 47, inertia 502582.125.\n",
      "Iteration 48, inertia 502582.125.\n",
      "Iteration 49, inertia 502582.1875.\n",
      "Iteration 50, inertia 502582.1875.\n",
      "Iteration 51, inertia 502582.125.\n",
      "Iteration 52, inertia 502582.1875.\n",
      "Iteration 53, inertia 502582.1875.\n",
      "Iteration 54, inertia 502582.125.\n",
      "Iteration 55, inertia 502582.0625.\n",
      "Iteration 56, inertia 502582.0625.\n",
      "Iteration 57, inertia 502582.0625.\n",
      "Iteration 58, inertia 502582.0625.\n",
      "Iteration 59, inertia 502582.1875.\n",
      "Iteration 60, inertia 502582.125.\n",
      "Iteration 61, inertia 502582.0625.\n",
      "Iteration 62, inertia 502582.0625.\n",
      "Iteration 63, inertia 502582.0625.\n",
      "Iteration 64, inertia 502582.0625.\n",
      "Iteration 65, inertia 502581.9375.\n",
      "Iteration 66, inertia 502581.75.\n",
      "Iteration 67, inertia 502581.78125.\n",
      "Iteration 68, inertia 502581.78125.\n",
      "Iteration 69, inertia 502581.6875.\n",
      "Iteration 70, inertia 502581.5625.\n",
      "Iteration 71, inertia 502581.375.\n",
      "Iteration 72, inertia 502581.28125.\n",
      "Iteration 73, inertia 502581.28125.\n",
      "Iteration 74, inertia 502581.125.\n",
      "Converged at iteration 74: center shift 2.6205232188658556e-06 within tolerance 7.762266695499421e-06.\n"
     ]
    },
    {
     "data": {
      "text/html": [
       "<style>#sk-container-id-1 {color: black;background-color: white;}#sk-container-id-1 pre{padding: 0;}#sk-container-id-1 div.sk-toggleable {background-color: white;}#sk-container-id-1 label.sk-toggleable__label {cursor: pointer;display: block;width: 100%;margin-bottom: 0;padding: 0.3em;box-sizing: border-box;text-align: center;}#sk-container-id-1 label.sk-toggleable__label-arrow:before {content: \"▸\";float: left;margin-right: 0.25em;color: #696969;}#sk-container-id-1 label.sk-toggleable__label-arrow:hover:before {color: black;}#sk-container-id-1 div.sk-estimator:hover label.sk-toggleable__label-arrow:before {color: black;}#sk-container-id-1 div.sk-toggleable__content {max-height: 0;max-width: 0;overflow: hidden;text-align: left;background-color: #f0f8ff;}#sk-container-id-1 div.sk-toggleable__content pre {margin: 0.2em;color: black;border-radius: 0.25em;background-color: #f0f8ff;}#sk-container-id-1 input.sk-toggleable__control:checked~div.sk-toggleable__content {max-height: 200px;max-width: 100%;overflow: auto;}#sk-container-id-1 input.sk-toggleable__control:checked~label.sk-toggleable__label-arrow:before {content: \"▾\";}#sk-container-id-1 div.sk-estimator input.sk-toggleable__control:checked~label.sk-toggleable__label {background-color: #d4ebff;}#sk-container-id-1 div.sk-label input.sk-toggleable__control:checked~label.sk-toggleable__label {background-color: #d4ebff;}#sk-container-id-1 input.sk-hidden--visually {border: 0;clip: rect(1px 1px 1px 1px);clip: rect(1px, 1px, 1px, 1px);height: 1px;margin: -1px;overflow: hidden;padding: 0;position: absolute;width: 1px;}#sk-container-id-1 div.sk-estimator {font-family: monospace;background-color: #f0f8ff;border: 1px dotted black;border-radius: 0.25em;box-sizing: border-box;margin-bottom: 0.5em;}#sk-container-id-1 div.sk-estimator:hover {background-color: #d4ebff;}#sk-container-id-1 div.sk-parallel-item::after {content: \"\";width: 100%;border-bottom: 1px solid gray;flex-grow: 1;}#sk-container-id-1 div.sk-label:hover label.sk-toggleable__label {background-color: #d4ebff;}#sk-container-id-1 div.sk-serial::before {content: \"\";position: absolute;border-left: 1px solid gray;box-sizing: border-box;top: 0;bottom: 0;left: 50%;z-index: 0;}#sk-container-id-1 div.sk-serial {display: flex;flex-direction: column;align-items: center;background-color: white;padding-right: 0.2em;padding-left: 0.2em;position: relative;}#sk-container-id-1 div.sk-item {position: relative;z-index: 1;}#sk-container-id-1 div.sk-parallel {display: flex;align-items: stretch;justify-content: center;background-color: white;position: relative;}#sk-container-id-1 div.sk-item::before, #sk-container-id-1 div.sk-parallel-item::before {content: \"\";position: absolute;border-left: 1px solid gray;box-sizing: border-box;top: 0;bottom: 0;left: 50%;z-index: -1;}#sk-container-id-1 div.sk-parallel-item {display: flex;flex-direction: column;z-index: 1;position: relative;background-color: white;}#sk-container-id-1 div.sk-parallel-item:first-child::after {align-self: flex-end;width: 50%;}#sk-container-id-1 div.sk-parallel-item:last-child::after {align-self: flex-start;width: 50%;}#sk-container-id-1 div.sk-parallel-item:only-child::after {width: 0;}#sk-container-id-1 div.sk-dashed-wrapped {border: 1px dashed gray;margin: 0 0.4em 0.5em 0.4em;box-sizing: border-box;padding-bottom: 0.4em;background-color: white;}#sk-container-id-1 div.sk-label label {font-family: monospace;font-weight: bold;display: inline-block;line-height: 1.2em;}#sk-container-id-1 div.sk-label-container {text-align: center;}#sk-container-id-1 div.sk-container {/* jupyter's `normalize.less` sets `[hidden] { display: none; }` but bootstrap.min.css set `[hidden] { display: none !important; }` so we also need the `!important` here to be able to override the default hidden behavior on the sphinx rendered scikit-learn.org. See: https://github.com/scikit-learn/scikit-learn/issues/21755 */display: inline-block !important;position: relative;}#sk-container-id-1 div.sk-text-repr-fallback {display: none;}</style><div id=\"sk-container-id-1\" class=\"sk-top-container\"><div class=\"sk-text-repr-fallback\"><pre>KMeans(n_clusters=13752, n_init=&#x27;auto&#x27;, random_state=42, verbose=1)</pre><b>In a Jupyter environment, please rerun this cell to show the HTML representation or trust the notebook. <br />On GitHub, the HTML representation is unable to render, please try loading this page with nbviewer.org.</b></div><div class=\"sk-container\" hidden><div class=\"sk-item\"><div class=\"sk-estimator sk-toggleable\"><input class=\"sk-toggleable__control sk-hidden--visually\" id=\"sk-estimator-id-1\" type=\"checkbox\" checked><label for=\"sk-estimator-id-1\" class=\"sk-toggleable__label sk-toggleable__label-arrow\">KMeans</label><div class=\"sk-toggleable__content\"><pre>KMeans(n_clusters=13752, n_init=&#x27;auto&#x27;, random_state=42, verbose=1)</pre></div></div></div></div></div>"
      ],
      "text/plain": [
       "KMeans(n_clusters=13752, n_init='auto', random_state=42, verbose=1)"
      ]
     },
     "execution_count": 10,
     "metadata": {},
     "output_type": "execute_result"
    }
   ],
   "source": [
    "num_clusters = len(data) * 3 * 4\n",
    "clustering = KMeans(n_clusters=num_clusters, verbose=1, n_init=\"auto\", random_state=42)\n",
    "clustering.fit(chunk_embeddings)"
   ]
  },
  {
   "cell_type": "code",
   "execution_count": null,
   "metadata": {
    "execution": {
     "iopub.execute_input": "2025-05-19T14:31:11.407930Z",
     "iopub.status.busy": "2025-05-19T14:31:11.407150Z",
     "iopub.status.idle": "2025-05-19T14:31:11.435959Z",
     "shell.execute_reply": "2025-05-19T14:31:11.435322Z",
     "shell.execute_reply.started": "2025-05-19T14:31:11.407898Z"
    },
    "trusted": true
   },
   "outputs": [
    {
     "data": {
      "text/plain": [
       "['kmeans_model.pkl']"
      ]
     },
     "execution_count": 12,
     "metadata": {},
     "output_type": "execute_result"
    }
   ],
   "source": [
    "joblib.dump(clustering, 'kmeans_model.pkl')"
   ]
  }
 ],
 "metadata": {
  "kaggle": {
   "accelerator": "gpu",
   "dataSources": [
    {
     "datasetId": 7256682,
     "sourceId": 11574317,
     "sourceType": "datasetVersion"
    },
    {
     "datasetId": 7442129,
     "sourceId": 11844821,
     "sourceType": "datasetVersion"
    },
    {
     "datasetId": 7457173,
     "sourceId": 11866940,
     "sourceType": "datasetVersion"
    }
   ],
   "dockerImageVersionId": 31011,
   "isGpuEnabled": true,
   "isInternetEnabled": true,
   "language": "python",
   "sourceType": "notebook"
  },
  "kernelspec": {
   "display_name": "Python 3",
   "language": "python",
   "name": "python3"
  },
  "language_info": {
   "codemirror_mode": {
    "name": "ipython",
    "version": 3
   },
   "file_extension": ".py",
   "mimetype": "text/x-python",
   "name": "python",
   "nbconvert_exporter": "python",
   "pygments_lexer": "ipython3",
   "version": "3.11.11"
  }
 },
 "nbformat": 4,
 "nbformat_minor": 4
}
