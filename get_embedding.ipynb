{
 "cells": [
  {
   "cell_type": "markdown",
   "metadata": {},
   "source": [
    "## Libraries"
   ]
  },
  {
   "cell_type": "code",
   "execution_count": null,
   "metadata": {
    "execution": {
     "iopub.execute_input": "2025-05-24T06:46:00.652838Z",
     "iopub.status.busy": "2025-05-24T06:46:00.652528Z",
     "iopub.status.idle": "2025-05-24T06:46:29.794499Z",
     "shell.execute_reply": "2025-05-24T06:46:29.793684Z",
     "shell.execute_reply.started": "2025-05-24T06:46:00.652804Z"
    },
    "trusted": true
   },
   "outputs": [
    {
     "name": "stderr",
     "output_type": "stream",
     "text": [
      "2025-05-24 06:46:14.840053: E external/local_xla/xla/stream_executor/cuda/cuda_fft.cc:477] Unable to register cuFFT factory: Attempting to register factory for plugin cuFFT when one has already been registered\n",
      "WARNING: All log messages before absl::InitializeLog() is called are written to STDERR\n",
      "E0000 00:00:1748069175.030980      35 cuda_dnn.cc:8310] Unable to register cuDNN factory: Attempting to register factory for plugin cuDNN when one has already been registered\n",
      "E0000 00:00:1748069175.087603      35 cuda_blas.cc:1418] Unable to register cuBLAS factory: Attempting to register factory for plugin cuBLAS when one has already been registered\n"
     ]
    }
   ],
   "source": [
    "from sentence_transformers import SentenceTransformer\n",
    "import numpy as np\n",
    "import pickle\n",
    "import faiss\n",
    "import json"
   ]
  },
  {
   "cell_type": "markdown",
   "metadata": {},
   "source": [
    "## Upload the model"
   ]
  },
  {
   "cell_type": "code",
   "execution_count": null,
   "metadata": {
    "execution": {
     "iopub.execute_input": "2025-05-24T06:46:29.796242Z",
     "iopub.status.busy": "2025-05-24T06:46:29.795526Z",
     "iopub.status.idle": "2025-05-24T06:46:40.375981Z",
     "shell.execute_reply": "2025-05-24T06:46:40.375311Z",
     "shell.execute_reply.started": "2025-05-24T06:46:29.796216Z"
    },
    "trusted": true
   },
   "outputs": [],
   "source": [
    "model = SentenceTransformer(\"embedding_model\")"
   ]
  },
  {
   "cell_type": "markdown",
   "metadata": {},
   "source": [
    "## Upload the data"
   ]
  },
  {
   "cell_type": "code",
   "execution_count": null,
   "metadata": {
    "execution": {
     "iopub.execute_input": "2025-05-24T12:03:17.151020Z",
     "iopub.status.busy": "2025-05-24T12:03:17.150669Z",
     "iopub.status.idle": "2025-05-24T12:03:19.254588Z",
     "shell.execute_reply": "2025-05-24T12:03:19.254019Z",
     "shell.execute_reply.started": "2025-05-24T12:03:17.150988Z"
    },
    "trusted": true
   },
   "outputs": [],
   "source": [
    "with open(\"/dataset.json\", \"r\") as f:\n",
    "    data = json.load(f)"
   ]
  },
  {
   "cell_type": "code",
   "execution_count": 45,
   "metadata": {
    "execution": {
     "iopub.execute_input": "2025-05-24T12:11:41.759249Z",
     "iopub.status.busy": "2025-05-24T12:11:41.758610Z",
     "iopub.status.idle": "2025-05-24T12:11:41.763646Z",
     "shell.execute_reply": "2025-05-24T12:11:41.762957Z",
     "shell.execute_reply.started": "2025-05-24T12:11:41.759226Z"
    },
    "trusted": true
   },
   "outputs": [
    {
     "data": {
      "text/plain": [
       "1603"
      ]
     },
     "execution_count": 45,
     "metadata": {},
     "output_type": "execute_result"
    }
   ],
   "source": [
    "len(data)"
   ]
  },
  {
   "cell_type": "code",
   "execution_count": 1,
   "metadata": {},
   "outputs": [],
   "source": [
    "def chunk_text(text, size=512, stride=50):\n",
    "    words = text.split()\n",
    "    chunks = []\n",
    "    for i in range(0, len(words) - size + 1, stride):\n",
    "        chunk = \" \".join(words[i:i+size])\n",
    "        chunks.append(chunk)\n",
    "    return chunks"
   ]
  },
  {
   "cell_type": "code",
   "execution_count": 2,
   "metadata": {},
   "outputs": [],
   "source": [
    "all_chunks = []\n",
    "all_metadata = []"
   ]
  },
  {
   "cell_type": "code",
   "execution_count": null,
   "metadata": {
    "execution": {
     "iopub.execute_input": "2025-05-24T12:07:52.086483Z",
     "iopub.status.busy": "2025-05-24T12:07:52.086222Z",
     "iopub.status.idle": "2025-05-24T12:08:02.303050Z",
     "shell.execute_reply": "2025-05-24T12:08:02.302497Z",
     "shell.execute_reply.started": "2025-05-24T12:07:52.086464Z"
    },
    "trusted": true
   },
   "outputs": [],
   "source": [
    "for doc_id, doc in enumerate(data):\n",
    "    chunks = chunk_text(doc[\"content\"])\n",
    "    all_chunks.extend(chunks)\n",
    "    all_metadata.extend([{\"doc_id\": doc['metadata']['document_id'], \"chunk\": chunk}] for chunk in chunks)"
   ]
  },
  {
   "cell_type": "markdown",
   "metadata": {},
   "source": [
    "## Save metadata"
   ]
  },
  {
   "cell_type": "code",
   "execution_count": 44,
   "metadata": {
    "execution": {
     "iopub.execute_input": "2025-05-24T12:08:39.393259Z",
     "iopub.status.busy": "2025-05-24T12:08:39.392545Z",
     "iopub.status.idle": "2025-05-24T12:08:43.255699Z",
     "shell.execute_reply": "2025-05-24T12:08:43.255142Z",
     "shell.execute_reply.started": "2025-05-24T12:08:39.393236Z"
    },
    "trusted": true
   },
   "outputs": [],
   "source": [
    "with open(\"faiss_metadata.pkl\", \"wb\") as f:\n",
    "    pickle.dump(all_metadata, f)"
   ]
  },
  {
   "cell_type": "markdown",
   "metadata": {},
   "source": [
    "## Embedding"
   ]
  },
  {
   "cell_type": "code",
   "execution_count": 46,
   "metadata": {
    "execution": {
     "iopub.execute_input": "2025-05-24T12:11:58.441904Z",
     "iopub.status.busy": "2025-05-24T12:11:58.441146Z",
     "iopub.status.idle": "2025-05-24T12:26:20.957289Z",
     "shell.execute_reply": "2025-05-24T12:26:20.956673Z",
     "shell.execute_reply.started": "2025-05-24T12:11:58.441880Z"
    },
    "trusted": true
   },
   "outputs": [
    {
     "data": {
      "application/vnd.jupyter.widget-view+json": {
       "model_id": "6fe11fedfa3341bab85f53b9f7a27d5d",
       "version_major": 2,
       "version_minor": 0
      },
      "text/plain": [
       "Batches:   0%|          | 0/11797 [00:00<?, ?it/s]"
      ]
     },
     "metadata": {},
     "output_type": "display_data"
    }
   ],
   "source": [
    "chunk_embeddings = model.encode(all_chunks, convert_to_numpy=True, show_progress_bar=True)"
   ]
  },
  {
   "cell_type": "markdown",
   "metadata": {},
   "source": [
    "## Save embedding result"
   ]
  },
  {
   "cell_type": "code",
   "execution_count": null,
   "metadata": {
    "execution": {
     "iopub.execute_input": "2025-05-24T12:27:41.382144Z",
     "iopub.status.busy": "2025-05-24T12:27:41.381858Z",
     "iopub.status.idle": "2025-05-24T12:27:41.762396Z",
     "shell.execute_reply": "2025-05-24T12:27:41.761832Z",
     "shell.execute_reply.started": "2025-05-24T12:27:41.382128Z"
    },
    "trusted": true
   },
   "outputs": [],
   "source": [
    "np.save(\"embeddings.npy\", chunk_embeddings)"
   ]
  },
  {
   "cell_type": "code",
   "execution_count": 48,
   "metadata": {
    "execution": {
     "iopub.execute_input": "2025-05-24T12:28:30.882356Z",
     "iopub.status.busy": "2025-05-24T12:28:30.881567Z",
     "iopub.status.idle": "2025-05-24T12:28:30.887953Z",
     "shell.execute_reply": "2025-05-24T12:28:30.887289Z",
     "shell.execute_reply.started": "2025-05-24T12:28:30.882318Z"
    },
    "trusted": true
   },
   "outputs": [
    {
     "data": {
      "text/plain": [
       "(377474, 384)"
      ]
     },
     "execution_count": 48,
     "metadata": {},
     "output_type": "execute_result"
    }
   ],
   "source": [
    "chunk_embeddings.shape"
   ]
  },
  {
   "cell_type": "markdown",
   "metadata": {},
   "source": [
    "## Build and save FAISS index"
   ]
  },
  {
   "cell_type": "markdown",
   "metadata": {},
   "source": [
    "IndexFlatL2 Index"
   ]
  },
  {
   "cell_type": "code",
   "execution_count": null,
   "metadata": {
    "execution": {
     "iopub.execute_input": "2025-05-24T12:35:27.196005Z",
     "iopub.status.busy": "2025-05-24T12:35:27.195714Z",
     "iopub.status.idle": "2025-05-24T12:35:28.178222Z",
     "shell.execute_reply": "2025-05-24T12:35:28.177437Z",
     "shell.execute_reply.started": "2025-05-24T12:35:27.195957Z"
    },
    "trusted": true
   },
   "outputs": [],
   "source": [
    "dimension = chunk_embeddings.shape[1]\n",
    "index = faiss.IndexFlatL2(dimension)\n",
    "index.add(chunk_embeddings)\n",
    "\n",
    "faiss.write_index(index, \"faiss_index.idx\")"
   ]
  },
  {
   "cell_type": "markdown",
   "metadata": {},
   "source": [
    "IndexHNSWFlat Index"
   ]
  },
  {
   "cell_type": "code",
   "execution_count": null,
   "metadata": {
    "execution": {
     "iopub.execute_input": "2025-05-24T12:35:29.942507Z",
     "iopub.status.busy": "2025-05-24T12:35:29.941837Z",
     "iopub.status.idle": "2025-05-24T12:35:57.157069Z",
     "shell.execute_reply": "2025-05-24T12:35:57.156260Z",
     "shell.execute_reply.started": "2025-05-24T12:35:29.942484Z"
    },
    "trusted": true
   },
   "outputs": [],
   "source": [
    "dimension = chunk_embeddings.shape[1]\n",
    "index = faiss.IndexHNSWFlat(dimension, 32)  # 32 = graph degree (tuneable)\n",
    "index.hnsw.efConstruction = 40  # graph accuracy (higher = better recall)\n",
    "index.add(chunk_embeddings)\n",
    "faiss.write_index(index, \"faiss_hnsw.index\")"
   ]
  }
 ],
 "metadata": {
  "kaggle": {
   "accelerator": "gpu",
   "dataSources": [
    {
     "datasetId": 7256682,
     "sourceId": 11574317,
     "sourceType": "datasetVersion"
    },
    {
     "datasetId": 7442129,
     "sourceId": 11844821,
     "sourceType": "datasetVersion"
    },
    {
     "datasetId": 7457173,
     "sourceId": 11866940,
     "sourceType": "datasetVersion"
    },
    {
     "datasetId": 7461405,
     "sourceId": 11872802,
     "sourceType": "datasetVersion"
    },
    {
     "datasetId": 7462461,
     "sourceId": 11874292,
     "sourceType": "datasetVersion"
    },
    {
     "datasetId": 7470488,
     "sourceId": 11885909,
     "sourceType": "datasetVersion"
    }
   ],
   "dockerImageVersionId": 31041,
   "isGpuEnabled": true,
   "isInternetEnabled": true,
   "language": "python",
   "sourceType": "notebook"
  },
  "kernelspec": {
   "display_name": "base",
   "language": "python",
   "name": "python3"
  },
  "language_info": {
   "codemirror_mode": {
    "name": "ipython",
    "version": 3
   },
   "file_extension": ".py",
   "mimetype": "text/x-python",
   "name": "python",
   "nbconvert_exporter": "python",
   "pygments_lexer": "ipython3",
   "version": "3.11.5"
  }
 },
 "nbformat": 4,
 "nbformat_minor": 4
}
