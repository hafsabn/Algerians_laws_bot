{
 "cells": [
  {
   "cell_type": "markdown",
   "metadata": {},
   "source": [
    "## Libraries"
   ]
  },
  {
   "cell_type": "code",
   "execution_count": null,
   "metadata": {
    "execution": {
     "iopub.execute_input": "2025-05-21T06:19:20.124223Z",
     "iopub.status.busy": "2025-05-21T06:19:20.124001Z",
     "iopub.status.idle": "2025-05-21T06:19:45.842863Z",
     "shell.execute_reply": "2025-05-21T06:19:45.842247Z",
     "shell.execute_reply.started": "2025-05-21T06:19:20.124199Z"
    },
    "trusted": true
   },
   "outputs": [
    {
     "name": "stderr",
     "output_type": "stream",
     "text": [
      "2025-05-21 06:19:32.213581: E external/local_xla/xla/stream_executor/cuda/cuda_fft.cc:477] Unable to register cuFFT factory: Attempting to register factory for plugin cuFFT when one has already been registered\n",
      "WARNING: All log messages before absl::InitializeLog() is called are written to STDERR\n",
      "E0000 00:00:1747808372.394148      35 cuda_dnn.cc:8310] Unable to register cuDNN factory: Attempting to register factory for plugin cuDNN when one has already been registered\n",
      "E0000 00:00:1747808372.450009      35 cuda_blas.cc:1418] Unable to register cuBLAS factory: Attempting to register factory for plugin cuBLAS when one has already been registered\n"
     ]
    }
   ],
   "source": [
    "from sentence_transformers import SentenceTransformer, InputExample, losses, evaluation, LoggingHandler\n",
    "from torch.utils.data import DataLoader\n",
    "from collections import Counter\n",
    "from tqdm import tqdm\n",
    "import numpy as np\n",
    "import logging\n",
    "import pickle\n",
    "import joblib\n",
    "import random\n",
    "import faiss\n",
    "import torch\n",
    "import json\n",
    "import re\n",
    "import os"
   ]
  },
  {
   "cell_type": "markdown",
   "metadata": {},
   "source": [
    "## Load the previous model"
   ]
  },
  {
   "cell_type": "code",
   "execution_count": null,
   "metadata": {
    "execution": {
     "iopub.execute_input": "2025-05-21T06:19:45.844670Z",
     "iopub.status.busy": "2025-05-21T06:19:45.844207Z",
     "iopub.status.idle": "2025-05-21T06:19:57.735864Z",
     "shell.execute_reply": "2025-05-21T06:19:57.735205Z",
     "shell.execute_reply.started": "2025-05-21T06:19:45.844652Z"
    },
    "trusted": true
   },
   "outputs": [],
   "source": [
    "model = SentenceTransformer(\"/fine-tuned-embedding-model-2020\")"
   ]
  },
  {
   "cell_type": "code",
   "execution_count": null,
   "metadata": {
    "execution": {
     "iopub.execute_input": "2025-05-21T06:19:57.736792Z",
     "iopub.status.busy": "2025-05-21T06:19:57.736572Z",
     "iopub.status.idle": "2025-05-21T06:19:59.757501Z",
     "shell.execute_reply": "2025-05-21T06:19:59.756772Z",
     "shell.execute_reply.started": "2025-05-21T06:19:57.736774Z"
    },
    "trusted": true
   },
   "outputs": [
    {
     "data": {
      "text/plain": [
       "1146"
      ]
     },
     "execution_count": 4,
     "metadata": {},
     "output_type": "execute_result"
    }
   ],
   "source": [
    "with open(\"/dataset_2005.json\", \"r\") as f:\n",
    "    data = json.load(f)\n",
    "\n",
    "len(data)"
   ]
  },
  {
   "cell_type": "code",
   "execution_count": 5,
   "metadata": {
    "execution": {
     "iopub.execute_input": "2025-05-21T06:19:59.758683Z",
     "iopub.status.busy": "2025-05-21T06:19:59.758367Z",
     "iopub.status.idle": "2025-05-21T06:19:59.762858Z",
     "shell.execute_reply": "2025-05-21T06:19:59.762070Z",
     "shell.execute_reply.started": "2025-05-21T06:19:59.758663Z"
    },
    "trusted": true
   },
   "outputs": [],
   "source": [
    "documents = [entry[\"content\"] for entry in data if entry[\"content\"]]"
   ]
  },
  {
   "cell_type": "code",
   "execution_count": null,
   "metadata": {
    "execution": {
     "iopub.execute_input": "2025-05-21T06:19:59.764063Z",
     "iopub.status.busy": "2025-05-21T06:19:59.763826Z",
     "iopub.status.idle": "2025-05-21T06:19:59.778695Z",
     "shell.execute_reply": "2025-05-21T06:19:59.778099Z",
     "shell.execute_reply.started": "2025-05-21T06:19:59.764047Z"
    },
    "trusted": true
   },
   "outputs": [],
   "source": [
    "def chunk_text(text, size=512, stride=50):\n",
    "    words = text.split()\n",
    "    chunks = []\n",
    "    for i in range(0, len(words) - size + 1, stride):\n",
    "        chunk = \" \".join(words[i:i+size])\n",
    "        chunks.append(chunk)\n",
    "    return chunks\n"
   ]
  },
  {
   "cell_type": "code",
   "execution_count": 7,
   "metadata": {
    "execution": {
     "iopub.execute_input": "2025-05-21T06:19:59.779555Z",
     "iopub.status.busy": "2025-05-21T06:19:59.779312Z",
     "iopub.status.idle": "2025-05-21T06:20:06.045450Z",
     "shell.execute_reply": "2025-05-21T06:20:06.044666Z",
     "shell.execute_reply.started": "2025-05-21T06:19:59.779539Z"
    },
    "trusted": true
   },
   "outputs": [],
   "source": [
    "all_chunks = []\n",
    "for i, doc in enumerate(documents):\n",
    "    chunks = chunk_text(doc)\n",
    "    all_chunks.extend(chunks)"
   ]
  },
  {
   "cell_type": "code",
   "execution_count": null,
   "metadata": {
    "execution": {
     "iopub.execute_input": "2025-05-21T06:20:09.472972Z",
     "iopub.status.busy": "2025-05-21T06:20:09.472651Z",
     "iopub.status.idle": "2025-05-21T06:20:09.476380Z",
     "shell.execute_reply": "2025-05-21T06:20:09.475681Z",
     "shell.execute_reply.started": "2025-05-21T06:20:09.472951Z"
    },
    "trusted": true
   },
   "outputs": [],
   "source": [
    "chunk_embeddings = model.encode(all_chunks, convert_to_numpy=True, show_progress_bar=True)"
   ]
  },
  {
   "cell_type": "code",
   "execution_count": null,
   "metadata": {
    "execution": {
     "iopub.execute_input": "2025-05-21T06:20:09.477880Z",
     "iopub.status.busy": "2025-05-21T06:20:09.477251Z",
     "iopub.status.idle": "2025-05-21T06:20:09.708361Z",
     "shell.execute_reply": "2025-05-21T06:20:09.707705Z",
     "shell.execute_reply.started": "2025-05-21T06:20:09.477852Z"
    },
    "trusted": true
   },
   "outputs": [
    {
     "name": "stdout",
     "output_type": "stream",
     "text": [
      "Shape: (270729, 384)\n",
      "Contains NaNs: False\n"
     ]
    }
   ],
   "source": [
    "print(\"Shape:\", chunk_embeddings.shape)\n",
    "print(\"Contains NaNs:\", np.isnan(chunk_embeddings).any())"
   ]
  },
  {
   "cell_type": "code",
   "execution_count": null,
   "metadata": {
    "execution": {
     "iopub.execute_input": "2025-05-21T06:20:09.709330Z",
     "iopub.status.busy": "2025-05-21T06:20:09.709118Z",
     "iopub.status.idle": "2025-05-21T06:20:10.208176Z",
     "shell.execute_reply": "2025-05-21T06:20:10.207398Z",
     "shell.execute_reply.started": "2025-05-21T06:20:09.709314Z"
    },
    "trusted": true
   },
   "outputs": [],
   "source": [
    "# load the Kmeans model\n",
    "clustering = joblib.load('/kmeans_model.pkl')"
   ]
  },
  {
   "cell_type": "code",
   "execution_count": null,
   "metadata": {
    "execution": {
     "iopub.execute_input": "2025-05-21T06:20:10.209311Z",
     "iopub.status.busy": "2025-05-21T06:20:10.209041Z",
     "iopub.status.idle": "2025-05-21T06:20:10.247640Z",
     "shell.execute_reply": "2025-05-21T06:20:10.247115Z",
     "shell.execute_reply.started": "2025-05-21T06:20:10.209288Z"
    },
    "trusted": true
   },
   "outputs": [
    {
     "name": "stdout",
     "output_type": "stream",
     "text": [
      "Min cluster size: 1\n",
      "Max cluster size: 414\n",
      "Clusters with < 3 chunks: 143\n"
     ]
    }
   ],
   "source": [
    "counts = Counter(clustering.labels_)\n",
    "print(f\"Min cluster size: {min(counts.values())}\")\n",
    "print(f\"Max cluster size: {max(counts.values())}\")\n",
    "print(f\"Clusters with < 3 chunks: {sum(1 for c in counts.values() if c < 3)}\")"
   ]
  },
  {
   "cell_type": "code",
   "execution_count": null,
   "metadata": {
    "execution": {
     "iopub.execute_input": "2025-05-21T06:20:13.245505Z",
     "iopub.status.busy": "2025-05-21T06:20:13.245135Z",
     "iopub.status.idle": "2025-05-21T06:20:13.822293Z",
     "shell.execute_reply": "2025-05-21T06:20:13.821560Z",
     "shell.execute_reply.started": "2025-05-21T06:20:13.245478Z"
    },
    "trusted": true
   },
   "outputs": [
    {
     "name": "stderr",
     "output_type": "stream",
     "text": [
      "100%|██████████| 270729/270729 [00:00<00:00, 476281.44it/s]\n"
     ]
    }
   ],
   "source": [
    "clustered_chunks = {}\n",
    "for idx, label in tqdm(enumerate(clustering.labels_), total=len(clustering.labels_)):\n",
    "    clustered_chunks.setdefault(label, []).append(all_chunks[idx])"
   ]
  },
  {
   "cell_type": "code",
   "execution_count": null,
   "metadata": {
    "execution": {
     "iopub.execute_input": "2025-05-21T06:20:13.823480Z",
     "iopub.status.busy": "2025-05-21T06:20:13.823191Z",
     "iopub.status.idle": "2025-05-21T06:20:16.441742Z",
     "shell.execute_reply": "2025-05-21T06:20:16.441014Z",
     "shell.execute_reply.started": "2025-05-21T06:20:13.823456Z"
    },
    "trusted": true
   },
   "outputs": [
    {
     "name": "stderr",
     "output_type": "stream",
     "text": [
      "Generating positive pairs: 100%|██████████| 13752/13752 [00:01<00:00, 9429.17it/s]\n",
      "Generating negative pairs: 100%|██████████| 256977/256977 [00:01<00:00, 223596.75it/s]\n"
     ]
    }
   ],
   "source": [
    "train_examples = []\n",
    "\n",
    "# positive pairs (from the same cluster)\n",
    "for cluster_chunks in tqdm(clustered_chunks.values(), desc=\"Generating positive pairs\"):\n",
    "    if len(cluster_chunks) < 2:\n",
    "        continue\n",
    "    for i in range(len(cluster_chunks) - 1):\n",
    "        train_examples.append(InputExample(texts=[cluster_chunks[i], cluster_chunks[i + 1]], label=1.0))\n",
    "\n",
    "# negative pairs (random chunks from different clusters)\n",
    "for _ in tqdm(range(len(train_examples)), desc=\"Generating negative pairs\"):\n",
    "    chunk1 = random.choice(all_chunks)\n",
    "    chunk2 = random.choice(all_chunks)\n",
    "    train_examples.append(InputExample(texts=[chunk1, chunk2], label=0.0))\n"
   ]
  },
  {
   "cell_type": "markdown",
   "metadata": {},
   "source": [
    "## Load the data"
   ]
  },
  {
   "cell_type": "code",
   "execution_count": null,
   "metadata": {
    "execution": {
     "iopub.execute_input": "2025-05-21T06:20:16.447426Z",
     "iopub.status.busy": "2025-05-21T06:20:16.446731Z",
     "iopub.status.idle": "2025-05-21T06:20:16.461497Z",
     "shell.execute_reply": "2025-05-21T06:20:16.460820Z",
     "shell.execute_reply.started": "2025-05-21T06:20:16.447408Z"
    },
    "trusted": true
   },
   "outputs": [],
   "source": [
    "train_dataloader = DataLoader(train_examples, shuffle=True, batch_size=16, num_workers=0)"
   ]
  },
  {
   "cell_type": "code",
   "execution_count": null,
   "metadata": {
    "execution": {
     "iopub.execute_input": "2025-05-21T06:20:16.476836Z",
     "iopub.status.busy": "2025-05-21T06:20:16.476614Z",
     "iopub.status.idle": "2025-05-21T06:20:16.491526Z",
     "shell.execute_reply": "2025-05-21T06:20:16.490857Z",
     "shell.execute_reply.started": "2025-05-21T06:20:16.476812Z"
    },
    "trusted": true
   },
   "outputs": [
    {
     "name": "stdout",
     "output_type": "stream",
     "text": [
      "<class 'list'>\n",
      "<class 'sentence_transformers.readers.InputExample.InputExample'>\n",
      "1.0\n"
     ]
    }
   ],
   "source": [
    "print(type(train_examples))\n",
    "print(type(train_examples[0]))\n",
    "print(train_examples[0].label)"
   ]
  },
  {
   "cell_type": "code",
   "execution_count": null,
   "metadata": {
    "execution": {
     "iopub.execute_input": "2025-05-21T06:20:16.492396Z",
     "iopub.status.busy": "2025-05-21T06:20:16.492194Z",
     "iopub.status.idle": "2025-05-21T06:20:16.507056Z",
     "shell.execute_reply": "2025-05-21T06:20:16.506515Z",
     "shell.execute_reply.started": "2025-05-21T06:20:16.492381Z"
    },
    "trusted": true
   },
   "outputs": [],
   "source": [
    "class ProgressLogger:\n",
    "    def __init__(self, total_steps):\n",
    "        self.total_steps = total_steps\n",
    "        self.current_step = 0\n",
    "\n",
    "    def on_step(self):\n",
    "        self.current_step += 1\n",
    "        if self.current_step % 1000 == 0 or self.current_step == self.total_steps:\n",
    "            print(f\"Training step {self.current_step}/{self.total_steps * 3}\")\n",
    "\n",
    "batches_per_epoch = len(train_dataloader)\n",
    "total_steps = batches_per_epoch * 1\n",
    "progress_logger = ProgressLogger(total_steps)\n",
    "\n",
    "class LossWithProgress(losses.CosineSimilarityLoss):\n",
    "    def forward(self, sentence_features, labels):\n",
    "        progress_logger.on_step()\n",
    "        return super().forward(sentence_features, labels)\n",
    "\n",
    "train_loss = LossWithProgress(model)"
   ]
  },
  {
   "cell_type": "code",
   "execution_count": null,
   "metadata": {
    "execution": {
     "iopub.execute_input": "2025-05-21T06:20:16.508058Z",
     "iopub.status.busy": "2025-05-21T06:20:16.507832Z",
     "iopub.status.idle": "2025-05-21T06:20:16.524473Z",
     "shell.execute_reply": "2025-05-21T06:20:16.523762Z",
     "shell.execute_reply.started": "2025-05-21T06:20:16.508043Z"
    },
    "trusted": true
   },
   "outputs": [
    {
     "name": "stdout",
     "output_type": "stream",
     "text": [
      "True\n"
     ]
    }
   ],
   "source": [
    "print(torch.cuda.is_available())"
   ]
  },
  {
   "cell_type": "code",
   "execution_count": 22,
   "metadata": {
    "execution": {
     "iopub.execute_input": "2025-05-21T06:20:16.525493Z",
     "iopub.status.busy": "2025-05-21T06:20:16.525182Z",
     "iopub.status.idle": "2025-05-21T06:20:16.542603Z",
     "shell.execute_reply": "2025-05-21T06:20:16.542037Z",
     "shell.execute_reply.started": "2025-05-21T06:20:16.525477Z"
    },
    "trusted": true
   },
   "outputs": [
    {
     "data": {
      "text/plain": [
       "SentenceTransformer(\n",
       "  (0): Transformer({'max_seq_length': 128, 'do_lower_case': False}) with Transformer model: BertModel \n",
       "  (1): Pooling({'word_embedding_dimension': 384, 'pooling_mode_cls_token': False, 'pooling_mode_mean_tokens': True, 'pooling_mode_max_tokens': False, 'pooling_mode_mean_sqrt_len_tokens': False, 'pooling_mode_weightedmean_tokens': False, 'pooling_mode_lasttoken': False, 'include_prompt': True})\n",
       ")"
      ]
     },
     "execution_count": 22,
     "metadata": {},
     "output_type": "execute_result"
    }
   ],
   "source": [
    "device = \"cuda\" if torch.cuda.is_available() else \"cpu\"\n",
    "model.to(device)"
   ]
  },
  {
   "cell_type": "code",
   "execution_count": 23,
   "metadata": {
    "execution": {
     "iopub.execute_input": "2025-05-21T06:20:16.543493Z",
     "iopub.status.busy": "2025-05-21T06:20:16.543286Z",
     "iopub.status.idle": "2025-05-21T06:20:16.547390Z",
     "shell.execute_reply": "2025-05-21T06:20:16.546621Z",
     "shell.execute_reply.started": "2025-05-21T06:20:16.543473Z"
    },
    "trusted": true
   },
   "outputs": [],
   "source": [
    "logging.basicConfig(format='%(asctime)s - %(message)s', level=logging.INFO)"
   ]
  },
  {
   "cell_type": "code",
   "execution_count": 24,
   "metadata": {
    "execution": {
     "iopub.execute_input": "2025-05-21T06:20:16.548243Z",
     "iopub.status.busy": "2025-05-21T06:20:16.548031Z",
     "iopub.status.idle": "2025-05-21T06:20:16.562336Z",
     "shell.execute_reply": "2025-05-21T06:20:16.561755Z",
     "shell.execute_reply.started": "2025-05-21T06:20:16.548223Z"
    },
    "trusted": true
   },
   "outputs": [
    {
     "name": "stdout",
     "output_type": "stream",
     "text": [
      "True\n",
      "0\n",
      "Tesla P100-PCIE-16GB\n"
     ]
    }
   ],
   "source": [
    "import torch\n",
    "print(torch.cuda.is_available())\n",
    "print(torch.cuda.current_device())\n",
    "print(torch.cuda.get_device_name(0))"
   ]
  },
  {
   "cell_type": "code",
   "execution_count": 25,
   "metadata": {
    "execution": {
     "iopub.execute_input": "2025-05-21T06:20:16.563281Z",
     "iopub.status.busy": "2025-05-21T06:20:16.563062Z",
     "iopub.status.idle": "2025-05-21T06:20:16.577678Z",
     "shell.execute_reply": "2025-05-21T06:20:16.577134Z",
     "shell.execute_reply.started": "2025-05-21T06:20:16.563262Z"
    },
    "trusted": true
   },
   "outputs": [
    {
     "name": "stdout",
     "output_type": "stream",
     "text": [
      "Torch version: 2.6.0+cu124\n",
      "CUDA version: 12.4\n",
      "cuDNN version: 90100\n",
      "Is CUDA available: True\n"
     ]
    }
   ],
   "source": [
    "print(\"Torch version:\", torch.__version__)\n",
    "print(\"CUDA version:\", torch.version.cuda)\n",
    "print(\"cuDNN version:\", torch.backends.cudnn.version())\n",
    "print(\"Is CUDA available:\", torch.cuda.is_available())"
   ]
  },
  {
   "cell_type": "code",
   "execution_count": 26,
   "metadata": {
    "execution": {
     "iopub.execute_input": "2025-05-21T06:20:16.579057Z",
     "iopub.status.busy": "2025-05-21T06:20:16.578443Z",
     "iopub.status.idle": "2025-05-21T06:20:16.594386Z",
     "shell.execute_reply": "2025-05-21T06:20:16.593780Z",
     "shell.execute_reply.started": "2025-05-21T06:20:16.579032Z"
    },
    "trusted": true
   },
   "outputs": [
    {
     "data": {
      "text/plain": [
       "SentenceTransformer(\n",
       "  (0): Transformer({'max_seq_length': 128, 'do_lower_case': False}) with Transformer model: BertModel \n",
       "  (1): Pooling({'word_embedding_dimension': 384, 'pooling_mode_cls_token': False, 'pooling_mode_mean_tokens': True, 'pooling_mode_max_tokens': False, 'pooling_mode_mean_sqrt_len_tokens': False, 'pooling_mode_weightedmean_tokens': False, 'pooling_mode_lasttoken': False, 'include_prompt': True})\n",
       ")"
      ]
     },
     "execution_count": 26,
     "metadata": {},
     "output_type": "execute_result"
    }
   ],
   "source": [
    "model.train()"
   ]
  },
  {
   "cell_type": "code",
   "execution_count": null,
   "metadata": {
    "execution": {
     "iopub.execute_input": "2025-05-21T06:20:16.597686Z",
     "iopub.status.busy": "2025-05-21T06:20:16.597516Z",
     "iopub.status.idle": "2025-05-21T06:20:16.607278Z",
     "shell.execute_reply": "2025-05-21T06:20:16.606692Z",
     "shell.execute_reply.started": "2025-05-21T06:20:16.597673Z"
    },
    "trusted": true
   },
   "outputs": [],
   "source": [
    "os.environ[\"WANDB_DISABLED\"] = \"true\""
   ]
  },
  {
   "cell_type": "code",
   "execution_count": 28,
   "metadata": {
    "execution": {
     "iopub.execute_input": "2025-05-21T06:20:16.608317Z",
     "iopub.status.busy": "2025-05-21T06:20:16.608094Z",
     "iopub.status.idle": "2025-05-21T06:20:16.621634Z",
     "shell.execute_reply": "2025-05-21T06:20:16.620930Z",
     "shell.execute_reply.started": "2025-05-21T06:20:16.608291Z"
    },
    "trusted": true
   },
   "outputs": [
    {
     "data": {
      "text/plain": [
       "9636"
      ]
     },
     "execution_count": 28,
     "metadata": {},
     "output_type": "execute_result"
    }
   ],
   "source": [
    "int(0.1 * len(train_dataloader) * 3)"
   ]
  },
  {
   "cell_type": "markdown",
   "metadata": {},
   "source": [
    "## Fine-tuning the model"
   ]
  },
  {
   "cell_type": "code",
   "execution_count": 29,
   "metadata": {
    "execution": {
     "iopub.execute_input": "2025-05-21T06:20:16.622574Z",
     "iopub.status.busy": "2025-05-21T06:20:16.622361Z",
     "iopub.status.idle": "2025-05-21T11:31:36.694471Z",
     "shell.execute_reply": "2025-05-21T11:31:36.693772Z",
     "shell.execute_reply.started": "2025-05-21T06:20:16.622550Z"
    },
    "trusted": true
   },
   "outputs": [
    {
     "name": "stdout",
     "output_type": "stream",
     "text": [
      "Starting training...\n"
     ]
    },
    {
     "name": "stderr",
     "output_type": "stream",
     "text": [
      "Using the `WANDB_DISABLED` environment variable is deprecated and will be removed in v5. Use the --report_to flag to control the integrations used for logging result (for instance --report_to none).\n",
      "Using the `WANDB_DISABLED` environment variable is deprecated and will be removed in v5. Use the --report_to flag to control the integrations used for logging result (for instance --report_to none).\n"
     ]
    },
    {
     "data": {
      "application/vnd.jupyter.widget-view+json": {
       "model_id": "",
       "version_major": 2,
       "version_minor": 0
      },
      "text/plain": [
       "Computing widget examples:   0%|          | 0/1 [00:00<?, ?example/s]"
      ]
     },
     "metadata": {},
     "output_type": "display_data"
    },
    {
     "data": {
      "text/html": [
       "\n",
       "    <div>\n",
       "      \n",
       "      <progress value='96369' max='96369' style='width:300px; height:20px; vertical-align: middle;'></progress>\n",
       "      [96369/96369 5:10:31, Epoch 3/3]\n",
       "    </div>\n",
       "    <table border=\"1\" class=\"dataframe\">\n",
       "  <thead>\n",
       " <tr style=\"text-align: left;\">\n",
       "      <th>Step</th>\n",
       "      <th>Training Loss</th>\n",
       "    </tr>\n",
       "  </thead>\n",
       "  <tbody>\n",
       "    <tr>\n",
       "      <td>500</td>\n",
       "      <td>0.018800</td>\n",
       "    </tr>\n",
       "    <tr>\n",
       "      <td>1000</td>\n",
       "      <td>0.017500</td>\n",
       "    </tr>\n",
       "    <tr>\n",
       "      <td>1500</td>\n",
       "      <td>0.017700</td>\n",
       "    </tr>\n",
       "    <tr>\n",
       "      <td>2000</td>\n",
       "      <td>0.016600</td>\n",
       "    </tr>\n",
       "    <tr>\n",
       "      <td>2500</td>\n",
       "      <td>0.017800</td>\n",
       "    </tr>\n",
       "    <tr>\n",
       "      <td>3000</td>\n",
       "      <td>0.017700</td>\n",
       "    </tr>\n",
       "    <tr>\n",
       "      <td>3500</td>\n",
       "      <td>0.017800</td>\n",
       "    </tr>\n",
       "    <tr>\n",
       "      <td>4000</td>\n",
       "      <td>0.017300</td>\n",
       "    </tr>\n",
       "    <tr>\n",
       "      <td>4500</td>\n",
       "      <td>0.017500</td>\n",
       "    </tr>\n",
       "    <tr>\n",
       "      <td>5000</td>\n",
       "      <td>0.017600</td>\n",
       "    </tr>\n",
       "    <tr>\n",
       "      <td>5500</td>\n",
       "      <td>0.017900</td>\n",
       "    </tr>\n",
       "    <tr>\n",
       "      <td>6000</td>\n",
       "      <td>0.019800</td>\n",
       "    </tr>\n",
       "    <tr>\n",
       "      <td>6500</td>\n",
       "      <td>0.018400</td>\n",
       "    </tr>\n",
       "    <tr>\n",
       "      <td>7000</td>\n",
       "      <td>0.018700</td>\n",
       "    </tr>\n",
       "    <tr>\n",
       "      <td>7500</td>\n",
       "      <td>0.019700</td>\n",
       "    </tr>\n",
       "    <tr>\n",
       "      <td>8000</td>\n",
       "      <td>0.017700</td>\n",
       "    </tr>\n",
       "    <tr>\n",
       "      <td>8500</td>\n",
       "      <td>0.017700</td>\n",
       "    </tr>\n",
       "    <tr>\n",
       "      <td>9000</td>\n",
       "      <td>0.018000</td>\n",
       "    </tr>\n",
       "    <tr>\n",
       "      <td>9500</td>\n",
       "      <td>0.018200</td>\n",
       "    </tr>\n",
       "    <tr>\n",
       "      <td>10000</td>\n",
       "      <td>0.018900</td>\n",
       "    </tr>\n",
       "    <tr>\n",
       "      <td>10500</td>\n",
       "      <td>0.019100</td>\n",
       "    </tr>\n",
       "    <tr>\n",
       "      <td>11000</td>\n",
       "      <td>0.019800</td>\n",
       "    </tr>\n",
       "    <tr>\n",
       "      <td>11500</td>\n",
       "      <td>0.018300</td>\n",
       "    </tr>\n",
       "    <tr>\n",
       "      <td>12000</td>\n",
       "      <td>0.018500</td>\n",
       "    </tr>\n",
       "    <tr>\n",
       "      <td>12500</td>\n",
       "      <td>0.018800</td>\n",
       "    </tr>\n",
       "    <tr>\n",
       "      <td>13000</td>\n",
       "      <td>0.018700</td>\n",
       "    </tr>\n",
       "    <tr>\n",
       "      <td>13500</td>\n",
       "      <td>0.018400</td>\n",
       "    </tr>\n",
       "    <tr>\n",
       "      <td>14000</td>\n",
       "      <td>0.019800</td>\n",
       "    </tr>\n",
       "    <tr>\n",
       "      <td>14500</td>\n",
       "      <td>0.019300</td>\n",
       "    </tr>\n",
       "    <tr>\n",
       "      <td>15000</td>\n",
       "      <td>0.018200</td>\n",
       "    </tr>\n",
       "    <tr>\n",
       "      <td>15500</td>\n",
       "      <td>0.017500</td>\n",
       "    </tr>\n",
       "    <tr>\n",
       "      <td>16000</td>\n",
       "      <td>0.018000</td>\n",
       "    </tr>\n",
       "    <tr>\n",
       "      <td>16500</td>\n",
       "      <td>0.017100</td>\n",
       "    </tr>\n",
       "    <tr>\n",
       "      <td>17000</td>\n",
       "      <td>0.016300</td>\n",
       "    </tr>\n",
       "    <tr>\n",
       "      <td>17500</td>\n",
       "      <td>0.018300</td>\n",
       "    </tr>\n",
       "    <tr>\n",
       "      <td>18000</td>\n",
       "      <td>0.020100</td>\n",
       "    </tr>\n",
       "    <tr>\n",
       "      <td>18500</td>\n",
       "      <td>0.017700</td>\n",
       "    </tr>\n",
       "    <tr>\n",
       "      <td>19000</td>\n",
       "      <td>0.016200</td>\n",
       "    </tr>\n",
       "    <tr>\n",
       "      <td>19500</td>\n",
       "      <td>0.017100</td>\n",
       "    </tr>\n",
       "    <tr>\n",
       "      <td>20000</td>\n",
       "      <td>0.017600</td>\n",
       "    </tr>\n",
       "    <tr>\n",
       "      <td>20500</td>\n",
       "      <td>0.017000</td>\n",
       "    </tr>\n",
       "    <tr>\n",
       "      <td>21000</td>\n",
       "      <td>0.016500</td>\n",
       "    </tr>\n",
       "    <tr>\n",
       "      <td>21500</td>\n",
       "      <td>0.016900</td>\n",
       "    </tr>\n",
       "    <tr>\n",
       "      <td>22000</td>\n",
       "      <td>0.017900</td>\n",
       "    </tr>\n",
       "    <tr>\n",
       "      <td>22500</td>\n",
       "      <td>0.017900</td>\n",
       "    </tr>\n",
       "    <tr>\n",
       "      <td>23000</td>\n",
       "      <td>0.017100</td>\n",
       "    </tr>\n",
       "    <tr>\n",
       "      <td>23500</td>\n",
       "      <td>0.017000</td>\n",
       "    </tr>\n",
       "    <tr>\n",
       "      <td>24000</td>\n",
       "      <td>0.016700</td>\n",
       "    </tr>\n",
       "    <tr>\n",
       "      <td>24500</td>\n",
       "      <td>0.016400</td>\n",
       "    </tr>\n",
       "    <tr>\n",
       "      <td>25000</td>\n",
       "      <td>0.016900</td>\n",
       "    </tr>\n",
       "    <tr>\n",
       "      <td>25500</td>\n",
       "      <td>0.017100</td>\n",
       "    </tr>\n",
       "    <tr>\n",
       "      <td>26000</td>\n",
       "      <td>0.016500</td>\n",
       "    </tr>\n",
       "    <tr>\n",
       "      <td>26500</td>\n",
       "      <td>0.016900</td>\n",
       "    </tr>\n",
       "    <tr>\n",
       "      <td>27000</td>\n",
       "      <td>0.017000</td>\n",
       "    </tr>\n",
       "    <tr>\n",
       "      <td>27500</td>\n",
       "      <td>0.016300</td>\n",
       "    </tr>\n",
       "    <tr>\n",
       "      <td>28000</td>\n",
       "      <td>0.015200</td>\n",
       "    </tr>\n",
       "    <tr>\n",
       "      <td>28500</td>\n",
       "      <td>0.014100</td>\n",
       "    </tr>\n",
       "    <tr>\n",
       "      <td>29000</td>\n",
       "      <td>0.015600</td>\n",
       "    </tr>\n",
       "    <tr>\n",
       "      <td>29500</td>\n",
       "      <td>0.016200</td>\n",
       "    </tr>\n",
       "    <tr>\n",
       "      <td>30000</td>\n",
       "      <td>0.014600</td>\n",
       "    </tr>\n",
       "    <tr>\n",
       "      <td>30500</td>\n",
       "      <td>0.015400</td>\n",
       "    </tr>\n",
       "    <tr>\n",
       "      <td>31000</td>\n",
       "      <td>0.015900</td>\n",
       "    </tr>\n",
       "    <tr>\n",
       "      <td>31500</td>\n",
       "      <td>0.015900</td>\n",
       "    </tr>\n",
       "    <tr>\n",
       "      <td>32000</td>\n",
       "      <td>0.015700</td>\n",
       "    </tr>\n",
       "    <tr>\n",
       "      <td>32500</td>\n",
       "      <td>0.014500</td>\n",
       "    </tr>\n",
       "    <tr>\n",
       "      <td>33000</td>\n",
       "      <td>0.012200</td>\n",
       "    </tr>\n",
       "    <tr>\n",
       "      <td>33500</td>\n",
       "      <td>0.012500</td>\n",
       "    </tr>\n",
       "    <tr>\n",
       "      <td>34000</td>\n",
       "      <td>0.012500</td>\n",
       "    </tr>\n",
       "    <tr>\n",
       "      <td>34500</td>\n",
       "      <td>0.012600</td>\n",
       "    </tr>\n",
       "    <tr>\n",
       "      <td>35000</td>\n",
       "      <td>0.013000</td>\n",
       "    </tr>\n",
       "    <tr>\n",
       "      <td>35500</td>\n",
       "      <td>0.012900</td>\n",
       "    </tr>\n",
       "    <tr>\n",
       "      <td>36000</td>\n",
       "      <td>0.013100</td>\n",
       "    </tr>\n",
       "    <tr>\n",
       "      <td>36500</td>\n",
       "      <td>0.012000</td>\n",
       "    </tr>\n",
       "    <tr>\n",
       "      <td>37000</td>\n",
       "      <td>0.012700</td>\n",
       "    </tr>\n",
       "    <tr>\n",
       "      <td>37500</td>\n",
       "      <td>0.012600</td>\n",
       "    </tr>\n",
       "    <tr>\n",
       "      <td>38000</td>\n",
       "      <td>0.012800</td>\n",
       "    </tr>\n",
       "    <tr>\n",
       "      <td>38500</td>\n",
       "      <td>0.012200</td>\n",
       "    </tr>\n",
       "    <tr>\n",
       "      <td>39000</td>\n",
       "      <td>0.013300</td>\n",
       "    </tr>\n",
       "    <tr>\n",
       "      <td>39500</td>\n",
       "      <td>0.013100</td>\n",
       "    </tr>\n",
       "    <tr>\n",
       "      <td>40000</td>\n",
       "      <td>0.013200</td>\n",
       "    </tr>\n",
       "    <tr>\n",
       "      <td>40500</td>\n",
       "      <td>0.012700</td>\n",
       "    </tr>\n",
       "    <tr>\n",
       "      <td>41000</td>\n",
       "      <td>0.013800</td>\n",
       "    </tr>\n",
       "    <tr>\n",
       "      <td>41500</td>\n",
       "      <td>0.012800</td>\n",
       "    </tr>\n",
       "    <tr>\n",
       "      <td>42000</td>\n",
       "      <td>0.013300</td>\n",
       "    </tr>\n",
       "    <tr>\n",
       "      <td>42500</td>\n",
       "      <td>0.012300</td>\n",
       "    </tr>\n",
       "    <tr>\n",
       "      <td>43000</td>\n",
       "      <td>0.013000</td>\n",
       "    </tr>\n",
       "    <tr>\n",
       "      <td>43500</td>\n",
       "      <td>0.011700</td>\n",
       "    </tr>\n",
       "    <tr>\n",
       "      <td>44000</td>\n",
       "      <td>0.012800</td>\n",
       "    </tr>\n",
       "    <tr>\n",
       "      <td>44500</td>\n",
       "      <td>0.012700</td>\n",
       "    </tr>\n",
       "    <tr>\n",
       "      <td>45000</td>\n",
       "      <td>0.012700</td>\n",
       "    </tr>\n",
       "    <tr>\n",
       "      <td>45500</td>\n",
       "      <td>0.013300</td>\n",
       "    </tr>\n",
       "    <tr>\n",
       "      <td>46000</td>\n",
       "      <td>0.013100</td>\n",
       "    </tr>\n",
       "    <tr>\n",
       "      <td>46500</td>\n",
       "      <td>0.012300</td>\n",
       "    </tr>\n",
       "    <tr>\n",
       "      <td>47000</td>\n",
       "      <td>0.012900</td>\n",
       "    </tr>\n",
       "    <tr>\n",
       "      <td>47500</td>\n",
       "      <td>0.012500</td>\n",
       "    </tr>\n",
       "    <tr>\n",
       "      <td>48000</td>\n",
       "      <td>0.011900</td>\n",
       "    </tr>\n",
       "    <tr>\n",
       "      <td>48500</td>\n",
       "      <td>0.012600</td>\n",
       "    </tr>\n",
       "    <tr>\n",
       "      <td>49000</td>\n",
       "      <td>0.011600</td>\n",
       "    </tr>\n",
       "    <tr>\n",
       "      <td>49500</td>\n",
       "      <td>0.012100</td>\n",
       "    </tr>\n",
       "    <tr>\n",
       "      <td>50000</td>\n",
       "      <td>0.012100</td>\n",
       "    </tr>\n",
       "    <tr>\n",
       "      <td>50500</td>\n",
       "      <td>0.013200</td>\n",
       "    </tr>\n",
       "    <tr>\n",
       "      <td>51000</td>\n",
       "      <td>0.012300</td>\n",
       "    </tr>\n",
       "    <tr>\n",
       "      <td>51500</td>\n",
       "      <td>0.011500</td>\n",
       "    </tr>\n",
       "    <tr>\n",
       "      <td>52000</td>\n",
       "      <td>0.012300</td>\n",
       "    </tr>\n",
       "    <tr>\n",
       "      <td>52500</td>\n",
       "      <td>0.011200</td>\n",
       "    </tr>\n",
       "    <tr>\n",
       "      <td>53000</td>\n",
       "      <td>0.011500</td>\n",
       "    </tr>\n",
       "    <tr>\n",
       "      <td>53500</td>\n",
       "      <td>0.011300</td>\n",
       "    </tr>\n",
       "    <tr>\n",
       "      <td>54000</td>\n",
       "      <td>0.011800</td>\n",
       "    </tr>\n",
       "    <tr>\n",
       "      <td>54500</td>\n",
       "      <td>0.011700</td>\n",
       "    </tr>\n",
       "    <tr>\n",
       "      <td>55000</td>\n",
       "      <td>0.011800</td>\n",
       "    </tr>\n",
       "    <tr>\n",
       "      <td>55500</td>\n",
       "      <td>0.012400</td>\n",
       "    </tr>\n",
       "    <tr>\n",
       "      <td>56000</td>\n",
       "      <td>0.011900</td>\n",
       "    </tr>\n",
       "    <tr>\n",
       "      <td>56500</td>\n",
       "      <td>0.012500</td>\n",
       "    </tr>\n",
       "    <tr>\n",
       "      <td>57000</td>\n",
       "      <td>0.010500</td>\n",
       "    </tr>\n",
       "    <tr>\n",
       "      <td>57500</td>\n",
       "      <td>0.012500</td>\n",
       "    </tr>\n",
       "    <tr>\n",
       "      <td>58000</td>\n",
       "      <td>0.012100</td>\n",
       "    </tr>\n",
       "    <tr>\n",
       "      <td>58500</td>\n",
       "      <td>0.011600</td>\n",
       "    </tr>\n",
       "    <tr>\n",
       "      <td>59000</td>\n",
       "      <td>0.011900</td>\n",
       "    </tr>\n",
       "    <tr>\n",
       "      <td>59500</td>\n",
       "      <td>0.011900</td>\n",
       "    </tr>\n",
       "    <tr>\n",
       "      <td>60000</td>\n",
       "      <td>0.011500</td>\n",
       "    </tr>\n",
       "    <tr>\n",
       "      <td>60500</td>\n",
       "      <td>0.011600</td>\n",
       "    </tr>\n",
       "    <tr>\n",
       "      <td>61000</td>\n",
       "      <td>0.012100</td>\n",
       "    </tr>\n",
       "    <tr>\n",
       "      <td>61500</td>\n",
       "      <td>0.011800</td>\n",
       "    </tr>\n",
       "    <tr>\n",
       "      <td>62000</td>\n",
       "      <td>0.011000</td>\n",
       "    </tr>\n",
       "    <tr>\n",
       "      <td>62500</td>\n",
       "      <td>0.011100</td>\n",
       "    </tr>\n",
       "    <tr>\n",
       "      <td>63000</td>\n",
       "      <td>0.011000</td>\n",
       "    </tr>\n",
       "    <tr>\n",
       "      <td>63500</td>\n",
       "      <td>0.011300</td>\n",
       "    </tr>\n",
       "    <tr>\n",
       "      <td>64000</td>\n",
       "      <td>0.011900</td>\n",
       "    </tr>\n",
       "    <tr>\n",
       "      <td>64500</td>\n",
       "      <td>0.009500</td>\n",
       "    </tr>\n",
       "    <tr>\n",
       "      <td>65000</td>\n",
       "      <td>0.009000</td>\n",
       "    </tr>\n",
       "    <tr>\n",
       "      <td>65500</td>\n",
       "      <td>0.009000</td>\n",
       "    </tr>\n",
       "    <tr>\n",
       "      <td>66000</td>\n",
       "      <td>0.009200</td>\n",
       "    </tr>\n",
       "    <tr>\n",
       "      <td>66500</td>\n",
       "      <td>0.009600</td>\n",
       "    </tr>\n",
       "    <tr>\n",
       "      <td>67000</td>\n",
       "      <td>0.010100</td>\n",
       "    </tr>\n",
       "    <tr>\n",
       "      <td>67500</td>\n",
       "      <td>0.009100</td>\n",
       "    </tr>\n",
       "    <tr>\n",
       "      <td>68000</td>\n",
       "      <td>0.009700</td>\n",
       "    </tr>\n",
       "    <tr>\n",
       "      <td>68500</td>\n",
       "      <td>0.009500</td>\n",
       "    </tr>\n",
       "    <tr>\n",
       "      <td>69000</td>\n",
       "      <td>0.008400</td>\n",
       "    </tr>\n",
       "    <tr>\n",
       "      <td>69500</td>\n",
       "      <td>0.009400</td>\n",
       "    </tr>\n",
       "    <tr>\n",
       "      <td>70000</td>\n",
       "      <td>0.008800</td>\n",
       "    </tr>\n",
       "    <tr>\n",
       "      <td>70500</td>\n",
       "      <td>0.009800</td>\n",
       "    </tr>\n",
       "    <tr>\n",
       "      <td>71000</td>\n",
       "      <td>0.008900</td>\n",
       "    </tr>\n",
       "    <tr>\n",
       "      <td>71500</td>\n",
       "      <td>0.009400</td>\n",
       "    </tr>\n",
       "    <tr>\n",
       "      <td>72000</td>\n",
       "      <td>0.008200</td>\n",
       "    </tr>\n",
       "    <tr>\n",
       "      <td>72500</td>\n",
       "      <td>0.008500</td>\n",
       "    </tr>\n",
       "    <tr>\n",
       "      <td>73000</td>\n",
       "      <td>0.009400</td>\n",
       "    </tr>\n",
       "    <tr>\n",
       "      <td>73500</td>\n",
       "      <td>0.009500</td>\n",
       "    </tr>\n",
       "    <tr>\n",
       "      <td>74000</td>\n",
       "      <td>0.008800</td>\n",
       "    </tr>\n",
       "    <tr>\n",
       "      <td>74500</td>\n",
       "      <td>0.008300</td>\n",
       "    </tr>\n",
       "    <tr>\n",
       "      <td>75000</td>\n",
       "      <td>0.008900</td>\n",
       "    </tr>\n",
       "    <tr>\n",
       "      <td>75500</td>\n",
       "      <td>0.008800</td>\n",
       "    </tr>\n",
       "    <tr>\n",
       "      <td>76000</td>\n",
       "      <td>0.009400</td>\n",
       "    </tr>\n",
       "    <tr>\n",
       "      <td>76500</td>\n",
       "      <td>0.008400</td>\n",
       "    </tr>\n",
       "    <tr>\n",
       "      <td>77000</td>\n",
       "      <td>0.008800</td>\n",
       "    </tr>\n",
       "    <tr>\n",
       "      <td>77500</td>\n",
       "      <td>0.008600</td>\n",
       "    </tr>\n",
       "    <tr>\n",
       "      <td>78000</td>\n",
       "      <td>0.008500</td>\n",
       "    </tr>\n",
       "    <tr>\n",
       "      <td>78500</td>\n",
       "      <td>0.009200</td>\n",
       "    </tr>\n",
       "    <tr>\n",
       "      <td>79000</td>\n",
       "      <td>0.008500</td>\n",
       "    </tr>\n",
       "    <tr>\n",
       "      <td>79500</td>\n",
       "      <td>0.008400</td>\n",
       "    </tr>\n",
       "    <tr>\n",
       "      <td>80000</td>\n",
       "      <td>0.008400</td>\n",
       "    </tr>\n",
       "    <tr>\n",
       "      <td>80500</td>\n",
       "      <td>0.008700</td>\n",
       "    </tr>\n",
       "    <tr>\n",
       "      <td>81000</td>\n",
       "      <td>0.007800</td>\n",
       "    </tr>\n",
       "    <tr>\n",
       "      <td>81500</td>\n",
       "      <td>0.008400</td>\n",
       "    </tr>\n",
       "    <tr>\n",
       "      <td>82000</td>\n",
       "      <td>0.008900</td>\n",
       "    </tr>\n",
       "    <tr>\n",
       "      <td>82500</td>\n",
       "      <td>0.009400</td>\n",
       "    </tr>\n",
       "    <tr>\n",
       "      <td>83000</td>\n",
       "      <td>0.009400</td>\n",
       "    </tr>\n",
       "    <tr>\n",
       "      <td>83500</td>\n",
       "      <td>0.007900</td>\n",
       "    </tr>\n",
       "    <tr>\n",
       "      <td>84000</td>\n",
       "      <td>0.009200</td>\n",
       "    </tr>\n",
       "    <tr>\n",
       "      <td>84500</td>\n",
       "      <td>0.007900</td>\n",
       "    </tr>\n",
       "    <tr>\n",
       "      <td>85000</td>\n",
       "      <td>0.008600</td>\n",
       "    </tr>\n",
       "    <tr>\n",
       "      <td>85500</td>\n",
       "      <td>0.008100</td>\n",
       "    </tr>\n",
       "    <tr>\n",
       "      <td>86000</td>\n",
       "      <td>0.008200</td>\n",
       "    </tr>\n",
       "    <tr>\n",
       "      <td>86500</td>\n",
       "      <td>0.008400</td>\n",
       "    </tr>\n",
       "    <tr>\n",
       "      <td>87000</td>\n",
       "      <td>0.009000</td>\n",
       "    </tr>\n",
       "    <tr>\n",
       "      <td>87500</td>\n",
       "      <td>0.008600</td>\n",
       "    </tr>\n",
       "    <tr>\n",
       "      <td>88000</td>\n",
       "      <td>0.008000</td>\n",
       "    </tr>\n",
       "    <tr>\n",
       "      <td>88500</td>\n",
       "      <td>0.008800</td>\n",
       "    </tr>\n",
       "    <tr>\n",
       "      <td>89000</td>\n",
       "      <td>0.008300</td>\n",
       "    </tr>\n",
       "    <tr>\n",
       "      <td>89500</td>\n",
       "      <td>0.007900</td>\n",
       "    </tr>\n",
       "    <tr>\n",
       "      <td>90000</td>\n",
       "      <td>0.008000</td>\n",
       "    </tr>\n",
       "    <tr>\n",
       "      <td>90500</td>\n",
       "      <td>0.008200</td>\n",
       "    </tr>\n",
       "    <tr>\n",
       "      <td>91000</td>\n",
       "      <td>0.008000</td>\n",
       "    </tr>\n",
       "    <tr>\n",
       "      <td>91500</td>\n",
       "      <td>0.008400</td>\n",
       "    </tr>\n",
       "    <tr>\n",
       "      <td>92000</td>\n",
       "      <td>0.008200</td>\n",
       "    </tr>\n",
       "    <tr>\n",
       "      <td>92500</td>\n",
       "      <td>0.008300</td>\n",
       "    </tr>\n",
       "    <tr>\n",
       "      <td>93000</td>\n",
       "      <td>0.008500</td>\n",
       "    </tr>\n",
       "    <tr>\n",
       "      <td>93500</td>\n",
       "      <td>0.008200</td>\n",
       "    </tr>\n",
       "    <tr>\n",
       "      <td>94000</td>\n",
       "      <td>0.008300</td>\n",
       "    </tr>\n",
       "    <tr>\n",
       "      <td>94500</td>\n",
       "      <td>0.007700</td>\n",
       "    </tr>\n",
       "    <tr>\n",
       "      <td>95000</td>\n",
       "      <td>0.008500</td>\n",
       "    </tr>\n",
       "    <tr>\n",
       "      <td>95500</td>\n",
       "      <td>0.007500</td>\n",
       "    </tr>\n",
       "    <tr>\n",
       "      <td>96000</td>\n",
       "      <td>0.008500</td>\n",
       "    </tr>\n",
       "  </tbody>\n",
       "</table><p>"
      ],
      "text/plain": [
       "<IPython.core.display.HTML object>"
      ]
     },
     "metadata": {},
     "output_type": "display_data"
    },
    {
     "name": "stdout",
     "output_type": "stream",
     "text": [
      "Training step 1000/96369\n",
      "Training step 2000/96369\n",
      "Training step 3000/96369\n",
      "Training step 4000/96369\n",
      "Training step 5000/96369\n",
      "Training step 6000/96369\n",
      "Training step 7000/96369\n",
      "Training step 8000/96369\n",
      "Training step 9000/96369\n",
      "Training step 10000/96369\n",
      "Training step 11000/96369\n",
      "Training step 12000/96369\n",
      "Training step 13000/96369\n",
      "Training step 14000/96369\n",
      "Training step 15000/96369\n",
      "Training step 16000/96369\n",
      "Training step 17000/96369\n",
      "Training step 18000/96369\n",
      "Training step 19000/96369\n",
      "Training step 20000/96369\n",
      "Training step 21000/96369\n",
      "Training step 22000/96369\n",
      "Training step 23000/96369\n",
      "Training step 24000/96369\n",
      "Training step 25000/96369\n",
      "Training step 26000/96369\n",
      "Training step 27000/96369\n",
      "Training step 28000/96369\n",
      "Training step 29000/96369\n",
      "Training step 30000/96369\n",
      "Training step 31000/96369\n",
      "Training step 32000/96369\n",
      "Training step 32123/96369\n",
      "Training step 33000/96369\n",
      "Training step 34000/96369\n",
      "Training step 35000/96369\n",
      "Training step 36000/96369\n",
      "Training step 37000/96369\n",
      "Training step 38000/96369\n",
      "Training step 39000/96369\n",
      "Training step 40000/96369\n",
      "Training step 41000/96369\n",
      "Training step 42000/96369\n",
      "Training step 43000/96369\n",
      "Training step 44000/96369\n",
      "Training step 45000/96369\n",
      "Training step 46000/96369\n",
      "Training step 47000/96369\n",
      "Training step 48000/96369\n",
      "Training step 49000/96369\n",
      "Training step 50000/96369\n",
      "Training step 51000/96369\n",
      "Training step 52000/96369\n",
      "Training step 53000/96369\n",
      "Training step 54000/96369\n",
      "Training step 55000/96369\n",
      "Training step 56000/96369\n",
      "Training step 57000/96369\n",
      "Training step 58000/96369\n",
      "Training step 59000/96369\n",
      "Training step 60000/96369\n",
      "Training step 61000/96369\n",
      "Training step 62000/96369\n",
      "Training step 63000/96369\n",
      "Training step 64000/96369\n",
      "Training step 65000/96369\n",
      "Training step 66000/96369\n",
      "Training step 67000/96369\n",
      "Training step 68000/96369\n",
      "Training step 69000/96369\n",
      "Training step 70000/96369\n",
      "Training step 71000/96369\n",
      "Training step 72000/96369\n",
      "Training step 73000/96369\n",
      "Training step 74000/96369\n",
      "Training step 75000/96369\n",
      "Training step 76000/96369\n",
      "Training step 77000/96369\n",
      "Training step 78000/96369\n",
      "Training step 79000/96369\n",
      "Training step 80000/96369\n",
      "Training step 81000/96369\n",
      "Training step 82000/96369\n",
      "Training step 83000/96369\n",
      "Training step 84000/96369\n",
      "Training step 85000/96369\n",
      "Training step 86000/96369\n",
      "Training step 87000/96369\n",
      "Training step 88000/96369\n",
      "Training step 89000/96369\n",
      "Training step 90000/96369\n",
      "Training step 91000/96369\n",
      "Training step 92000/96369\n",
      "Training step 93000/96369\n",
      "Training step 94000/96369\n",
      "Training step 95000/96369\n",
      "Training step 96000/96369\n",
      "end training...\n"
     ]
    }
   ],
   "source": [
    " print(\"Starting training...\")\n",
    "\n",
    " model.fit(\n",
    "     train_objectives=[(train_dataloader, train_loss)],\n",
    "     epochs=3,\n",
    "     warmup_steps=int(0.1 * len(train_dataloader) * 3),\n",
    "     show_progress_bar=True,\n",
    "     output_path=None\n",
    " )\n",
    "\n",
    "print(\"end training...\")"
   ]
  },
  {
   "cell_type": "code",
   "execution_count": null,
   "metadata": {
    "execution": {
     "iopub.execute_input": "2025-05-21T11:31:36.696139Z",
     "iopub.status.busy": "2025-05-21T11:31:36.695371Z",
     "iopub.status.idle": "2025-05-21T11:31:38.292002Z",
     "shell.execute_reply": "2025-05-21T11:31:38.291223Z",
     "shell.execute_reply.started": "2025-05-21T11:31:36.696120Z"
    },
    "trusted": true
   },
   "outputs": [],
   "source": [
    "model.save(\"embedding_model\")"
   ]
  }
 ],
 "metadata": {
  "kaggle": {
   "accelerator": "gpu",
   "dataSources": [
    {
     "datasetId": 7256682,
     "sourceId": 11574317,
     "sourceType": "datasetVersion"
    },
    {
     "datasetId": 7442129,
     "sourceId": 11844821,
     "sourceType": "datasetVersion"
    },
    {
     "datasetId": 7457173,
     "sourceId": 11866940,
     "sourceType": "datasetVersion"
    },
    {
     "datasetId": 7461405,
     "sourceId": 11872802,
     "sourceType": "datasetVersion"
    },
    {
     "datasetId": 7462461,
     "sourceId": 11874292,
     "sourceType": "datasetVersion"
    },
    {
     "datasetId": 7470488,
     "sourceId": 11885909,
     "sourceType": "datasetVersion"
    }
   ],
   "dockerImageVersionId": 31041,
   "isGpuEnabled": true,
   "isInternetEnabled": true,
   "language": "python",
   "sourceType": "notebook"
  },
  "kernelspec": {
   "display_name": "Python 3",
   "language": "python",
   "name": "python3"
  },
  "language_info": {
   "codemirror_mode": {
    "name": "ipython",
    "version": 3
   },
   "file_extension": ".py",
   "mimetype": "text/x-python",
   "name": "python",
   "nbconvert_exporter": "python",
   "pygments_lexer": "ipython3",
   "version": "3.11.11"
  }
 },
 "nbformat": 4,
 "nbformat_minor": 4
}
