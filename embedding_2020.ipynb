{
 "cells": [
  {
   "cell_type": "markdown",
   "metadata": {},
   "source": [
    "## Libraries"
   ]
  },
  {
   "cell_type": "code",
   "execution_count": null,
   "metadata": {},
   "outputs": [],
   "source": [
    "from sentence_transformers import SentenceTransformer, InputExample, losses, evaluation, LoggingHandler\n",
    "from torch.utils.data import DataLoader\n",
    "from sklearn.cluster import KMeans\n",
    "from collections import Counter\n",
    "from tqdm import tqdm\n",
    "import numpy as np\n",
    "import logging\n",
    "import random\n",
    "import pickle\n",
    "import faiss\n",
    "import torch\n",
    "import json\n",
    "import re\n",
    "import os"
   ]
  },
  {
   "cell_type": "code",
   "execution_count": null,
   "metadata": {
    "execution": {
     "iopub.execute_input": "2025-05-17T08:17:12.049837Z",
     "iopub.status.busy": "2025-05-17T08:17:12.049611Z",
     "iopub.status.idle": "2025-05-17T08:17:12.796073Z",
     "shell.execute_reply": "2025-05-17T08:17:12.795493Z",
     "shell.execute_reply.started": "2025-05-17T08:17:12.049816Z"
    },
    "trusted": true
   },
   "outputs": [
    {
     "data": {
      "text/plain": [
       "457"
      ]
     },
     "execution_count": 2,
     "metadata": {},
     "output_type": "execute_result"
    }
   ],
   "source": [
    "with open(\"dataset_2020.json\", \"r\") as f:\n",
    "    data = json.load(f)\n",
    "\n",
    "len(data)"
   ]
  },
  {
   "cell_type": "code",
   "execution_count": null,
   "metadata": {
    "execution": {
     "iopub.execute_input": "2025-05-17T08:17:12.796862Z",
     "iopub.status.busy": "2025-05-17T08:17:12.796684Z",
     "iopub.status.idle": "2025-05-17T08:17:12.820900Z",
     "shell.execute_reply": "2025-05-17T08:17:12.820320Z",
     "shell.execute_reply.started": "2025-05-17T08:17:12.796848Z"
    },
    "trusted": true
   },
   "outputs": [
    {
     "data": {
      "text/plain": [
       "{'metadata': {'document_id': 'F2020001',\n",
       "  'domain': '',\n",
       "  'year': 2020,\n",
       "  'journal_number': '001',\n",
       "  'hijri_date': 'Dimanche 9 Joumada El Oula  1441',\n",
       "  'gregorian_date': '5 janvier 2020',\n",
       "  'document_link': 'https://www.joradp.dz/FTP/JO-FRANCAIS/2020/F2020001.pdf'},\n",
       " 'content': \"décret présidentiel n° 19-369 du aouel joumada el oula 1441 correspondant au 28 décembre 2019 déchargeant le ministre des affaires étrangères de l’intérim des fonctions de premier ministre. le président de la république, vu la constitution, notamment son article 91 5° et 6° vu le décret présidentiel n° 19-363 du 22 rabie ethani 1441 correspondant au 19 décembre 2019 chargeant le ministre des affaires étrangères de l’intérim du premier ministre décrète article 1er. m. sabri boukadoum, ministre des affaires étrangères est déchargé de l’intérim des fonctions de premier ministre. art. 2. le présent décret sera publié au journal officiel de la république algérienne démocratique et populaire. fait à alger, le aouel joumada el oula 1441 correspondant au 28 décembre 2019. abdelmadjid tebboune. décret présidentiel n° 19-370 du aouel joumada el oula 1441 correspondant au 28 décembre 2019 portant nomination du premier ministre. le président de la république, vu la constitution, notamment son article 91 5° et 6° décrète article 1er. m. abdelaziz djerad est nommé premier ministre. art. 2. le présent décret sera publié au journal officiel de la république algérienne démocratique et populaire. fait à alger, le aouel joumada el oula 1441 correspondant au 28 décembre 2019. abdelmadjid tebboune. décret présidentiel n° 20-01 du 6 joumada el oula 1441 correspondant au 2 janvier 2020 portant nomination des membres du gouvernement. le président de la république, ministre de la défense nationale, vu la constitution, notamment ses articles 91 6 et 93 alinéa 1er vu le décret présidentiel n° 19-370 du aouel joumada el oula 1441 correspondant au 28 décembre 2019 portant nomination de m. abdelaziz djerad, premier ministre d e c r e t s sabri boukadoum kamal beldjoud belkacem zeg mati abderrahmane raouya mohamed arkab tayeb zitouni youcef belme di mohamed ouadjaout semch-eddine c itour oyem benfri a malika bendouda sid ali k aldi brahim boumzar kaouter krikou farhat aït ali bra am cherif omari kamal nasri kamel rezig ammar bel imer farouk c iali arezki berraki acène mermouri abderrahmane benbouzid ahmed chawki fouad acheuk youcef. bessma azouar nassira ben arrats sid ahmed ferrouk i yassine djeridene bachir messaitfa foued c e at aïssa bekkai abderrahmane lotfi djamel benba mad. amza al sid c eik nassim diafat yacine el mahdi oualid rachid blade ane bachir youcef se airi salim dada nouredine morcelli ministre des affaires étrangères ministre de l'intérieur, des collectivités locales et de l'aménagement du territoire ministre de la justice, garde des sceaux ministre des finances ministre de l'énergie ministre des moudjahidine et des ayants droit ministre des affaires religieuses et des wakfs ministre de l'éducation nationale ministre de l'enseignement supérieur et de la recherche scientifique ministre de la formation et de l'enseignement professionnels ministre de la culture ministre de la jeunesse et des sports ministre de la poste et des télécommunications ministre de la solidarité nationale, de la famille et de la condition de la femme ministre de l’industrie et des mines ministre de l'agriculture et du développement rural ministre de l'habitat, de l'urbanisme et de la ville ministre du commerce ministre de la communication, porte-parole du gouvernement ministre des travaux publics et des transports ministre des ressources en eau ministre du tourisme, de l’artisanat et du travail familial ministre de la santé, de la population et de la réforme hospitalière ministre du travail, de l'emploi et de la sécurité sociale ministre des relations avec le parlement ministre de l’environnement et des énergies renouvelables ministre de la pêche et des productions halieutiques ministre de la micro-entreprise, des start-up et de l’économie de la connaissance ministre délégué auprès du ministre des finances, chargé des statistiques et de la prospective ministre délégué auprès du ministre de l’agriculture et du développement rural, chargé de l’agriculture saharienne et des montagnes ministre délégué auprès du ministre du commerce, chargé du commerce extérieur ministre délégué auprès du ministre de la santé, de la population et de la réforme hospitalière, chargé de l’industrie pharmaceutique ministre délégué auprès de la ministre de l’environnement et des énergies renouvelables, chargé de l’environnement saharien ministre délégué auprès du ministre de la micro-entreprise, des start-up et de l’économie de la connaissance, chargé des incubateurs ministre délégué auprès du ministre de la micro-entreprise, des start-up et de l’économie de la connaissance, chargé des start-up secrétaire d’etat auprès du ministre des affaires étrangères, chargé de la communauté nationale et des compétences à l’étranger secrétaire d’etat auprès de la ministre de la culture, chargé de l’industrie cinématographique secrétaire d’etat auprès de la ministre de la culture, chargé de la production culturelle secrétaire d’etat auprès du ministre de la jeunesse et des sports, chargé du sport d’élite. décrète article 1er. sont nommés mesdames et messieurs art. 2. sont abrogées les dispositions des décrets présidentiels n° 19-111 du 24 rajab 1440 correspondant au 31 mars 2019, modifié, portant nomination des membres du gouvernement, n° 19-274 du 11 safar 1441 correspondant au 10 octobre 2019 chargeant le ministre de la communication, porte-parole du gouvernement de l’intérim du ministre de la culture et n° 19-364 du 22 rabie ethani 1441 correspondant au 19 décembre 2019 chargeant le ministre de l’habitat, de l’urbanisme et de la ville de l’intérim du ministre de l’intérieur, des collectivités locales et de l’aménagement du territoire. art. 3. le présent décret sera publié au journal officiel de la république algérienne démocratique et populaire. fait à alger, le 6 joumada el oula 1441 correspondant au 2 janvier 2020. abdelmadjid tebboune. décret présidentiel n° 20-02 du 6 joumada el oula 1441 correspondant au 2 janvier 2020 mettant fin aux fonctions du ministre, secrétaire général du gouvernement. le président de la république, vu la constitution, notamment ses articles 91-6° et 92 2 et 6 vu le décret présidentiel n° 99-240 du 17 rajab 1420 correspondant au 27 octobre 1999 relatif à la nomination aux emplois civils et militaires de l’etat vu le décret présidentiel n° 13-313 du 5 dhou el kaâda 1434 correspondant au 11 septembre 2013 portant nomination de m. ahmed noui, ministre, secrétaire général du gouvernement décrète article 1er. il est mis fin aux fonctions de ministre, secrétaire général du gouvernement exercées par m. ahmed noui. art. 2. le présent décret sera publié au journal officiel de la république algérienne démocratique et populaire. fait à alger, le 6 joumada el oula 1441 correspondant au 2 janvier 2020. abdelmadjid tebboune. décret exécutif n° 19-379 du 4 joumada el oula 1441 correspondant au 31 décembre 2019 fixant les modalités de contrôle administratif, technique et de sécurité des substances et médicaments ayant des propriétés psychotropes. le premier ministre, sur le rapport du ministre de la santé, de la population et de la réforme hospitalière, vu la constitution, notamment ses articles 99-4° et 143 alinéa 2 vu la loi n° 01-19 du 27 ramadhan 1422 correspondant au 12 décembre 2001 relative à la gestion, au contrôle et à l’élimination des déchets vu la loi n° 04-18 du 13 dhou el kaâda 1425 correspondant au 25 décembre 2004 relative à la prévention et à la répression de l'usage et du trafic illicites de stupéfiants et de substances psychotropes vu la loi n° 18-11 du 18 chaoual 1439 correspondant au 2 juillet 2018 relative à la santé, notamment son article 245 vu le décret présidentiel n° 19-370 du aouel joumada el oula 1441 correspondant au 28 décembre 2019 portant nomination du premier ministre vu le décret présidentiel n° 19-111 du 24 rajab 1440 correspondant au 31mars 2019, modifié, portant nomination des membres du gouvernement vu le décret exécutif n° 92-276 du 6 juillet 1992 portant code de déontologie médicale vu le décret exécutif n° 03-478 du 15 chaoual 1424 correspondant au 9 décembre 2003 définissant les modalités de gestion des déchets d’activités de soins vu le décret exécutif n° 07-228 du 15 rajab 1428 correspondant au 30 juillet 2007 fixant les modalités d’octroi de l’autorisation d’utilisation de stupéfiants et de substances psychotropes à des fins médicales ou scientifiques vu le décret exécutif n° 10-77 du 4 rabie el aouel 1431 correspondant au 18 février 2010 portant statut particulier des fonctionnaires appartenant aux corps des praticiens médicaux inspecteurs de santé publique vu le décret exécutif n° 11-379 du 25 dhou el idja 1432 correspondant au 21 novembre 2011 fixant les attributions du ministre de la santé, de la population et de la réforme hospitalière vu le décret exécutif n° 19-190 du 30 chaoual 1440 correspondant au 3 juillet 2019 fixant les missions, l’organisation et le fonctionnement de l'agence nationale des produits pharmaceutiques décrète article 1er. en application des dispositions de l’article 245 de la loi n° 18-11 du 18 chaoual 1439 correspondant au 2 juillet 2018, susvisée, le présent décret a pour objet de fixer les modalités de contrôle administratif, technique et de sécurité de substances et médicaments ayant des propriétés psychotropes. art. 2. le contrôle administratif, technique et de sécurité des substances et médicaments ayant des propriétés psychotropes porte sur toutes les opérations visant la traçabilité de ces susbstances et médicaments depuis la réception des matières premières jusqu’à la dispensation par le pharmacien d’officine ou le pharmacien hospitalier. chapitre 1er contrôle en matière d’importation et d’exportation de substances et médicaments ayant des propriétés psychotropes art. 3. le contrôle en matière d’importation et d’exportation des substances et médicaments ayant des propriétés psychotropes vise à vérifier notamment, la conformité de la gestion du produit aux dispositions du présent décret et au respect des dispositions administratives relatives aux opérations d’importation et d’exportation prévues par la réglementation en vigueur. art. 4. le contrôle en matière d’importation et d’exportation des substances et médicaments ayant des propriétés psychotropes est effectué par les services compétents du ministère chargé de la santé sur la base des documents énumérés à l’article 5 ci-dessous. en cas d’infractions ou manquements constatés, un rapport est établi par les services compétents du ministère chargé de la santé et transmis à la commission nationale prévue à l’article 37 ci-dessous. art. 5. le pharmacien directeur technique et le pharmacien assistant d’un établissement pharmaceutique d’importation et d’exportation des substances et médicaments ayant des propriétés psychotropes doit tenir une comptabilité matière de ces produits, de manière à assurer une traçabilité parfaite et faciliter le contrôle de ces produits. a cet effet, il doit détenir les documents suivants le registre des entrées et des sorties, annexe 1 le registre de ventilation, annexe 2 le registre des matières premières, déchets ou produits non conformes, annexe 3. chapitre 2 contrôle en matière de production, de fabrication, de conditionnement, de transformation, de distribution, d’offre et de cession des substances et médicaments ayant des propriétés psychotropes art. 6. le contrôle en matière de production, de fabrication, de conditionnement, de transformation, de distribution, d’offre et de cession des substances et médicaments ayant des propriétés psychotropes vise à vérifier, notamment la conformité de la gestion des produits précités aux dispositions du présent décret et au respect des règles de bonnes pratiques en matière de production, de fabrication, de conditionnement, de transformation, de distribution, d’offre et de cession des substances et médicaments ayant des propriétés psychotropes, conformément à la législation et à la réglementation en vigueur. art. 7. le contrôle cité à l’article 6 ci-dessus est effectué par l’agence nationale des produits pharmaceutiques. des inspections périodiques et inopinées au niveau des locaux des établissements pharmaceutiques de production, de fabrication, de conditionnement, de transformation, de distribution, d’offre et de cession, notamment en ce qui concerne les règles de bonne pratique et au niveau des stocks, sont effectuées sur la base des documents prévus à l’article 8 ci-dessous. en cas d’infractions ou manquements constatés, un rapport est établi par l’agence nationale des produits pharmaceutiques et transmis à la commission nationale prévue à l’article 37 ci-dessous. une copie du rapport est adressée à la structure compétente du ministère chargé de la santé. art. 8. le pharmacien directeur technique et le pharmacien assistant d’un établissement pharmaceutique de production, de fabrication, de conditionnement, de transformation et de distribution des substances et médicaments ayant des propriétés psychotropes doit tenir à chaque opération, une comptabilité matière de ces produits, de manière à assurer une traçabilité parfaite et faciliter le contrôle de ces produits. a cet effet, il doit détenir les documents suivants le programme d’importation de la matière première l’autorisation d’importation de la matière première et/ou du produit fini certificat officiel d’importation , délivrée conformément à la réglementation en vigueur le registre des entrées des matières premières destinées à la fabrication de substances et médicaments ayant des propriétés psychotropes, annexe 4 le registre des sorties des produits finis à partir de la matière première, annexe 5 le registre de ventilation, annexe 2 le registre des matières premières, déchets ou produits non conformes, annexe 3. chapitre 3 contrôle en matière d’acquisition et de détention de substances et médicaments ayant des propriétés psychotropes art. 9. la commande de substances et médicaments ayant des propriétés psychotropes, doit être formulée séparément des autres médicaments, sur un bon de commande, comportant la signature du pharmacien avec sa griffe et son numéro d’inscription à l’organe chargé de la déontologie des pharmaciens. art. 10. les substances et médicaments ayant des propriétés psychotropes, doivent faire l’objet d’une facture séparée correspondant au bon de commande y afférent. art. 11. le pharmacien directeur technique d’un établissement pharmaceutique, le pharmacien d’officine, le pharmacien assistant et le pharmacien hospitalier d’établissement de santé public et privé, doivent s’assurer à chaque réception des substances et médicaments ayant des propriétés psychotropes, des informations suivantes la conformité de la facture au bon de commande émis le numéro du lot la quantité livrée la date de la péremption. lorsque la livraison est conforme, la mention service fait est transcrite par le pharmacien directeur technique d’un établissement pharmaceutique, le pharmacien d’officine, le pharmacien assistant et le pharmacien hospitalier d’établissement de santé public et privé sur la facture, il appose également sa signature et sa griffe sur ces documents, accompagnées de la date de réception et du cachet de la structure et/ou de l’établissement. en cas d’enlèvement auprès du fournisseur, le pharmacien directeur technique de l’établissement pharmaceutique, le pharmacien d’officine, le pharmacien assistant, le pharmacien hospitalier de l’établissement de santé public et privé ou leur représentant dûment mandaté, vérifient la conformité de la livraison par rapport à la facture et appose sur la facture les références de sa pièce d’identité ainsi que sa fonction et adresse et le cachet de la structure et/ou de l’établissement. art. 12. le pharmacien directeur technique d’un établissement pharmaceutique, le pharmacien d’officine, le pharmacien assistant et le pharmacien hospitalier d’établissement de santé public et privé sont tenus de conserver les substances et médicaments ayant des propriétés psychotropes, dans une armoire ou un local fermant à clef qui leur est dédié. art. 13. l’élimination de substances et médicaments ayant des propriétés psychotropes périmés, doit être pratiquée conformément à la législation et à la réglementation en vigueur. art. 14. des inspections périodiques et inopinées pour contrôler le respect des modalités et conditions d’acquisition et de détention des substances et médicaments ayant des propriétés psychotropes prévues au chapitre 3 du présent décret sont effectuées par l’agence nationale des produits pharmaceutiques pour les établissements pharmaceutiques. en cas d’infractions ou manquements constatés, un rapport est établi par l’agence nationale des produits pharmaceutiques et transmis à la commission nationale prévue à l’article 37 ci-dessous. une copie du rapport est adressée à la structure compétente du ministère chargé de la santé. les pharmaciens inspecteurs de santé publique pour les officines pharmaceutiques et les établissements privés et publics de santé. en cas d’infractions ou manquements constatés, un rapport est établi par les pharmaciens inspecteurs de santé publique et transmis à la commission de wilaya, territorialement compétente, prévue à l’article 38 ci-dessous. une copie du rapport est adressée à la structure compétente du ministère chargé de la santé. chapitre 4 contrôle en matière de remise des substances et médicaments ayant des propriétés psychotropes art. 15. les substances et médicaments ayant des propriétés psychotropes, ne peuvent être prescrits que par les médecins. art. 16. la prescription des substances et médicaments ayant des propriétés psychotropes, doit être rédigée sur une ordonnance établie en trois exemplaires de couleurs différentes blanche, jaune et rose. les exemplaires de couleurs blanche et jaune sont remis au patient. l’exemplaire de couleur rose doit être conservé par le médecin prescripteur pour une durée de deux 2 années. la durée maximale de prescription est limitée à trois 3 mois. art. 17. la prescription des substances et médicaments ayant des propriétés psychotropes pour besoin urgent en milieu hospitalier public et privé doit être rédigé sur un bon de commande hebdomadaire en double exemplaire blanc et rose, et en respectant la dotation du produit. le modèle-type du bon de commande cité à l’alinéa ci-dessus, est fixé en annexe 6 du présent décret. art. 18. il est joint au bon de commande cité à l’article 17 ci-dessus, un relevé nominatif par produit ayant des propriétés psychotropes. le modèle-type du relevé nominatif cité ci-dessus, est fixé en annexe 7 du présent décret. art. 19. l’ordonnance citée à l’article 16 ci-dessus, doit contenir les mentions suivantes le numéro de série de l’ordonnance l’identification de la structure ou l’établissement public ou privé de santé du médecin prescripteur l'identification du médecin prescripteur avec sa griffe, sa signature et le numéro de son inscription au conseil de déontologie médicale l’identification du patient sexe, nom, prénom, âge, adresse et, le cas échéant, la taille et le poids la dénomination commune internationale ou, le cas échéant, le nom de spécialité du produit la posologie, le dosage et la forme du produit la durée du traitement des substances et médicaments ayant des propriétés psychotropes. art. 20. tout médecin prescripteur doit enregistrer ses prescriptions sur un registre ouvert à cet effet, coté et paraphé par le directeur de la santé et de la population de la wilaya, pour les médecins exerçant dans les structures et établissements privés de santé, et par le directeur de l’établissement de santé pour les médecins exerçant dans les établissements publics de santé. il est conservé pendant cinq 5 années. art. 21. la prescription des substances et médicaments ayant des propriétés psychotropes à usage hospitalier à prescription restreinte, doit être faite par un médecin spécialiste en psychiatrie de l’établissement hospitalier d’exercice. art. 22. la durée maximale de prescription des substances et médicaments cités à l’article 21 ci-dessus, est d’un 1 mois. art. 23. le registre de prescription des substances et médicaments ayant des propriétés psychotropes au niveau des établissements hospitaliers de santé publics ou privés, doit comporter les mentions suivantes l’identification de l’établissement l’identification du médecin prescripteur l’identification du patient sexe, nom, prénom, âge, numéro d’admission et adresse l’identification du patient le nom, le prénom, l’âge et le numéro de la pièce d’identité pour les consultations en ambulatoire la dénomination commune internationale ou, le cas échéant, le nom de spécialité du produit la posologie, le dosage et la forme du produit la date de la prescription la durée du traitement les observations éventuelles. art. 24. le registre de prescription des substances et médicaments ayant des propriétés psychotropes au niveau des structures de santé privées, doit comporter les mentions suivantes l’identification de la structure l’identification du médecin prescripteur l’identification du patient le nom, le prénom, l’âge et l’adresse le numéro de la pièce d’identité du patient ou du porteur de l’ordonnance la date de prescription la dénomination commune internationale ou, le cas échéant, le nom de spécialité du produit la posologie, le dosage et la forme du produit la durée du traitement. art. 25. un contrôle périodique et inopiné est effectué par les médecins et les pharmaciens inspecteurs de santé publique sur la base des documents prévus aux articles 17, 18, 19, 23 et 24 cités ci-dessus. en cas d’infractions ou manquements constatés, un rapport est établi par les médecins et pharmaciens inspecteurs de santé publique et transmis à la commission de wilaya, territorialement compétente, prévue à l’article 38 ci-dessous. une copie du rapport est adressée à la structure compétente du ministère chargé de la santé. art. 26. la dispensation des substances et médicaments ayant des propriétés psychotropes s’effectue sous la responsabilité du pharmacien ou du pharmacien assistant. elle est subordonnée à la présentation obligatoire des deux 2 exemplaires de l’ordonnance blanc et jaune. lorsque le traitement est dispensé en totalité en établissement public et privé de santé, l’exemplaire jaune est remis au patient avec transcription de la quantité servie, l’exemplaire blanc est conservé par le pharmacien hospitalier en officine, l’exemplaire blanc est remis au patient avec transcription de la quantité servie, l’exemplaire jaune est conservé par le pharmacien. dans le cadre du tiers payant, l’exemplaire blanc est remis aux caisses de sécurité sociale, une photocopie est remise au patient, l’exemplaire jaune est conservé par le pharmacien. lorsque le traitement est dispensé partiellement en établissement public et privé de santé, l’exemplaire blanc est restitué au patient avec transcription de la quantité servie, l’exemplaire jaune est conservé par le pharmacien hospitalier en officine, l’exemplaire blanc est remis au patient avec transcription de la quantité servie, une copie est conservée par le pharmacien, l’exemplaire jaune est conservé par le premier pharmacien dispensateur. dans le cadre du tiers payant, l’exemplaire blanc est remis au patient, une photocopie est remise aux caisses de sécurité sociale, une autre copie est conservée par le pharmacien. art. 27. la durée de validité de l’ordonnance contenant des substances et médicaments ayant des propriétés psychotropes ne peut excéder trois 3 mois. la quantité dispensée s’effectue comme suit quantité de trois 3 mois si l’ordonnance est présentée au début du premier mois de la prescription quantité de deux 2 mois si l’ordonnance est présentée au début du deuxième mois suivant la prescription quantité d’un 1 mois si l’ordonnance est présentée au début du troisième mois suivant la prescription. la date de dispensation est obligatoirement portée sur l’ordonnance. art. 28. la dispensation des substances et médicaments ayant des propriétés psychotropes à usage hospitalier et à prescription restreinte cités à l’article 21 ci-dessus, est réservée au pharmacien hospitalier de l’établissement hospitalier d’exercice. les substances et médicaments ayant des propriétés psychotropes à usage hospitalier à prescription restreinte, sont fixés par arrêté du ministre chargé de la santé. art. 29. les échanges ou transferts des substances et médicaments ayant des propriétés psychotropes entre les établissements de santé et entre les officines, se font par décharge qui précise la nature et la quantité des produits échangés ou transférés. les quantités échangées ou transférées sont notifiées à la commission de wilaya, territorialement compétente, prévue à l’article 38 ci-dessous. lorsque les échanges ou les transferts de quantités sont effectués entre des établissements de santé et entre des officines implantés dans des wilayas différentes, les quantités échangées ou transférées, sont notifiées aux commissions de wilayas, territorialement compétentes, qui se chargent d’informer la commission nationale prévue à l’article 37 ci-dessous. dans tous les cas, la commission nationale doit être informée des quantités échangées ou transférées. art. 30. le pharmacien d’officine, le pharmacien assistant et le pharmacien hospitalier d’établissement de santé public et privé, doivent tenir les documents suivants 1- pour les établissements hospitaliers publics ou privés l’ordonnancier pour les établissements hospitaliers assurant la dispensation en ambulatoire, annexe 8 le registre de retrait des substances et médicaments ayant des propriétés psychotropes, annexe 9 la fiche de stock, annexe 10 le registre de main courante des substances et médicaments ayant des propriétés psychotropes, annexe 11. 2- pour les pharmaciens d’officine le registre des entrées pour officine , annexe 12 l’ordonnancier d’officine, annexe 13. art. 31. un contrôle périodique et inopiné sur le lieu d’exercice est effectué par les pharmaciens inspecteurs de santé publique au niveau des officines pharmaceutiques et des établissements hospitaliers publics ou privés sur la base des documents cités à l’article 30 ci-dessus. les données contenues dans les documents cités à l’alinéa ci-dessus, doivent être accessibles et pouvant être consultées ou exploitées par les pharmaciens inspecteurs pendant toute la durée de leur conservation. en cas d’infractions ou manquements constatés, un rapport est établi par les pharmaciens inspecteurs de santé publique et transmis à la commission de wilaya, territorialement compétente, prévue à l’article 38 ci-dessous. une copie du rapport est adressée à la structure compétente du ministère chargé de la santé. art. 32. les registres et ordonnanciers prévus par le présent décret, peuvent être informatisés et intégrés aux logiciels de gestion sécurisé et fiable, à la condition que le pharmacien directeur technique d’un établissement pharmaceutique, le pharmacien d’officine, le pharmacien assistant et le pharmacien hospitalier d’établissement de santé public et privé, procède à l’impression quotidienne du mouvement du registre, le signe, le conserve et l’archive durant cinq 5 années. le système informatique intégrant les registres et ordonnanciers informatisés cités ci-dessus, doit obligatoirement permettre une édition immédiate à la demande de toute autorité de contrôle et d’inspection. l’inscription des entrées et sorties se fait sans blanc, ni rature, ni surcharge, de façon lisible et indélébile. art. 33. les registres et les ordonnanciers, doivent être conservés pendant cinq 5 années, à compter de la date de clôture. art. 34. les registres et les ordonnanciers, sont cotés et paraphés par le directeur de l’établissement concernant les établissements publics de santé le directeur de la santé et de la population de la wilaya concernant les officines et les établissements de santé privés. l’exemplaire de l’ordonnance contenant des substances et médicaments ayant des propriétés psychotrope, est conservé par le pharmacien pendant deux 2 années. art. 35. il est procédé à l'inventaire du stock physique des substances et médicaments ayant des propriétés psychotropes trimestriellement, en plus de l’inventaire annuel. cet inventaire doit se faire sous la responsabilité du pharmacien, une copie de l’inventaire est adressée à la commission de wilaya, territorialement compétente, prévue à l’article 38 ci-dessous. une autre copie est transmise à la commission nationale prévue à l’article 37 ci-dessous. art. 36. les écarts constatés doivent être obligatoirement signalés et justifiés, par le pharmacien directeur technique de l’établissement pharmaceutique, le pharmacien d’officine, le pharmacien assistant et le pharmacien hospitalier de l’établissement de santé public et privé, auprès de la commission de wilaya, territorialement compétente, prévue à l’article 38 ci-dessous, qui est chargé de les notifier à la commission nationale prévue à l’article 37 ci-dessous. chapitre 5 commission nationale et commission de wilaya des substances et médicaments ayant des propriétés psychotropes art. 37. il est créé auprès du ministère chargé de la santé une commission nationale des substances et médicaments ayant des propriétés psychotropes. elle a pour missions, notamment d’évaluer le risque de pharmacodépendance et d’abus de substances et médicaments ayant des propriétés psychotropes dont la liste est fixée par arrêté du ministre chargé de la santé et leurs conséquences pour la santé publique d’entreprendre toutes études, recherches et enquêtes entrant dans le cadre de ses missions de donner des avis sur les mesures à prendre pour préserver la santé publique dans le domaine de la lutte contre la pharmacodépendance ou l'abus, ainsi que sur toute question que lui soumet le ministre chargé de la santé entrant dans le cadre de la mise en œuvre des dispositions du présent décret de proposer toutes mesures nécessaires visant une meilleure maîtrise et un contrôle efficace en matière de substances et médicaments ayant des propriétés psychotropes d’établir un rapport annuel de ses travaux qu’elle adresse au ministre chargé de la santé. art. 38. la commission nationale prévue à l’article 37 ci-dessus, dispose de commissions de wilayas chargées des substances et médicaments ayant des propriétés psychotropes. placée auprès du directeur de la santé et de la population de wilaya, la commission a pour missions, notamment d’assurer le contrôle et le suivi des déclarations des pharmaciens, conformément à l’article 36 du présent décret de proposer au directeur de la santé et de la population de wilaya la programmation d’inspections ciblées en fonction des déclarations et informations traitées de proposer au directeur de la santé et de la population de wilaya toutes mesures nécessaires entrant dans le cadre de ses missions d’établir un bilan annuel de ses travaux qu’elle adresse à la commission nationale prévue à l’article 37 ci-dessus. art. 39. la composition, l’organisation et le fonctionnement de la commission nationale et de la commission de wilaya, sont fixés par arrêté du ministre chargé de la santé. art. 40. l’inobservation des dispositions du présent décret, entraîne l’application des sanctions administratives et disciplinaires, conformément à la législation et à la réglementation en vigueur. art. 41. les structures et les établissements publics et privés de santé sont tenus de se conformer, dans un délai de trois 3 mois, aux dispositions du présent décret, à compter de la date de sa publication au journal officiel. art. 42. le présent décret sera publié au journal officiel de la république algérienne démocratique et populaire. fait à alger, le 4 joumada el oula 1441 correspondant au 31 décembre 2019. abdelaziz djerad. decisions individuelles décret présidentiel du 6 joumada el oula 1441 correspondant au 2 janvier 2020 portant nomination du secrétaire général du gouvernement. le président de la république, vu la constitution, notamment ses articles 91-6° et 92 2 et 6 vu le décret présidentiel n° 99-240 du 17 rajab 1420 correspondant au 27 octobre 1999 relatif à la nomination aux emplois civils et militaires de l’etat vu le décret présidentiel n° 01-197 du aouel joumada el oula 1422 correspondant au 22 juillet 2001, modifié, fixant les attributions et l’organisation des services de la présidence de la république décrète article 1er. m. yahia bouk ari, est nommé secrétaire général du gouvernement. art. 2. le présent décret sera publié au journal officiel de la république algérienne démocratique et populaire. fait à alger, le 6 joumada el oula 1441 correspondant au 2 janvier 2020. abdelmadjid tebboune. décret présidentiel du 6 joumada el oula 1441 correspondant au 2 janvier 2020 mettant fin aux fonctions d’un chargé de mission à la présidence de la république secrétariat général du gouvernement . par décret présidentiel du 6 joumada el oula 1441 correspondant au 2 janvier 2020, il est mis fin aux fonctions de chargé de mission à la présidence de la république secrétariat général du gouvernement , exercées par m. yahia bouk ari, appelé à exercer une autre fonction. décret présidentiel du 6 joumada el oula 1441 correspondant au 2 janvier 2020 mettant fin aux fonctions d’un chargé de mission aux services du premier ministre. par décret présidentiel du 6 joumada el oula 1441 correspondant au 2 janvier 2020, il est mis fin aux fonctions de chargé de mission aux services du premier ministre, exercées par m. sid ali khaldi, appelé à exercer une autre fonction. décret présidentiel du 6 joumada el oula 1441 correspondant au 2 janvier 2020 mettant fin aux fonctions du secrétaire général du ministère des affaires étrangères. par décret présidentiel du 6 joumada el oula 1441 correspondant au 2 janvier 2020, il est mis fin aux fonctions de secrétaire général du ministère des affaires étrangères, exercées par m. rachid bladehane, appelé à exercer une autre fonction. décret présidentiel du 6 joumada el oula 1441 correspondant au 2 janvier 2020 mettant fin aux fonctions du secrétaire général du ministère de l’habitat, de l’urbanisme et de la ville. par décret présidentiel du 6 joumada el oula 1441 correspondant au 2 janvier 2020, il est mis fin aux fonctions de secrétaire général du ministère de l’habitat, de l’urbanisme et de la ville, exercées par m. kamel nasri, appelé à exercer une autre fonction. décret présidentiel du 6 joumada el oula 1441 correspondant au 2 janvier 2020 mettant fin aux fonctions du directeur général de la régulation et de l’organisation des activités au ministère du commerce. par décret présidentiel du 6 joumada el oula 1441 correspondant au 2 janvier 2020, il est mis fin aux fonctions de directeur général de la régulation et de l’organisation des activités au ministère du commerce, exercées par m. aïssa bekkaï, appelé à exercer une autre fonction. décret présidentiel du 6 joumada el oula 1441 correspondant au 2 janvier 2020 mettant fin aux fonctions du directeur général de l’agence nationale des barrages et transferts a.n.b.t . par décret présidentiel du 6 joumada el oula 1441 correspondant au 2 janvier 2020, il est mis fin aux fonctions de directeur général de l’agence nationale des barrages et transferts a.n.b.t , exercées par m. arezki berraki, appelé à exercer une autre fonction. décret présidentiel du 6 joumada el oula 1441 correspondant au 2 janvier 2020 mettant fin aux fonctions du directeur général de la caisse nationale de sécurité sociale des non-salariés casnos . par décret présidentiel du 6 joumada el oula 1441 correspondant au 2 janvier 2020, il est mis fin aux fonctions de directeur général de la caisse nationale de sécurité sociale des non-salariés casnos , exercées par m. ahmed chawki fouad acheuk youcef, appelé à exercer une autre fonction. décret présidentiel du 14 rabie ethani 1441 correspondant au 11 décembre 2019 mettant fin aux fonctions du directeur général de l’administration pénitentiaire et de la réinsertion au ministère de la justice. par décret présidentiel du 14 rabie ethani 1441 correspondant au 11 décembre 2019, il est mis fin aux fonctions de directeur général de l’administration pénitentiaire et de la réinsertion au ministère de la justice, exercées par m. mokhtar felioune, admis à la retraite. décret présidentiel du 14 rabie ethani 1441 correspondant au 11 décembre 2019 mettant fin aux fonctions d’un inspecteur à l’inspection générale des services pénitentiaires au ministère de la justice. par décret présidentiel du 14 rabie ethani 1441 correspondant au 11 décembre 2019, il est mis fin aux fonctions d’inspecteur à l’inspection générale des services pénitentiaires au ministère de la justice, exercées par m. mohamed soltane, appelé à réintégrer son grade d’origine. décret présidentiel du 14 rabie ethani 1441 correspondant au 11 décembre 2019 mettant fin aux fonctions de magistrats. par décret présidentiel du 14 rabie ethani 1441 correspondant au 11 décembre 2019, il est mis fin aux fonctions de magistrats, exercées par mme. et m. benina derragui ahmed zouhdi admis à la retraite. décret présidentiel du 14 rabie ethani 1441 correspondant au 11 décembre 2019 mettant fin à des fonctions au ministère des finances. par décret présidentiel du 14 rabie ethani 1441 correspondant au 11 décembre 2019, il est mis fin aux fonctions au ministère des finances exercées par mm. rachid mougas, inspecteur à l’inspection des services de la comptabilité rachid cherifi, sous-directeur de la modernisation et de l’intégration des marchés, à la direction générale du trésor mohamed drouiche, sous-directeur des moyens et du budget, à la direction générale du budget mouaawiya boukouira, chef d’études, à la direction générale du budget appelés à exercer d’autres fonctions. décret présidentiel du 14 rabie ethani 1441 correspondant au 11 décembre 2019 mettant fin aux fonctions d’une inspectrice au ministère de l’éducation nationale. par décret présidentiel du 14 rabie ethani 1441 correspondant au 11 décembre 2019, il est mis fin aux fonctions d’inspectrice au ministère de l’éducation nationale, exercées par mme. ouria khelifi, appelée à exercer une autre fonction. décret présidentiel du 29 rabie el aouel 1441 correspondant au 26 novembre 2019 mettant fin aux fonctions de recteurs d’universités. par décret présidentiel du 29 rabie el aouel 1441 correspondant au 26 novembre 2019, il est mis fin aux fonctions de recteurs des universités suivantes, exercées par mm. abdellah labbaci, à l’université de chlef amid bencheniti, à l’université d’alger 1 abdelaziz laïche, à l’université d’el tarf. décret présidentiel du 14 rabie ethani 1441 correspondant au 11 décembre 2019 mettant fin aux fonctions du directeur de l’institut de gestion des techniques urbaines, à l’université de m’sila. par décret présidentiel du 14 rabie ethani 1441 correspondant au 11 décembre 2019, il est mis fin aux fonctions de directeur de l’institut de gestion des techniques urbaines, à l’université de m’sila, exercées par m. youcef lakhdar amina, appelé à exercer une autre fonction. décret présidentiel du 14 rabie ethani 1441 correspondant au 11 décembre 2019 mettant fin aux fonctions du directeur général de l’économie numérique au ministère de la poste, des télécommunications, des technologies et du numérique. par décret présidentiel du 14 rabie ethani 1441 correspondant au 11 décembre 2019, il est mis fin aux fonctions de directeur général de l’économie numérique au ministère de la poste, des télécommunications, des technologies et du numérique, exercées par m. mounir amaidia. décret présidentiel du 14 rabie ethani 1441 correspondant au 11 décembre 2019 mettant fin aux fonctions d’une inspectrice à l’inspection générale au ministère de la poste, des télécommunications, des technologies et du numérique. par décret présidentiel du 14 rabie ethani 1441 correspondant au 11 décembre 2019, il est mis fin aux fonctions d’inspectrice à l’inspection générale au ministère de la poste, des télécommunications, des technologies et du numérique, exercées par mme. sabrina boumezbeur, appelée à exercer une autre fonction. décret présidentiel du 14 rabie ethani 1441 correspondant au 11 décembre 2019 mettant fin aux fonctions d’une sous-directrice à l’ex-ministère de l’habitat et de l’urbanisme. par décret présidentiel du 14 rabie ethani 1441 correspondant au 11 décembre 2019, il est mis fin aux fonctions de sous-directrice des marchés à l’ex-ministère de l’habitat et de l’urbanisme, exercées par mme. ferroudja boubekeur, appelée à exercer une autre fonction. décret présidentiel du 14 rabie ethani 1441 correspondant au 11 décembre 2019 mettant fin à des fonctions au ministère de l’habitat, de l’urbanisme et de la ville. par décret présidentiel du 14 rabie ethani 1441 correspondant au 11 décembre 2019, il est mis fin aux fonctions au ministère de l’habitat, de l’urbanisme et de la ville, exercées par mmes. et mm. tayffour maidi, chargé d’études et de synthèse rachida aït-aïssa, directrice de l’architecture naïma rachedi, directrice de l’urbanisme malek cherrered, sous-directeur de la résorption de l’habitat précaire et de la réhabilitation du cadre bâti kamel zaïdi, sous-directeur du suivi et contrôle des actes d’urbanisme rachida saidani, sous-directrice des technologies de construction appelés à exercer d’autres fonctions. décrets présidentiels du 14 rabie ethani 1441 correspondant au 11 décembre 2019 mettant fin aux fonctions de directeurs de l’urbanisme, de l’architecture et de la construction de wilayas. par décret présidentiel du 14 rabie ethani 1441 correspondant au 11 décembre 2019, il est mis fin aux fonctions de directeurs de l’urbanisme, de l’architecture et de la construction aux wilayas suivantes, exercées par mm. abderezak assam, à la wilaya de béjaïa belkacem-karim goumri, à la wilaya de mila appelés à exercer d’autres fonctions. par décret présidentiel du 14 rabie ethani 1441 correspondant au 11 décembre 2019, il est mis fin aux fonctions de directrice de l’urbanisme, de l’architecture et de la construction à la wilaya de annaba, exercées par mme. saliha benhanaya, appelée à exercer une autre fonction. décret présidentiel du 14 rabie ethani 1441 correspondant au 11 décembre 2019 mettant fin aux fonctions de la directrice du logement à la wilaya de aïn defla. par décret présidentiel du 14 rabie ethani 1441 correspondant au 11 décembre 2019, il est mis fin aux fonctions de la directrice du logement à la wilaya de aïn defla, exercées par mme. farida madiou, appelée à exercer une autre fonction. décret présidentiel du 14 rabie ethani 1441 correspondant au 11 décembre 2019 mettant fin aux fonctions de directeurs des équipements publics de wilayas. par décret présidentiel du 14 rabie ethani 1441 correspondant au 11 décembre 2019, il est mis fin aux fonctions de directeurs des équipements publics aux wilayas suivantes, exercées par mm. mustapha banouh, à la wilaya d’oran fouad aïssi, à la wilaya de ghardaïa appelés à exercer d’autres fonctions. décret présidentiel du 29 rabie el aouel 1441 correspondant au 26 novembre 2019 mettant fin aux fonctions du directeur général de l’établissement public de radiodiffusion sonore. par décret présidentiel du 29 rabie el aouel 1441 correspondant au 26 novembre 2019, il est mis fin aux fonctions de directeur général de l’établissement public de radiodiffusion sonore, exercées par m. chabane lounakel, admis à la retraite. décret présidentiel du 14 rabie ethani 1441 correspondant au 11 décembre 2019 mettant fin à des fonctions au ministère des ressources en eau. par décret présidentiel du 14 rabie ethani 1441 correspondant au 11 décembre 2019, il est mis fin aux fonctions au ministère des ressources en eau, exercées par mme. et mm. nora ziani, directrice de l’assainissement et de la protection de l’environnement yassine zemmouchi, directeur du budget et des moyens abdelouahab smati, directeur des ressources en eau non conventionnelles el yazid bouzroura, sous-directeur du développement des infrastructures d’assainissement appelés à exercer d’autres fonctions. décret présidentiel du 14 rabie ethani 1441 correspondant au 11 décembre 2019 portant nomination d’une chef d’études aux services du premier ministre. par décret présidentiel du 14 rabie ethani 1441 correspondant au 11 décembre 2019, mme. leila ghanem est nommée chef d’études aux services du premier ministre. décret présidentiel du 14 rabie ethani 1441 correspondant au 11 décembre 2019 portant nomination du chef de cabinet du ministre des affaires étrangères. par décret présidentiel du 14 rabie ethani 1441 correspondant au 11 décembre 2019, m. abdelkrim benchiah est nommé chef de cabinet du ministre des affaires étrangères. décret présidentiel du 14 rabie ethani 1441 correspondant au 11 décembre 2019 portant nomination du directeur général de l’école nationale des ingénieurs de la ville. par décret présidentiel du 14 rabie ethani 1441 correspondant au 11 décembre 2019, m. youcef lakhdar amina est nommé directeur général de l’école nationale des ingénieurs de la ville. décret présidentiel du 14 rabie ethani 1441 correspondant au 11 décembre 2019 portant nomination de secrétaires généraux auprès de chefs de daïras de wilayas. par décret présidentiel du 14 rabie ethani 1441 correspondant au 11 décembre 2019, sont nommés secrétaires généraux auprès de chefs de daïras aux wilayas suivantes, mmes. et mm. mabrouk barkaoui, daïra de bordj badji mokhtar, wilaya d’adrar mohammed ramdani, daïra de tinerkouk, wilaya d’adrar abdelmadjid arab, daïra de ténès, wilaya de chlef mohammed bourenane, daïra de laghouat nadjib gheribi, daïra de aïn kercha, wilaya d’oum el bouaghi el- adj moumen, daïra de ras el aioun, wilaya de batna mabrouk kaddour, daïra de n’gaous, wilaya de batna mahieddine derdouri, daïra de theniet el abed, wilaya de batna kamal meddour, daïra de menaâ, wilaya de batna amar abed, daïra d’adekar, wilaya de béjaïa kamel belloul, daïra de kherratta, wilaya de béjaïa saïd amdiken, daïra d’el kseur, wilaya de béjaïa abdelghani lakab, daïra d’aokas, wilaya de béjaïa walid amin seddiki, daïra de béni ounif, wilaya de béchar saïd tahraoui, daïra de kadiria, wilaya de bouira ahmed bourahla, daïra de souk el khemis, wilaya de bouira radouane chabana, daïra de bir el ater, wilaya de tébessa ahmed gasmi, daïra de cheria, wilaya de tébessa bochra gueddouche, daïra de negrine, wilaya de tébessa youcef yaza, daïra de aïn tallout, wilaya de tlemcen naïma amirat, daïra de bensekrane, wilaya de tlemcen amar kerboua, daïra de tlemcen nacer ikem, daïra de boghni, wilaya de tizi ouzou benalia gattaf, daïra d’el idrissia, wilaya de djelfa slimane outi, daïra de sidi ladjel, wilaya de djelfa okba boudoukha, daïra d’el eulma, wilaya de sétif khadir benaouda, daïra de aïn el kebira, wilaya de sétif sebti ellal, daïra de ammam sokhna, wilaya de sétif badri fisli, daïra de benazouz, wilaya de skikda messaouda guemriche, daïra de guelaat bousbaa, wilaya de guelma abdelbaki debbabi, daïra de ammam debagh, wilaya de guelma rachid boudour, daïra de guelma rachid makroud, daïra d’el khroub, wilaya de constantine bachir loucif, daïra de ksar el boukhari, wilaya de médéa abdelkader mendas, daïra de aziz, wilaya de médéa samir chaouane, daïra de sidi naâmane, wilaya de médéa mohamed bouziani, daïra de médéa tayeb telli, daïra de assi mameche, wilaya de mostaganem sofiane ennous, daïra de sidi ali, wilaya de mostaganem mostefa boudraf, daïra de masra, wilaya de mostaganem nacir zehani, daïra de khoubana, wilaya de m’sila mohamed doucene, daïra de aïn el adjel, wilaya de m’sila benamar si tayeb, daïra de achem, wilaya de mascara amina menouer, daïra d’es senia, wilaya d’oran slimane amriou, daïra de bougtoub, wilaya d’el bayadh mohammed kaba, daïra d’illizi amel lemaini, daïra de khemis el khechna, wilaya de boumerdès mihoub djellal, daïra de bouteldja, wilaya d’el tarf mohamed fettouh, daïra de tissemsilt saïd sahraoui, daïra de bayadha, wilaya d’el oued mohammed seghir daga, daïra de reguiba, wilaya d’el oued mounir saidi, daïra de sedrata, wilaya de souk ahras raouf kahlouche, daïra de souk ahras abdessamed brik, daïra de fouka, wilaya de tipaza mourad sabi, daïra de bou ismaïl, wilaya de tipaza boukhemis merkhi, daïra de teleghma, wilaya de mila ratiba lemtaiche, daïra de terrai bainen, wilaya de mila amza kerouaz, daïra de mila djilali araoui, daïra d’el amra, wilaya de aïn defla abdeldjalil boukhobza, daïra de béni saf, wilaya de aïn témouchent saléha el adj ali, daïra de aïn kihel, wilaya de aïn témouchent mebrouk laouar, daïra d’el ménia, wilaya de ghardaïa mohammed ramdane, daïra de aïn tarek, wilaya de relizane. décret présidentiel du 14 rabie ethani 1441 correspondant au 11 décembre 2019 portant nomination de secrétaires généraux de communes. par décret présidentiel du 14 rabie ethani 1441 correspondant au 11 décembre 2019, sont nommés secrétaires généraux des communes suivantes, mm. abdelaziz kassah, à la commune de skikda amza guettaf, à la commune d’el bayadh. décret présidentiel du 14 rabie ethani 1441 correspondant au 11 décembre 2019 portant nomination au ministère des finances. par décret présidentiel du 14 rabie ethani 1441 correspondant au 11 décembre 2019, sont nommés au ministère des finances, mm. rachid cherifi, directeur d’études, à la direction générale du trésor rachid mougas, directeur d’études, à la direction générale de la comptabilité mohamed drouiche, directeur de l’administration des moyens et des finances, à la direction générale du budget mouaawiya boukouira, sous-directeur de la défense, à la direction générale du budget. décret présidentiel du 14 rabie ethani 1441 correspondant au 11 décembre 2019 portant nomination d’une chargée d’inspection à l’inspection générale des finances au ministère des finances. par décret présidentiel du 14 rabie ethani 1441 correspondant au 11 décembre 2019, mme. ouria khelifi est nommée chargée d’inspection à l’inspection générale des finances au ministère des finances. décret présidentiel du 14 rabie ethani 1441 correspondant au 11 décembre 2019 portant nomination du directeur du centre d’approvisionnement et de maintenance des équipements et moyens didactiques camemd . par décret présidentiel du 14 rabie ethani 1441 correspondant au 11 décembre 2019, m. mahmoud ikhlef est nommé directeur du centre d’approvisionnement et de maintenance des équipements et moyens didactiques camemd . décret présidentiel du 14 rabie ethani 1441 correspondant au 11 décembre 2019 portant nomination de la directrice générale de l’économie numérique au ministère de la poste, des télécommunications, des technologies et du numérique. par décret présidentiel du 14 rabie ethani 1441 correspondant au 11 décembre 2019, mme. sabrina boumezbeur est nommée directrice générale de l’économie numérique au ministère de la poste, des télécommunications, des technologies et du numérique. décret présidentiel du 14 rabie ethani 1441 correspondant au 11 décembre 2019 portant nomination du directeur de la poste, des télécommunications, des technologies et du numérique à la wilaya de ouargla. par décret présidentiel du 14 rabie ethani 1441 correspondant au 11 décembre 2019, m. laredj zerrouki est nommé directeur de la poste, des télécommunications, des technologies et du numérique à la wilaya de ouargla. décrets présidentiels du 14 rabie ethani 1441 correspondant au 11 décembre 2019 portant nomination au ministère de l’habitat, de l’urbanisme et de la ville. par décret présidentiel du 14 rabie ethani 1441 correspondant au 11 décembre 2019, sont nommés au ministère de l’habitat, de l’urbanisme et de la ville, mmes. et mm. ferroudja boubekeur, chargée d’études et de synthèse rachida aït-aïssa, chargée d’études et de synthèse malek cherrered, directeur d’études à la direction générale de l’urbanisme et de l’architecture naïma rachedi, directrice de l’architecture kamel zaïdi, directeur de l’urbanisme tayffour maidi, sous-directeur du suivi des bureaux d’études akima naït mohamed, sous-directrice du suivi des attributions et de la cession des biens immobiliers locatifs rachida saïdani, sous-directrice de la résorption de l’habitat précaire et de la réhabilitation du cadre bâti. par décret présidentiel du 14 rabie ethani 1441 correspondant au 11 décembre 2019, sont nommés sous-directeurs au ministère de l’habitat, de l’urbanisme et de la ville, mm. karim iratene, sous-directeur des programmes d’équipements de la culture et de la jeunesse et du sport mohamed boukaiou, sous-directeur des interventions sur les tissus existants. décret présidentiel du 14 rabie ethani 1441 correspondant au 11 décembre 2019 portant nomination de directeurs de l’urbanisme, de l’architecture et de la construction aux wilayas. par décret présidentiel du 14 rabie ethani 1441 correspondant au 11 décembre 2019, sont nommés directeurs de l’urbanisme, de l’architecture et de la construction aux wilayas suivantes, mm. abderezak assam, à la wilaya de annaba belkacem-karim goumri, à la wilaya de ghardaïa. décret présidentiel du 14 rabie ethani 1441 correspondant au 11 décembre 2019 portant nomination de la directrice du logement de la wilaya de tipaza. par décret présidentiel du 14 rabie ethani 1441 correspondant au 11 décembre 2019, mme. farida madiou est nommée directrice du logement à la wilaya de tipaza. décret présidentiel du 14 rabie ethani 1441 correspondant au 11 décembre 2019 portant nomination de directeurs des équipements publics aux wilayas. par décret présidentiel du 14 rabie ethani 1441 correspondant au 11 décembre 2019, sont nommés directeurs des équipements publics aux wilayas suivantes, mmes. et mm. raja cherifi, à la wilaya de tizi ouzou fouad aïssi, à la wilaya d’oran saliha benhanaya, à la wilaya de boumerdès mustapha banouh, à la wilaya de ghardaïa. décret présidentiel du 14 rabie ethani 1441 correspondant au 11 décembre 2019 portant nomination du directeur général de l’office de promotion et de gestion immobilière à la wilaya de ouargla. par décret présidentiel du 14 rabie ethani 1441 correspondant au 11 décembre 2019, m. youcef amdi est nommé directeur général de l’office de promotion et de gestion immobilière à la wilaya de ouargla. décrets présidentiels du 14 rabie ethani 1441 correspondant au 11 décembre 2019 portant nomination au ministère des ressources en eau. par décret présidentiel du 14 rabie ethani 1441 correspondant au 11 décembre 2019, sont nommés au ministère des ressources en eau, mme. et mm. nora ziani, chargée d’études et de synthèse yassine zemmouchi, directeur des ressources humaines, de la formation et de la coopération abdelouahab smati, directeur de la mobilisation des ressources en eau el yazid bouzroura, directeur de l’assainissement et de la protection de l’environnement. par décret présidentiel du 14 rabie ethani 1441 correspondant au 11 décembre 2019, mme. elham naïma chabouni est nommée chef d’études au bureau ministériel de sûreté interne d’établissement au ministère des ressources en eau. décret présidentiel du 14 rabie ethani 1441 correspondant au 11 décembre 2019 portant nomination au ministère du tourisme et de l’artisanat. par décret présidentiel du 14 rabie ethani 1441 correspondant au 11 décembre 2019, sont nommés au ministère du tourisme et de l’artisanat, mme. et mm. mohamed megueni, chargé d’études et de synthèse fouad boutata, sous-directeur du budget et de la comptabilité rafik bailiche, sous-directeur des moyens généraux mohamed badaoui, sous-directeur de l’aménagement du tourisme nabila karouche, sous-directrice du développement de la qualité. décret présidentiel du 14 rabie ethani 1441 correspondant au 11 décembre 2019 portant nomination de la directrice générale de la chambre nationale de l’artisanat et des métiers. par décret présidentiel du 14 rabie ethani 1441 correspondant au 11 décembre 2019, mme. dalila bentelemsani est nommée directrice générale de la chambre nationale de l’artisanat et des métiers. décret présidentiel du 14 rabie ethani 1441 correspondant au 11 décembre 2019 portant nomination du secrétaire général de l’école nationale supérieure du tourisme. par décret présidentiel du 14 rabie ethani 1441 correspondant au 11 décembre 2019, m. sofiane anifi est nommé secrétaire général de l’école nationale supérieure du tourisme. arretes, decisions et avis presidence de la republique arrêté du 6 joumada el oula 1441 correspondant au 2 janvier 2020 portant délégation de signature à un chargé de mission à la présidence de la république secrétariat général du gouvernement . le secrétaire général du gouvernement, vu le décret présidentiel n° 01-197 du aouel joumada el oula 1422 correspondant au 22 juillet 2001, modifié, fixant les attributions et l’organisation des services de la présidence de la république vu le décret présidentiel du 6 joumada el oula 1441 correspondant au 2 janvier 2020 portant nomination du secrétaire général du gouvernement vu le décret présidentiel du 21 dhou el kaâda 1435 correspondant au 16 septembre 2014 portant nomination de m. mokdad gouasmia en qualité de chargé de mission à la présidence de la république secrétariat général du gouvernement arrête article 1er. dans la limite de ses attributions, délégation est donnée à m. mokdad gouasmia, chargé de mission, à l’effet de signer au nom du secrétaire général du gouvernement, tous actes et arrêtés concernant la gestion de l’administration des personnels et des moyens, à l’exclusion des arrêtés à caractère réglementaire. art. 2. le présent arrêté sera publié au journal officiel de la république algérienne démocratique et populaire. fait à alger, le 6 joumada el oula 1441 correspondant au 2 janvier 2020. yahia bouk ari. arrêté interministériel du 15 safar 1441 correspondant au 14 octobre 2019 fixant les modalités d'élaboration du plan national d'intervention radiologique et nucléaire. le ministre de la défense nationale, le ministre de l'intérieur, des collectivités locales et de l'aménagement du territoire, le ministre de l'énergie, vu le décret présidentiel n° 13-317 du 10 dhou el kaâda 1434 correspondant au 16 septembre 2013 fixant les missions et attributions du vice-ministre de la défense nationale vu le décret présidentiel n°19-111 du 24 rajab 1440 correspondant au 31 mars 2019, modifié, portant nomination des membres du gouvernement vu le décret exécutif n° 15-302 du 20 safar 1437 correspondant au 2 décembre 2015, modifié, fixant les attributions du ministre de l'énergie vu le décret exécutif n° 17-126 du 28 joumada ethania 1438 correspondant au 27 mars 2017 précisant le dispositif de prévention des risques radiologiques et nucléaires ainsi que les moyens et les modalités de lutte contre ces sinistres lors de leur survenance, notamment son article 22 vu le décret exécutif n° 18-331 du 14 rabie ethani 1440 correspondant au 22 décembre 2018 fixant les attributions du ministre de l'intérieur, des collectivités locales et de l'aménagement du territoire arrêtent article 1er. en application des dispositions de l'article 22 alinéa 2 du décret exécutif n° 17-126 du 28 joumada ethania 1438 correspondant au 27 mars 2017, susvisé, le présent arrêté a pour objet de fixer les modalités d'élaboration du plan national d'intervention radiologique et nucléaire. art. 2. le plan national d'intervention radiologique et nucléaire p.n.i , ci-après désigné le plan , définit les mesures organisationnelles, les modes d'intervention ainsi que les moyens à mettre en œuvre pour protéger les personnes, les biens et l'environnement en cas d'accident radiologique et/ou nucléaire. il fixe le cadre et les mécanismes d'action rapide, efficace et coordonnée permettant de se prémunir et de lutter contre un accident radiologique ou nucléaire. les accidents radiologiques et/ou nucléaires sont classés par niveau selon leur importance, conformément à la réglementation en vigueur. 9 joumada el oula 1441 5 janvier 2020 29 art. 3. le plan est établi sur la base de l'analyse des différents scénarios d'accident possible et de leurs conséquences les plus dommageables. a ce titre, les éléments du plan sont, notamment les résultats de l'analyse et de l'évaluation des risques et de leurs répercussions possibles sur la santé publique et l'environnement la fixation des responsabilités de l'ensemble des intervenants, dans les différentes étapes de mise en œuvre du plan la fixation des rôles et des tâches des intervenants chargés de la conduite des opérations, de leur préparation et de leur coordination l'établissement des procédures permettant à tous les intervenants d'apporter leur contribution de façon coordonnée et de mobiliser rapidement et efficacement leurs ressources. art. 4. le plan est mis en œuvre lors de la survenance d'un accident radiologique et/ou nucléaire sur le territoire national, au niveau d'une installation radiologique et/ou nucléaire et dont les conséquences dépassent les capacités d'intervention ou les limites de la wilaya affectée hors des frontières nationales et dont les conséquences au niveau national ne sont pas négligeables. art. 5. le plan est élaboré pour une période de cinq 5 ans. il est mis à jour une 1 fois par an, et/ou en fonction de l'évolution des conditions impactant les composantes du plan. art. 6. un rapport général comportant une évaluation de l'efficacité de la mise en œuvre du plan est élaboré après un accident radiologique et/ou nucléaire. les recommandations émises lors de cette évaluation sont prises en charge au moment de la mise à jour du plan. art. 7. le plan comporte, notamment, les chapitres suivants l'évaluation des risques le recensement des moyens la mise en place des structures la planification de la réponse l'alerte l'organisation des secours la formation et l'information les consignes de bonne conduite la communication. arrêté du 26 moharram 1441 correspondant au 26 septembre 2019 modifiant l’arrêté du 10 rabie ethani 1437 correspondant au 20 janvier 2016 fixant la liste nominative des membres du conseil d’administration de l’agence nationale des fréquences. par arrêté du 26 moharram 1441 correspondant au 26 septembre 2019, l’arrêté du 10 rabie ethani 1437 correspondant au 20 janvier 2016, modifié, fixant la liste nominative des membres du conseil d’administration de l’agence nationale des fréquences, est modifié comme suit sans changement m. lounis belharrat, représentant de l’autorité de régulation de la poste et des communications électroniques . art. 8. le plan est édité et diffusé auprès de tous les intervenants participant à sa mise en œuvre, conformément aux mécanismes et à la répartition des tâches arrêtés dans le cadre du plan. art. 9. le plan est approuvé par les ministres chargés de la défense nationale, de l'intérieur et des collectivités locales et de l'énergie. art. 10. le présent arrêté sera publié au journal officiel de la république algérienne démocratique et populaire. fait à alger, le 15 safar 1441 correspondant au 14 octobre 2019. ministere de la solidarite nationale, de la famille et de la condition de la femme arrêté du 9 rabie el aouel 1441 correspondant au 6 novembre 2019 portant nomination des membres du conseil d'orientation de l'agence de développement social. par arrêté du 9 rabie el aouel 1441 correspondant au 6 novembre 2019, les membres dont les noms suivent, sont nommés, en application des dispositions de l'article 9 du décret exécutif n° 96-232 du 13 safar 1417 correspondant au 29 juin 1996, modifié et complété, portant création et fixant les statuts de l’agence de développement social, au conseil d’orientation de l'agence de développement social, pour une période de trois 3 ans renouvelable nahla dina kheddache, représentante du ministère chargé de l’intérieur et des collectivités locales ali amari, représentant du ministère chargé des finances amida benstali, représentante du ministère chargé des ressources en eau mohamed acine, représentant du ministère chargé de l'environnement et des énergies renouvelables malika lounici, représentante du ministère chargé de l'agriculture, du développement rural et de la pêche mourad senadjeki, représentant du ministère chargé des travaux publics et des transports nadia djeraoune, représentante du ministère chargé de la santé, de la population et de la réforme hospitalière zahir khenich, représentant du ministère chargé de l'enseignement supérieur et de la recherche scientifique rachid bennacer, représentant du ministère chargé de la jeunesse et des sports nassima belhaddad, représentante du ministère chargé de la formation et de l'enseignement professionnels torki noureddine rahmani, représentant du ministère chargé de l'habitat, de l'urbanisme et de la ville fouzia ramdani, représentante du ministère chargé du travail, de l'emploi et de la sécurité sociale abdellah addab, représentant du ministère chargé de la solidarité nationale, de la famille et de la condition de la femme djamel dahou, représentant de l'association nationale pour la défense du droit et la promotion de l'emploi karima kadda touati, représentante de l'association des femmes en économie verte mahfoud belhout, représentant du croissant rouge algérien tourkia dib, représentante de l'association nationale de promotion rurale. pour le ministre de la défense nationale, le vice-ministre de la défense nationale chef d’etat-major de l’armée nationale populaire ahmed gaid sala le ministre de l'intérieur, des collectivités locales et de l'aménagement du territoire salah eddine da moune le ministre de l'énergie mohamed arkab journal officiel de la republique algerienne n° 01 9 joumada el oula 1441 5 janvier 2020 30\"}"
      ]
     },
     "execution_count": 3,
     "metadata": {},
     "output_type": "execute_result"
    }
   ],
   "source": [
    "data[0]"
   ]
  },
  {
   "cell_type": "code",
   "execution_count": 4,
   "metadata": {
    "execution": {
     "iopub.execute_input": "2025-05-17T08:17:12.822483Z",
     "iopub.status.busy": "2025-05-17T08:17:12.822282Z",
     "iopub.status.idle": "2025-05-17T08:17:12.830818Z",
     "shell.execute_reply": "2025-05-17T08:17:12.830138Z",
     "shell.execute_reply.started": "2025-05-17T08:17:12.822467Z"
    },
    "trusted": true
   },
   "outputs": [],
   "source": [
    "documents = [entry[\"content\"] for entry in data if entry[\"content\"]]"
   ]
  },
  {
   "cell_type": "code",
   "execution_count": null,
   "metadata": {
    "execution": {
     "iopub.execute_input": "2025-05-17T08:17:12.831657Z",
     "iopub.status.busy": "2025-05-17T08:17:12.831488Z",
     "iopub.status.idle": "2025-05-17T08:17:12.844992Z",
     "shell.execute_reply": "2025-05-17T08:17:12.844370Z",
     "shell.execute_reply.started": "2025-05-17T08:17:12.831644Z"
    },
    "trusted": true
   },
   "outputs": [],
   "source": [
    "def chunk_text(text, size=512, stride=50):\n",
    "    words = text.split()\n",
    "    chunks = []\n",
    "    for i in range(0, len(words) - size + 1, stride):\n",
    "        chunk = \" \".join(words[i:i+size])\n",
    "        chunks.append(chunk)\n",
    "    return chunks\n"
   ]
  },
  {
   "cell_type": "code",
   "execution_count": 6,
   "metadata": {
    "execution": {
     "iopub.execute_input": "2025-05-17T08:17:12.845933Z",
     "iopub.status.busy": "2025-05-17T08:17:12.845720Z",
     "iopub.status.idle": "2025-05-17T08:17:15.361194Z",
     "shell.execute_reply": "2025-05-17T08:17:15.360523Z",
     "shell.execute_reply.started": "2025-05-17T08:17:12.845909Z"
    },
    "trusted": true
   },
   "outputs": [
    {
     "name": "stdout",
     "output_type": "stream",
     "text": [
      "0 done\n",
      "1 done\n",
      "2 done\n",
      "3 done\n",
      "4 done\n",
      "5 done\n",
      "6 done\n",
      "7 done\n",
      "8 done\n",
      "9 done\n",
      "10 done\n",
      "11 done\n",
      "12 done\n",
      "13 done\n",
      "14 done\n",
      "15 done\n",
      "16 done\n",
      "17 done\n",
      "18 done\n",
      "19 done\n",
      "20 done\n",
      "21 done\n",
      "22 done\n",
      "23 done\n",
      "24 done\n",
      "25 done\n",
      "26 done\n",
      "27 done\n",
      "28 done\n",
      "29 done\n",
      "30 done\n",
      "31 done\n",
      "32 done\n",
      "33 done\n",
      "34 done\n",
      "35 done\n",
      "36 done\n",
      "37 done\n",
      "38 done\n",
      "39 done\n",
      "40 done\n",
      "41 done\n",
      "42 done\n",
      "43 done\n",
      "44 done\n",
      "45 done\n",
      "46 done\n",
      "47 done\n",
      "48 done\n",
      "49 done\n",
      "50 done\n",
      "51 done\n",
      "52 done\n",
      "53 done\n",
      "54 done\n",
      "55 done\n",
      "56 done\n",
      "57 done\n",
      "58 done\n",
      "59 done\n",
      "60 done\n",
      "61 done\n",
      "62 done\n",
      "63 done\n",
      "64 done\n",
      "65 done\n",
      "66 done\n",
      "67 done\n",
      "68 done\n",
      "69 done\n",
      "70 done\n",
      "71 done\n",
      "72 done\n",
      "73 done\n",
      "74 done\n",
      "75 done\n",
      "76 done\n",
      "77 done\n",
      "78 done\n",
      "79 done\n",
      "80 done\n",
      "81 done\n",
      "82 done\n",
      "83 done\n",
      "84 done\n",
      "85 done\n",
      "86 done\n",
      "87 done\n",
      "88 done\n",
      "89 done\n",
      "90 done\n",
      "91 done\n",
      "92 done\n",
      "93 done\n",
      "94 done\n",
      "95 done\n",
      "96 done\n",
      "97 done\n",
      "98 done\n",
      "99 done\n",
      "100 done\n",
      "101 done\n",
      "102 done\n",
      "103 done\n",
      "104 done\n",
      "105 done\n",
      "106 done\n",
      "107 done\n",
      "108 done\n",
      "109 done\n",
      "110 done\n",
      "111 done\n",
      "112 done\n",
      "113 done\n",
      "114 done\n",
      "115 done\n",
      "116 done\n",
      "117 done\n",
      "118 done\n",
      "119 done\n",
      "120 done\n",
      "121 done\n",
      "122 done\n",
      "123 done\n",
      "124 done\n",
      "125 done\n",
      "126 done\n",
      "127 done\n",
      "128 done\n",
      "129 done\n",
      "130 done\n",
      "131 done\n",
      "132 done\n",
      "133 done\n",
      "134 done\n",
      "135 done\n",
      "136 done\n",
      "137 done\n",
      "138 done\n",
      "139 done\n",
      "140 done\n",
      "141 done\n",
      "142 done\n",
      "143 done\n",
      "144 done\n",
      "145 done\n",
      "146 done\n",
      "147 done\n",
      "148 done\n",
      "149 done\n",
      "150 done\n",
      "151 done\n",
      "152 done\n",
      "153 done\n",
      "154 done\n",
      "155 done\n",
      "156 done\n",
      "157 done\n",
      "158 done\n",
      "159 done\n",
      "160 done\n",
      "161 done\n",
      "162 done\n",
      "163 done\n",
      "164 done\n",
      "165 done\n",
      "166 done\n",
      "167 done\n",
      "168 done\n",
      "169 done\n",
      "170 done\n",
      "171 done\n",
      "172 done\n",
      "173 done\n",
      "174 done\n",
      "175 done\n",
      "176 done\n",
      "177 done\n",
      "178 done\n",
      "179 done\n",
      "180 done\n",
      "181 done\n",
      "182 done\n",
      "183 done\n",
      "184 done\n",
      "185 done\n",
      "186 done\n",
      "187 done\n",
      "188 done\n",
      "189 done\n",
      "190 done\n",
      "191 done\n",
      "192 done\n",
      "193 done\n",
      "194 done\n",
      "195 done\n",
      "196 done\n",
      "197 done\n",
      "198 done\n",
      "199 done\n",
      "200 done\n",
      "201 done\n",
      "202 done\n",
      "203 done\n",
      "204 done\n",
      "205 done\n",
      "206 done\n",
      "207 done\n",
      "208 done\n",
      "209 done\n",
      "210 done\n",
      "211 done\n",
      "212 done\n",
      "213 done\n",
      "214 done\n",
      "215 done\n",
      "216 done\n",
      "217 done\n",
      "218 done\n",
      "219 done\n",
      "220 done\n",
      "221 done\n",
      "222 done\n",
      "223 done\n",
      "224 done\n",
      "225 done\n",
      "226 done\n",
      "227 done\n",
      "228 done\n",
      "229 done\n",
      "230 done\n",
      "231 done\n",
      "232 done\n",
      "233 done\n",
      "234 done\n",
      "235 done\n",
      "236 done\n",
      "237 done\n",
      "238 done\n",
      "239 done\n",
      "240 done\n",
      "241 done\n",
      "242 done\n",
      "243 done\n",
      "244 done\n",
      "245 done\n",
      "246 done\n",
      "247 done\n",
      "248 done\n",
      "249 done\n",
      "250 done\n",
      "251 done\n",
      "252 done\n",
      "253 done\n",
      "254 done\n",
      "255 done\n",
      "256 done\n",
      "257 done\n",
      "258 done\n",
      "259 done\n",
      "260 done\n",
      "261 done\n",
      "262 done\n",
      "263 done\n",
      "264 done\n",
      "265 done\n",
      "266 done\n",
      "267 done\n",
      "268 done\n",
      "269 done\n",
      "270 done\n",
      "271 done\n",
      "272 done\n",
      "273 done\n",
      "274 done\n",
      "275 done\n",
      "276 done\n",
      "277 done\n",
      "278 done\n",
      "279 done\n",
      "280 done\n",
      "281 done\n",
      "282 done\n",
      "283 done\n",
      "284 done\n",
      "285 done\n",
      "286 done\n",
      "287 done\n",
      "288 done\n",
      "289 done\n",
      "290 done\n",
      "291 done\n",
      "292 done\n",
      "293 done\n",
      "294 done\n",
      "295 done\n",
      "296 done\n",
      "297 done\n",
      "298 done\n",
      "299 done\n",
      "300 done\n",
      "301 done\n",
      "302 done\n",
      "303 done\n",
      "304 done\n",
      "305 done\n",
      "306 done\n",
      "307 done\n",
      "308 done\n",
      "309 done\n",
      "310 done\n",
      "311 done\n",
      "312 done\n",
      "313 done\n",
      "314 done\n",
      "315 done\n",
      "316 done\n",
      "317 done\n",
      "318 done\n",
      "319 done\n",
      "320 done\n",
      "321 done\n",
      "322 done\n",
      "323 done\n",
      "324 done\n",
      "325 done\n",
      "326 done\n",
      "327 done\n",
      "328 done\n",
      "329 done\n",
      "330 done\n",
      "331 done\n",
      "332 done\n",
      "333 done\n",
      "334 done\n",
      "335 done\n",
      "336 done\n",
      "337 done\n",
      "338 done\n",
      "339 done\n",
      "340 done\n",
      "341 done\n",
      "342 done\n",
      "343 done\n",
      "344 done\n",
      "345 done\n",
      "346 done\n",
      "347 done\n",
      "348 done\n",
      "349 done\n",
      "350 done\n",
      "351 done\n",
      "352 done\n",
      "353 done\n",
      "354 done\n",
      "355 done\n",
      "356 done\n",
      "357 done\n",
      "358 done\n",
      "359 done\n",
      "360 done\n",
      "361 done\n",
      "362 done\n",
      "363 done\n",
      "364 done\n",
      "365 done\n",
      "366 done\n",
      "367 done\n",
      "368 done\n",
      "369 done\n",
      "370 done\n",
      "371 done\n",
      "372 done\n",
      "373 done\n",
      "374 done\n",
      "375 done\n",
      "376 done\n",
      "377 done\n",
      "378 done\n",
      "379 done\n",
      "380 done\n",
      "381 done\n",
      "382 done\n",
      "383 done\n",
      "384 done\n",
      "385 done\n",
      "386 done\n",
      "387 done\n",
      "388 done\n",
      "389 done\n",
      "390 done\n",
      "391 done\n",
      "392 done\n",
      "393 done\n",
      "394 done\n",
      "395 done\n",
      "396 done\n",
      "397 done\n",
      "398 done\n",
      "399 done\n",
      "400 done\n",
      "401 done\n",
      "402 done\n",
      "403 done\n",
      "404 done\n",
      "405 done\n",
      "406 done\n",
      "407 done\n",
      "408 done\n",
      "409 done\n",
      "410 done\n",
      "411 done\n",
      "412 done\n",
      "413 done\n",
      "414 done\n",
      "415 done\n",
      "416 done\n",
      "417 done\n",
      "418 done\n",
      "419 done\n",
      "420 done\n",
      "421 done\n",
      "422 done\n",
      "423 done\n",
      "424 done\n",
      "425 done\n",
      "426 done\n",
      "427 done\n",
      "428 done\n",
      "429 done\n",
      "430 done\n",
      "431 done\n",
      "432 done\n",
      "433 done\n",
      "434 done\n",
      "435 done\n",
      "436 done\n",
      "437 done\n",
      "438 done\n",
      "439 done\n",
      "440 done\n",
      "441 done\n",
      "442 done\n",
      "443 done\n",
      "444 done\n",
      "445 done\n",
      "446 done\n",
      "447 done\n",
      "448 done\n",
      "449 done\n",
      "450 done\n",
      "451 done\n",
      "452 done\n",
      "453 done\n",
      "454 done\n",
      "455 done\n",
      "456 done\n"
     ]
    }
   ],
   "source": [
    "all_chunks = []\n",
    "for i, doc in enumerate(documents):\n",
    "    chunks = chunk_text(doc)\n",
    "    print(f\"{i} done\")\n",
    "    all_chunks.extend(chunks)"
   ]
  },
  {
   "cell_type": "markdown",
   "metadata": {},
   "source": [
    "## Get embedding model"
   ]
  },
  {
   "cell_type": "code",
   "execution_count": null,
   "metadata": {
    "execution": {
     "iopub.execute_input": "2025-05-17T08:17:15.362210Z",
     "iopub.status.busy": "2025-05-17T08:17:15.361939Z",
     "iopub.status.idle": "2025-05-17T08:17:51.414330Z",
     "shell.execute_reply": "2025-05-17T08:17:51.413532Z",
     "shell.execute_reply.started": "2025-05-17T08:17:15.362190Z"
    },
    "trusted": true
   },
   "outputs": [
    {
     "name": "stderr",
     "output_type": "stream",
     "text": [
      "2025-05-17 08:17:27.968552: E external/local_xla/xla/stream_executor/cuda/cuda_fft.cc:477] Unable to register cuFFT factory: Attempting to register factory for plugin cuFFT when one has already been registered\n",
      "WARNING: All log messages before absl::InitializeLog() is called are written to STDERR\n",
      "E0000 00:00:1747469848.154871      31 cuda_dnn.cc:8310] Unable to register cuDNN factory: Attempting to register factory for plugin cuDNN when one has already been registered\n",
      "E0000 00:00:1747469848.206604      31 cuda_blas.cc:1418] Unable to register cuBLAS factory: Attempting to register factory for plugin cuBLAS when one has already been registered\n"
     ]
    },
    {
     "data": {
      "application/vnd.jupyter.widget-view+json": {
       "model_id": "382bdae941934503beb1e8510b04b5ba",
       "version_major": 2,
       "version_minor": 0
      },
      "text/plain": [
       "modules.json:   0%|          | 0.00/229 [00:00<?, ?B/s]"
      ]
     },
     "metadata": {},
     "output_type": "display_data"
    },
    {
     "data": {
      "application/vnd.jupyter.widget-view+json": {
       "model_id": "22be410e836643b8a4fe6bf15a673e5b",
       "version_major": 2,
       "version_minor": 0
      },
      "text/plain": [
       "config_sentence_transformers.json:   0%|          | 0.00/122 [00:00<?, ?B/s]"
      ]
     },
     "metadata": {},
     "output_type": "display_data"
    },
    {
     "data": {
      "application/vnd.jupyter.widget-view+json": {
       "model_id": "ac2719541500453ca6126a8333fb7450",
       "version_major": 2,
       "version_minor": 0
      },
      "text/plain": [
       "README.md:   0%|          | 0.00/3.89k [00:00<?, ?B/s]"
      ]
     },
     "metadata": {},
     "output_type": "display_data"
    },
    {
     "data": {
      "application/vnd.jupyter.widget-view+json": {
       "model_id": "a2a7e9e66a3946c69cc6e0d1ec3014c2",
       "version_major": 2,
       "version_minor": 0
      },
      "text/plain": [
       "sentence_bert_config.json:   0%|          | 0.00/53.0 [00:00<?, ?B/s]"
      ]
     },
     "metadata": {},
     "output_type": "display_data"
    },
    {
     "data": {
      "application/vnd.jupyter.widget-view+json": {
       "model_id": "fc086cd996ba4e6fbf4710ca4e3781b7",
       "version_major": 2,
       "version_minor": 0
      },
      "text/plain": [
       "config.json:   0%|          | 0.00/645 [00:00<?, ?B/s]"
      ]
     },
     "metadata": {},
     "output_type": "display_data"
    },
    {
     "name": "stderr",
     "output_type": "stream",
     "text": [
      "Xet Storage is enabled for this repo, but the 'hf_xet' package is not installed. Falling back to regular HTTP download. For better performance, install the package with: `pip install huggingface_hub[hf_xet]` or `pip install hf_xet`\n"
     ]
    },
    {
     "data": {
      "application/vnd.jupyter.widget-view+json": {
       "model_id": "dc725cf80e9a48c39f539c2e230b4f97",
       "version_major": 2,
       "version_minor": 0
      },
      "text/plain": [
       "model.safetensors:   0%|          | 0.00/471M [00:00<?, ?B/s]"
      ]
     },
     "metadata": {},
     "output_type": "display_data"
    },
    {
     "data": {
      "application/vnd.jupyter.widget-view+json": {
       "model_id": "36bcb9929f5f4b73bebf43a798074e07",
       "version_major": 2,
       "version_minor": 0
      },
      "text/plain": [
       "tokenizer_config.json:   0%|          | 0.00/480 [00:00<?, ?B/s]"
      ]
     },
     "metadata": {},
     "output_type": "display_data"
    },
    {
     "name": "stderr",
     "output_type": "stream",
     "text": [
      "Xet Storage is enabled for this repo, but the 'hf_xet' package is not installed. Falling back to regular HTTP download. For better performance, install the package with: `pip install huggingface_hub[hf_xet]` or `pip install hf_xet`\n"
     ]
    },
    {
     "data": {
      "application/vnd.jupyter.widget-view+json": {
       "model_id": "1e4c9c4c7b944aa3b14adb63abf49d62",
       "version_major": 2,
       "version_minor": 0
      },
      "text/plain": [
       "tokenizer.json:   0%|          | 0.00/9.08M [00:00<?, ?B/s]"
      ]
     },
     "metadata": {},
     "output_type": "display_data"
    },
    {
     "data": {
      "application/vnd.jupyter.widget-view+json": {
       "model_id": "0b13169fff344a158af671f89b27a470",
       "version_major": 2,
       "version_minor": 0
      },
      "text/plain": [
       "special_tokens_map.json:   0%|          | 0.00/239 [00:00<?, ?B/s]"
      ]
     },
     "metadata": {},
     "output_type": "display_data"
    },
    {
     "data": {
      "application/vnd.jupyter.widget-view+json": {
       "model_id": "2361c39caa5d4ca6850d1a6a1a3459de",
       "version_major": 2,
       "version_minor": 0
      },
      "text/plain": [
       "config.json:   0%|          | 0.00/190 [00:00<?, ?B/s]"
      ]
     },
     "metadata": {},
     "output_type": "display_data"
    }
   ],
   "source": [
    "model = SentenceTransformer(\"sentence-transformers/paraphrase-multilingual-MiniLM-L12-v2\")"
   ]
  },
  {
   "cell_type": "code",
   "execution_count": 8,
   "metadata": {
    "execution": {
     "iopub.execute_input": "2025-05-17T08:17:51.415496Z",
     "iopub.status.busy": "2025-05-17T08:17:51.415209Z",
     "iopub.status.idle": "2025-05-17T08:21:56.850629Z",
     "shell.execute_reply": "2025-05-17T08:21:56.850042Z",
     "shell.execute_reply.started": "2025-05-17T08:17:51.415463Z"
    },
    "trusted": true
   },
   "outputs": [
    {
     "data": {
      "application/vnd.jupyter.widget-view+json": {
       "model_id": "db24274310d24e0d8e6c10fbfc6fc5f0",
       "version_major": 2,
       "version_minor": 0
      },
      "text/plain": [
       "Batches:   0%|          | 0/3336 [00:00<?, ?it/s]"
      ]
     },
     "metadata": {},
     "output_type": "display_data"
    }
   ],
   "source": [
    "chunk_embeddings = model.encode(all_chunks, convert_to_numpy=True, show_progress_bar=True)"
   ]
  },
  {
   "cell_type": "code",
   "execution_count": null,
   "metadata": {
    "execution": {
     "iopub.execute_input": "2025-05-17T08:21:56.852513Z",
     "iopub.status.busy": "2025-05-17T08:21:56.852313Z",
     "iopub.status.idle": "2025-05-17T08:21:56.901530Z",
     "shell.execute_reply": "2025-05-17T08:21:56.900959Z",
     "shell.execute_reply.started": "2025-05-17T08:21:56.852499Z"
    },
    "trusted": true
   },
   "outputs": [
    {
     "name": "stdout",
     "output_type": "stream",
     "text": [
      "Shape: (106745, 384)\n",
      "Contains NaNs: False\n"
     ]
    }
   ],
   "source": [
    "print(\"Shape:\", chunk_embeddings.shape)\n",
    "print(\"Contains NaNs:\", np.isnan(chunk_embeddings).any())"
   ]
  },
  {
   "cell_type": "markdown",
   "metadata": {},
   "source": [
    "## Get clusters"
   ]
  },
  {
   "cell_type": "code",
   "execution_count": null,
   "metadata": {
    "execution": {
     "iopub.execute_input": "2025-05-17T08:21:56.904108Z",
     "iopub.status.busy": "2025-05-17T08:21:56.903710Z",
     "iopub.status.idle": "2025-05-17T08:33:14.376694Z",
     "shell.execute_reply": "2025-05-17T08:33:14.375966Z",
     "shell.execute_reply.started": "2025-05-17T08:21:56.904091Z"
    },
    "trusted": true
   },
   "outputs": [
    {
     "name": "stdout",
     "output_type": "stream",
     "text": [
      "Initialization complete\n",
      "Iteration 0, inertia 217310.03125.\n",
      "Iteration 1, inertia 162430.890625.\n",
      "Iteration 2, inertia 157628.671875.\n",
      "Iteration 3, inertia 155934.75.\n",
      "Iteration 4, inertia 155129.90625.\n",
      "Iteration 5, inertia 154680.34375.\n",
      "Iteration 6, inertia 154412.75.\n",
      "Iteration 7, inertia 154243.65625.\n",
      "Iteration 8, inertia 154135.5.\n",
      "Iteration 9, inertia 154063.1875.\n",
      "Iteration 10, inertia 154012.65625.\n",
      "Iteration 11, inertia 153973.9375.\n",
      "Iteration 12, inertia 153941.6875.\n",
      "Iteration 13, inertia 153920.84375.\n",
      "Iteration 14, inertia 153902.59375.\n",
      "Iteration 15, inertia 153888.921875.\n",
      "Iteration 16, inertia 153878.65625.\n",
      "Iteration 17, inertia 153872.6875.\n",
      "Iteration 18, inertia 153866.15625.\n",
      "Iteration 19, inertia 153860.578125.\n",
      "Iteration 20, inertia 153856.9375.\n",
      "Iteration 21, inertia 153853.59375.\n",
      "Iteration 22, inertia 153851.25.\n",
      "Iteration 23, inertia 153849.3125.\n",
      "Iteration 24, inertia 153847.96875.\n",
      "Iteration 25, inertia 153846.25.\n",
      "Iteration 26, inertia 153845.171875.\n",
      "Iteration 27, inertia 153844.578125.\n",
      "Iteration 28, inertia 153843.65625.\n",
      "Iteration 29, inertia 153842.46875.\n",
      "Iteration 30, inertia 153842.09375.\n",
      "Iteration 31, inertia 153841.84375.\n",
      "Iteration 32, inertia 153841.5625.\n",
      "Converged at iteration 32: strict convergence.\n"
     ]
    },
    {
     "data": {
      "text/html": [
       "<style>#sk-container-id-1 {color: black;background-color: white;}#sk-container-id-1 pre{padding: 0;}#sk-container-id-1 div.sk-toggleable {background-color: white;}#sk-container-id-1 label.sk-toggleable__label {cursor: pointer;display: block;width: 100%;margin-bottom: 0;padding: 0.3em;box-sizing: border-box;text-align: center;}#sk-container-id-1 label.sk-toggleable__label-arrow:before {content: \"▸\";float: left;margin-right: 0.25em;color: #696969;}#sk-container-id-1 label.sk-toggleable__label-arrow:hover:before {color: black;}#sk-container-id-1 div.sk-estimator:hover label.sk-toggleable__label-arrow:before {color: black;}#sk-container-id-1 div.sk-toggleable__content {max-height: 0;max-width: 0;overflow: hidden;text-align: left;background-color: #f0f8ff;}#sk-container-id-1 div.sk-toggleable__content pre {margin: 0.2em;color: black;border-radius: 0.25em;background-color: #f0f8ff;}#sk-container-id-1 input.sk-toggleable__control:checked~div.sk-toggleable__content {max-height: 200px;max-width: 100%;overflow: auto;}#sk-container-id-1 input.sk-toggleable__control:checked~label.sk-toggleable__label-arrow:before {content: \"▾\";}#sk-container-id-1 div.sk-estimator input.sk-toggleable__control:checked~label.sk-toggleable__label {background-color: #d4ebff;}#sk-container-id-1 div.sk-label input.sk-toggleable__control:checked~label.sk-toggleable__label {background-color: #d4ebff;}#sk-container-id-1 input.sk-hidden--visually {border: 0;clip: rect(1px 1px 1px 1px);clip: rect(1px, 1px, 1px, 1px);height: 1px;margin: -1px;overflow: hidden;padding: 0;position: absolute;width: 1px;}#sk-container-id-1 div.sk-estimator {font-family: monospace;background-color: #f0f8ff;border: 1px dotted black;border-radius: 0.25em;box-sizing: border-box;margin-bottom: 0.5em;}#sk-container-id-1 div.sk-estimator:hover {background-color: #d4ebff;}#sk-container-id-1 div.sk-parallel-item::after {content: \"\";width: 100%;border-bottom: 1px solid gray;flex-grow: 1;}#sk-container-id-1 div.sk-label:hover label.sk-toggleable__label {background-color: #d4ebff;}#sk-container-id-1 div.sk-serial::before {content: \"\";position: absolute;border-left: 1px solid gray;box-sizing: border-box;top: 0;bottom: 0;left: 50%;z-index: 0;}#sk-container-id-1 div.sk-serial {display: flex;flex-direction: column;align-items: center;background-color: white;padding-right: 0.2em;padding-left: 0.2em;position: relative;}#sk-container-id-1 div.sk-item {position: relative;z-index: 1;}#sk-container-id-1 div.sk-parallel {display: flex;align-items: stretch;justify-content: center;background-color: white;position: relative;}#sk-container-id-1 div.sk-item::before, #sk-container-id-1 div.sk-parallel-item::before {content: \"\";position: absolute;border-left: 1px solid gray;box-sizing: border-box;top: 0;bottom: 0;left: 50%;z-index: -1;}#sk-container-id-1 div.sk-parallel-item {display: flex;flex-direction: column;z-index: 1;position: relative;background-color: white;}#sk-container-id-1 div.sk-parallel-item:first-child::after {align-self: flex-end;width: 50%;}#sk-container-id-1 div.sk-parallel-item:last-child::after {align-self: flex-start;width: 50%;}#sk-container-id-1 div.sk-parallel-item:only-child::after {width: 0;}#sk-container-id-1 div.sk-dashed-wrapped {border: 1px dashed gray;margin: 0 0.4em 0.5em 0.4em;box-sizing: border-box;padding-bottom: 0.4em;background-color: white;}#sk-container-id-1 div.sk-label label {font-family: monospace;font-weight: bold;display: inline-block;line-height: 1.2em;}#sk-container-id-1 div.sk-label-container {text-align: center;}#sk-container-id-1 div.sk-container {/* jupyter's `normalize.less` sets `[hidden] { display: none; }` but bootstrap.min.css set `[hidden] { display: none !important; }` so we also need the `!important` here to be able to override the default hidden behavior on the sphinx rendered scikit-learn.org. See: https://github.com/scikit-learn/scikit-learn/issues/21755 */display: inline-block !important;position: relative;}#sk-container-id-1 div.sk-text-repr-fallback {display: none;}</style><div id=\"sk-container-id-1\" class=\"sk-top-container\"><div class=\"sk-text-repr-fallback\"><pre>KMeans(n_clusters=5484, n_init=&#x27;auto&#x27;, random_state=42, verbose=1)</pre><b>In a Jupyter environment, please rerun this cell to show the HTML representation or trust the notebook. <br />On GitHub, the HTML representation is unable to render, please try loading this page with nbviewer.org.</b></div><div class=\"sk-container\" hidden><div class=\"sk-item\"><div class=\"sk-estimator sk-toggleable\"><input class=\"sk-toggleable__control sk-hidden--visually\" id=\"sk-estimator-id-1\" type=\"checkbox\" checked><label for=\"sk-estimator-id-1\" class=\"sk-toggleable__label sk-toggleable__label-arrow\">KMeans</label><div class=\"sk-toggleable__content\"><pre>KMeans(n_clusters=5484, n_init=&#x27;auto&#x27;, random_state=42, verbose=1)</pre></div></div></div></div></div>"
      ],
      "text/plain": [
       "KMeans(n_clusters=5484, n_init='auto', random_state=42, verbose=1)"
      ]
     },
     "execution_count": 10,
     "metadata": {},
     "output_type": "execute_result"
    }
   ],
   "source": [
    "num_clusters = len(data) * 3 * 4 \n",
    "clustering = KMeans(n_clusters=num_clusters, verbose=1, n_init=\"auto\", random_state=42)\n",
    "clustering.fit(chunk_embeddings)"
   ]
  },
  {
   "cell_type": "code",
   "execution_count": null,
   "metadata": {
    "execution": {
     "iopub.execute_input": "2025-05-17T08:33:14.377774Z",
     "iopub.status.busy": "2025-05-17T08:33:14.377491Z",
     "iopub.status.idle": "2025-05-17T08:33:14.397783Z",
     "shell.execute_reply": "2025-05-17T08:33:14.397034Z",
     "shell.execute_reply.started": "2025-05-17T08:33:14.377747Z"
    },
    "trusted": true
   },
   "outputs": [
    {
     "name": "stdout",
     "output_type": "stream",
     "text": [
      "Min cluster size: 1\n",
      "Max cluster size: 127\n",
      "Clusters with < 3 chunks: 123\n"
     ]
    }
   ],
   "source": [
    "counts = Counter(clustering.labels_)\n",
    "print(f\"Min cluster size: {min(counts.values())}\")\n",
    "print(f\"Max cluster size: {max(counts.values())}\")\n",
    "print(f\"Clusters with < 3 chunks: {sum(1 for c in counts.values() if c < 3)}\")"
   ]
  },
  {
   "cell_type": "code",
   "execution_count": null,
   "metadata": {
    "execution": {
     "iopub.execute_input": "2025-05-17T08:33:17.349861Z",
     "iopub.status.busy": "2025-05-17T08:33:17.349231Z",
     "iopub.status.idle": "2025-05-17T08:33:17.591446Z",
     "shell.execute_reply": "2025-05-17T08:33:17.590779Z",
     "shell.execute_reply.started": "2025-05-17T08:33:17.349834Z"
    },
    "trusted": true
   },
   "outputs": [
    {
     "name": "stderr",
     "output_type": "stream",
     "text": [
      "100%|██████████| 106745/106745 [00:00<00:00, 455368.90it/s]\n"
     ]
    }
   ],
   "source": [
    "clustered_chunks = {}\n",
    "for idx, label in tqdm(enumerate(clustering.labels_), total=len(clustering.labels_)):\n",
    "    clustered_chunks.setdefault(label, []).append(all_chunks[idx])"
   ]
  },
  {
   "cell_type": "markdown",
   "metadata": {},
   "source": [
    "## Embedding"
   ]
  },
  {
   "cell_type": "code",
   "execution_count": null,
   "metadata": {
    "execution": {
     "iopub.execute_input": "2025-05-17T08:33:17.592556Z",
     "iopub.status.busy": "2025-05-17T08:33:17.592323Z",
     "iopub.status.idle": "2025-05-17T08:33:18.910487Z",
     "shell.execute_reply": "2025-05-17T08:33:18.909884Z",
     "shell.execute_reply.started": "2025-05-17T08:33:17.592540Z"
    },
    "trusted": true
   },
   "outputs": [
    {
     "name": "stderr",
     "output_type": "stream",
     "text": [
      "Generating positive pairs: 100%|██████████| 5484/5484 [00:00<00:00, 8643.67it/s]\n",
      "Generating negative pairs: 100%|██████████| 101261/101261 [00:00<00:00, 150329.80it/s]\n"
     ]
    }
   ],
   "source": [
    "train_examples = []\n",
    "\n",
    "# positive pairs (from the same cluster)\n",
    "for cluster_chunks in tqdm(clustered_chunks.values(), desc=\"Generating positive pairs\"):\n",
    "    if len(cluster_chunks) < 2:\n",
    "        continue\n",
    "    for i in range(len(cluster_chunks) - 1):\n",
    "        train_examples.append(InputExample(texts=[cluster_chunks[i], cluster_chunks[i + 1]], label=1.0))\n",
    "\n",
    "# negative pairs (random chunks from different clusters)\n",
    "for _ in tqdm(range(len(train_examples)), desc=\"Generating negative pairs\"):\n",
    "    chunk1 = random.choice(all_chunks)\n",
    "    chunk2 = random.choice(all_chunks)\n",
    "    train_examples.append(InputExample(texts=[chunk1, chunk2], label=0.0))\n"
   ]
  },
  {
   "cell_type": "markdown",
   "metadata": {},
   "source": [
    "## Load data"
   ]
  },
  {
   "cell_type": "code",
   "execution_count": null,
   "metadata": {
    "execution": {
     "iopub.execute_input": "2025-05-17T08:33:18.915725Z",
     "iopub.status.busy": "2025-05-17T08:33:18.915524Z",
     "iopub.status.idle": "2025-05-17T08:33:18.932326Z",
     "shell.execute_reply": "2025-05-17T08:33:18.931709Z",
     "shell.execute_reply.started": "2025-05-17T08:33:18.915694Z"
    },
    "trusted": true
   },
   "outputs": [],
   "source": [
    "train_dataloader = DataLoader(train_examples, shuffle=True, batch_size=16, num_workers=0)"
   ]
  },
  {
   "cell_type": "code",
   "execution_count": null,
   "metadata": {
    "execution": {
     "iopub.execute_input": "2025-05-17T08:33:18.948445Z",
     "iopub.status.busy": "2025-05-17T08:33:18.948225Z",
     "iopub.status.idle": "2025-05-17T08:33:18.961738Z",
     "shell.execute_reply": "2025-05-17T08:33:18.961037Z",
     "shell.execute_reply.started": "2025-05-17T08:33:18.948429Z"
    },
    "trusted": true
   },
   "outputs": [
    {
     "name": "stdout",
     "output_type": "stream",
     "text": [
      "<class 'list'>\n",
      "<class 'sentence_transformers.readers.InputExample.InputExample'>\n",
      "1.0\n"
     ]
    }
   ],
   "source": [
    "print(type(train_examples))\n",
    "print(type(train_examples[0]))\n",
    "print(train_examples[0].label)"
   ]
  },
  {
   "cell_type": "code",
   "execution_count": null,
   "metadata": {
    "execution": {
     "iopub.execute_input": "2025-05-17T08:33:18.963206Z",
     "iopub.status.busy": "2025-05-17T08:33:18.962520Z",
     "iopub.status.idle": "2025-05-17T08:33:18.979704Z",
     "shell.execute_reply": "2025-05-17T08:33:18.979039Z",
     "shell.execute_reply.started": "2025-05-17T08:33:18.963183Z"
    },
    "trusted": true
   },
   "outputs": [],
   "source": [
    "class ProgressLogger:\n",
    "    def __init__(self, total_steps):\n",
    "        self.total_steps = total_steps\n",
    "        self.current_step = 0\n",
    "\n",
    "    def on_step(self):\n",
    "        self.current_step += 1\n",
    "        if self.current_step % 1000 == 0 or self.current_step == self.total_steps:\n",
    "            print(f\"Training step {self.current_step}/{self.total_steps * 3}\")\n",
    "\n",
    "batches_per_epoch = len(train_dataloader)\n",
    "total_steps = batches_per_epoch * 1 \n",
    "progress_logger = ProgressLogger(total_steps)\n",
    "\n",
    "# wrap the train loss to add a callback hook\n",
    "class LossWithProgress(losses.CosineSimilarityLoss):\n",
    "    def forward(self, sentence_features, labels):\n",
    "        progress_logger.on_step()\n",
    "        return super().forward(sentence_features, labels)\n",
    "\n",
    "train_loss = LossWithProgress(model)"
   ]
  },
  {
   "cell_type": "markdown",
   "metadata": {},
   "source": [
    "## Use GPU"
   ]
  },
  {
   "cell_type": "code",
   "execution_count": null,
   "metadata": {
    "execution": {
     "iopub.execute_input": "2025-05-17T08:33:18.980643Z",
     "iopub.status.busy": "2025-05-17T08:33:18.980418Z",
     "iopub.status.idle": "2025-05-17T08:33:18.996771Z",
     "shell.execute_reply": "2025-05-17T08:33:18.996221Z",
     "shell.execute_reply.started": "2025-05-17T08:33:18.980628Z"
    },
    "trusted": true
   },
   "outputs": [
    {
     "name": "stdout",
     "output_type": "stream",
     "text": [
      "True\n"
     ]
    }
   ],
   "source": [
    "print(torch.cuda.is_available())"
   ]
  },
  {
   "cell_type": "code",
   "execution_count": 21,
   "metadata": {
    "execution": {
     "iopub.execute_input": "2025-05-17T08:33:18.997800Z",
     "iopub.status.busy": "2025-05-17T08:33:18.997582Z",
     "iopub.status.idle": "2025-05-17T08:33:19.018728Z",
     "shell.execute_reply": "2025-05-17T08:33:19.018150Z",
     "shell.execute_reply.started": "2025-05-17T08:33:18.997786Z"
    },
    "trusted": true
   },
   "outputs": [
    {
     "data": {
      "text/plain": [
       "SentenceTransformer(\n",
       "  (0): Transformer({'max_seq_length': 128, 'do_lower_case': False}) with Transformer model: BertModel \n",
       "  (1): Pooling({'word_embedding_dimension': 384, 'pooling_mode_cls_token': False, 'pooling_mode_mean_tokens': True, 'pooling_mode_max_tokens': False, 'pooling_mode_mean_sqrt_len_tokens': False, 'pooling_mode_weightedmean_tokens': False, 'pooling_mode_lasttoken': False, 'include_prompt': True})\n",
       ")"
      ]
     },
     "execution_count": 21,
     "metadata": {},
     "output_type": "execute_result"
    }
   ],
   "source": [
    "device = \"cuda\" if torch.cuda.is_available() else \"cpu\"\n",
    "model.to(device)"
   ]
  },
  {
   "cell_type": "code",
   "execution_count": 22,
   "metadata": {
    "execution": {
     "iopub.execute_input": "2025-05-17T08:33:19.019652Z",
     "iopub.status.busy": "2025-05-17T08:33:19.019443Z",
     "iopub.status.idle": "2025-05-17T08:33:19.031732Z",
     "shell.execute_reply": "2025-05-17T08:33:19.031046Z",
     "shell.execute_reply.started": "2025-05-17T08:33:19.019630Z"
    },
    "trusted": true
   },
   "outputs": [],
   "source": [
    "logging.basicConfig(format='%(asctime)s - %(message)s', level=logging.INFO)"
   ]
  },
  {
   "cell_type": "code",
   "execution_count": null,
   "metadata": {
    "execution": {
     "iopub.execute_input": "2025-05-17T08:33:19.033137Z",
     "iopub.status.busy": "2025-05-17T08:33:19.032490Z",
     "iopub.status.idle": "2025-05-17T08:33:19.047742Z",
     "shell.execute_reply": "2025-05-17T08:33:19.047076Z",
     "shell.execute_reply.started": "2025-05-17T08:33:19.033121Z"
    },
    "trusted": true
   },
   "outputs": [
    {
     "name": "stdout",
     "output_type": "stream",
     "text": [
      "True\n",
      "0\n",
      "Tesla P100-PCIE-16GB\n"
     ]
    }
   ],
   "source": [
    "print(torch.cuda.is_available())\n",
    "print(torch.cuda.current_device())\n",
    "print(torch.cuda.get_device_name(0))"
   ]
  },
  {
   "cell_type": "code",
   "execution_count": 24,
   "metadata": {
    "execution": {
     "iopub.execute_input": "2025-05-17T08:33:19.048579Z",
     "iopub.status.busy": "2025-05-17T08:33:19.048334Z",
     "iopub.status.idle": "2025-05-17T08:33:19.064427Z",
     "shell.execute_reply": "2025-05-17T08:33:19.063777Z",
     "shell.execute_reply.started": "2025-05-17T08:33:19.048550Z"
    },
    "trusted": true
   },
   "outputs": [
    {
     "name": "stdout",
     "output_type": "stream",
     "text": [
      "Torch version: 2.5.1+cu124\n",
      "CUDA version: 12.4\n",
      "cuDNN version: 90100\n",
      "Is CUDA available: True\n"
     ]
    }
   ],
   "source": [
    "print(\"Torch version:\", torch.__version__)\n",
    "print(\"CUDA version:\", torch.version.cuda)\n",
    "print(\"cuDNN version:\", torch.backends.cudnn.version())\n",
    "print(\"Is CUDA available:\", torch.cuda.is_available())"
   ]
  },
  {
   "cell_type": "code",
   "execution_count": 25,
   "metadata": {
    "execution": {
     "iopub.execute_input": "2025-05-17T08:33:19.065219Z",
     "iopub.status.busy": "2025-05-17T08:33:19.065058Z",
     "iopub.status.idle": "2025-05-17T08:33:19.082330Z",
     "shell.execute_reply": "2025-05-17T08:33:19.081674Z",
     "shell.execute_reply.started": "2025-05-17T08:33:19.065206Z"
    },
    "trusted": true
   },
   "outputs": [
    {
     "data": {
      "text/plain": [
       "SentenceTransformer(\n",
       "  (0): Transformer({'max_seq_length': 128, 'do_lower_case': False}) with Transformer model: BertModel \n",
       "  (1): Pooling({'word_embedding_dimension': 384, 'pooling_mode_cls_token': False, 'pooling_mode_mean_tokens': True, 'pooling_mode_max_tokens': False, 'pooling_mode_mean_sqrt_len_tokens': False, 'pooling_mode_weightedmean_tokens': False, 'pooling_mode_lasttoken': False, 'include_prompt': True})\n",
       ")"
      ]
     },
     "execution_count": 25,
     "metadata": {},
     "output_type": "execute_result"
    }
   ],
   "source": [
    "model.train()"
   ]
  },
  {
   "cell_type": "code",
   "execution_count": null,
   "metadata": {
    "execution": {
     "iopub.execute_input": "2025-05-17T08:33:19.083249Z",
     "iopub.status.busy": "2025-05-17T08:33:19.083021Z",
     "iopub.status.idle": "2025-05-17T08:33:19.097259Z",
     "shell.execute_reply": "2025-05-17T08:33:19.096577Z",
     "shell.execute_reply.started": "2025-05-17T08:33:19.083227Z"
    },
    "trusted": true
   },
   "outputs": [],
   "source": [
    "os.environ[\"WANDB_DISABLED\"] = \"true\""
   ]
  },
  {
   "cell_type": "code",
   "execution_count": 27,
   "metadata": {
    "execution": {
     "iopub.execute_input": "2025-05-17T08:33:19.098235Z",
     "iopub.status.busy": "2025-05-17T08:33:19.098021Z",
     "iopub.status.idle": "2025-05-17T08:33:19.111959Z",
     "shell.execute_reply": "2025-05-17T08:33:19.111359Z",
     "shell.execute_reply.started": "2025-05-17T08:33:19.098221Z"
    },
    "trusted": true
   },
   "outputs": [
    {
     "data": {
      "text/plain": [
       "3797"
      ]
     },
     "execution_count": 27,
     "metadata": {},
     "output_type": "execute_result"
    }
   ],
   "source": [
    "int(0.1 * len(train_dataloader) * 3)"
   ]
  },
  {
   "cell_type": "markdown",
   "metadata": {},
   "source": [
    "## fine-tuning the model"
   ]
  },
  {
   "cell_type": "code",
   "execution_count": 28,
   "metadata": {
    "execution": {
     "iopub.execute_input": "2025-05-17T08:33:19.115215Z",
     "iopub.status.busy": "2025-05-17T08:33:19.114803Z",
     "iopub.status.idle": "2025-05-17T10:35:45.926324Z",
     "shell.execute_reply": "2025-05-17T10:35:45.925750Z",
     "shell.execute_reply.started": "2025-05-17T08:33:19.115198Z"
    },
    "trusted": true
   },
   "outputs": [
    {
     "name": "stdout",
     "output_type": "stream",
     "text": [
      "Starting training...\n"
     ]
    },
    {
     "name": "stderr",
     "output_type": "stream",
     "text": [
      "Using the `WANDB_DISABLED` environment variable is deprecated and will be removed in v5. Use the --report_to flag to control the integrations used for logging result (for instance --report_to none).\n",
      "Using the `WANDB_DISABLED` environment variable is deprecated and will be removed in v5. Use the --report_to flag to control the integrations used for logging result (for instance --report_to none).\n"
     ]
    },
    {
     "data": {
      "application/vnd.jupyter.widget-view+json": {
       "model_id": "",
       "version_major": 2,
       "version_minor": 0
      },
      "text/plain": [
       "Computing widget examples:   0%|          | 0/1 [00:00<?, ?example/s]"
      ]
     },
     "metadata": {},
     "output_type": "display_data"
    },
    {
     "data": {
      "text/html": [
       "\n",
       "    <div>\n",
       "      \n",
       "      <progress value='37974' max='37974' style='width:300px; height:20px; vertical-align: middle;'></progress>\n",
       "      [37974/37974 2:02:05, Epoch 3/3]\n",
       "    </div>\n",
       "    <table border=\"1\" class=\"dataframe\">\n",
       "  <thead>\n",
       " <tr style=\"text-align: left;\">\n",
       "      <th>Step</th>\n",
       "      <th>Training Loss</th>\n",
       "    </tr>\n",
       "  </thead>\n",
       "  <tbody>\n",
       "    <tr>\n",
       "      <td>500</td>\n",
       "      <td>0.072300</td>\n",
       "    </tr>\n",
       "    <tr>\n",
       "      <td>1000</td>\n",
       "      <td>0.052000</td>\n",
       "    </tr>\n",
       "    <tr>\n",
       "      <td>1500</td>\n",
       "      <td>0.047200</td>\n",
       "    </tr>\n",
       "    <tr>\n",
       "      <td>2000</td>\n",
       "      <td>0.045300</td>\n",
       "    </tr>\n",
       "    <tr>\n",
       "      <td>2500</td>\n",
       "      <td>0.045600</td>\n",
       "    </tr>\n",
       "    <tr>\n",
       "      <td>3000</td>\n",
       "      <td>0.045300</td>\n",
       "    </tr>\n",
       "    <tr>\n",
       "      <td>3500</td>\n",
       "      <td>0.043400</td>\n",
       "    </tr>\n",
       "    <tr>\n",
       "      <td>4000</td>\n",
       "      <td>0.045000</td>\n",
       "    </tr>\n",
       "    <tr>\n",
       "      <td>4500</td>\n",
       "      <td>0.042300</td>\n",
       "    </tr>\n",
       "    <tr>\n",
       "      <td>5000</td>\n",
       "      <td>0.040900</td>\n",
       "    </tr>\n",
       "    <tr>\n",
       "      <td>5500</td>\n",
       "      <td>0.038600</td>\n",
       "    </tr>\n",
       "    <tr>\n",
       "      <td>6000</td>\n",
       "      <td>0.041200</td>\n",
       "    </tr>\n",
       "    <tr>\n",
       "      <td>6500</td>\n",
       "      <td>0.038200</td>\n",
       "    </tr>\n",
       "    <tr>\n",
       "      <td>7000</td>\n",
       "      <td>0.037900</td>\n",
       "    </tr>\n",
       "    <tr>\n",
       "      <td>7500</td>\n",
       "      <td>0.038700</td>\n",
       "    </tr>\n",
       "    <tr>\n",
       "      <td>8000</td>\n",
       "      <td>0.037700</td>\n",
       "    </tr>\n",
       "    <tr>\n",
       "      <td>8500</td>\n",
       "      <td>0.038700</td>\n",
       "    </tr>\n",
       "    <tr>\n",
       "      <td>9000</td>\n",
       "      <td>0.037000</td>\n",
       "    </tr>\n",
       "    <tr>\n",
       "      <td>9500</td>\n",
       "      <td>0.035100</td>\n",
       "    </tr>\n",
       "    <tr>\n",
       "      <td>10000</td>\n",
       "      <td>0.037300</td>\n",
       "    </tr>\n",
       "    <tr>\n",
       "      <td>10500</td>\n",
       "      <td>0.035900</td>\n",
       "    </tr>\n",
       "    <tr>\n",
       "      <td>11000</td>\n",
       "      <td>0.037800</td>\n",
       "    </tr>\n",
       "    <tr>\n",
       "      <td>11500</td>\n",
       "      <td>0.034000</td>\n",
       "    </tr>\n",
       "    <tr>\n",
       "      <td>12000</td>\n",
       "      <td>0.035100</td>\n",
       "    </tr>\n",
       "    <tr>\n",
       "      <td>12500</td>\n",
       "      <td>0.032800</td>\n",
       "    </tr>\n",
       "    <tr>\n",
       "      <td>13000</td>\n",
       "      <td>0.030500</td>\n",
       "    </tr>\n",
       "    <tr>\n",
       "      <td>13500</td>\n",
       "      <td>0.030400</td>\n",
       "    </tr>\n",
       "    <tr>\n",
       "      <td>14000</td>\n",
       "      <td>0.029000</td>\n",
       "    </tr>\n",
       "    <tr>\n",
       "      <td>14500</td>\n",
       "      <td>0.028400</td>\n",
       "    </tr>\n",
       "    <tr>\n",
       "      <td>15000</td>\n",
       "      <td>0.029300</td>\n",
       "    </tr>\n",
       "    <tr>\n",
       "      <td>15500</td>\n",
       "      <td>0.028200</td>\n",
       "    </tr>\n",
       "    <tr>\n",
       "      <td>16000</td>\n",
       "      <td>0.029300</td>\n",
       "    </tr>\n",
       "    <tr>\n",
       "      <td>16500</td>\n",
       "      <td>0.028500</td>\n",
       "    </tr>\n",
       "    <tr>\n",
       "      <td>17000</td>\n",
       "      <td>0.028600</td>\n",
       "    </tr>\n",
       "    <tr>\n",
       "      <td>17500</td>\n",
       "      <td>0.026800</td>\n",
       "    </tr>\n",
       "    <tr>\n",
       "      <td>18000</td>\n",
       "      <td>0.028300</td>\n",
       "    </tr>\n",
       "    <tr>\n",
       "      <td>18500</td>\n",
       "      <td>0.029000</td>\n",
       "    </tr>\n",
       "    <tr>\n",
       "      <td>19000</td>\n",
       "      <td>0.027200</td>\n",
       "    </tr>\n",
       "    <tr>\n",
       "      <td>19500</td>\n",
       "      <td>0.027700</td>\n",
       "    </tr>\n",
       "    <tr>\n",
       "      <td>20000</td>\n",
       "      <td>0.028900</td>\n",
       "    </tr>\n",
       "    <tr>\n",
       "      <td>20500</td>\n",
       "      <td>0.027500</td>\n",
       "    </tr>\n",
       "    <tr>\n",
       "      <td>21000</td>\n",
       "      <td>0.027500</td>\n",
       "    </tr>\n",
       "    <tr>\n",
       "      <td>21500</td>\n",
       "      <td>0.028700</td>\n",
       "    </tr>\n",
       "    <tr>\n",
       "      <td>22000</td>\n",
       "      <td>0.027500</td>\n",
       "    </tr>\n",
       "    <tr>\n",
       "      <td>22500</td>\n",
       "      <td>0.026700</td>\n",
       "    </tr>\n",
       "    <tr>\n",
       "      <td>23000</td>\n",
       "      <td>0.027500</td>\n",
       "    </tr>\n",
       "    <tr>\n",
       "      <td>23500</td>\n",
       "      <td>0.027900</td>\n",
       "    </tr>\n",
       "    <tr>\n",
       "      <td>24000</td>\n",
       "      <td>0.026400</td>\n",
       "    </tr>\n",
       "    <tr>\n",
       "      <td>24500</td>\n",
       "      <td>0.025500</td>\n",
       "    </tr>\n",
       "    <tr>\n",
       "      <td>25000</td>\n",
       "      <td>0.027000</td>\n",
       "    </tr>\n",
       "    <tr>\n",
       "      <td>25500</td>\n",
       "      <td>0.025100</td>\n",
       "    </tr>\n",
       "    <tr>\n",
       "      <td>26000</td>\n",
       "      <td>0.020900</td>\n",
       "    </tr>\n",
       "    <tr>\n",
       "      <td>26500</td>\n",
       "      <td>0.021900</td>\n",
       "    </tr>\n",
       "    <tr>\n",
       "      <td>27000</td>\n",
       "      <td>0.022200</td>\n",
       "    </tr>\n",
       "    <tr>\n",
       "      <td>27500</td>\n",
       "      <td>0.021100</td>\n",
       "    </tr>\n",
       "    <tr>\n",
       "      <td>28000</td>\n",
       "      <td>0.022300</td>\n",
       "    </tr>\n",
       "    <tr>\n",
       "      <td>28500</td>\n",
       "      <td>0.021500</td>\n",
       "    </tr>\n",
       "    <tr>\n",
       "      <td>29000</td>\n",
       "      <td>0.021800</td>\n",
       "    </tr>\n",
       "    <tr>\n",
       "      <td>29500</td>\n",
       "      <td>0.022400</td>\n",
       "    </tr>\n",
       "    <tr>\n",
       "      <td>30000</td>\n",
       "      <td>0.020600</td>\n",
       "    </tr>\n",
       "    <tr>\n",
       "      <td>30500</td>\n",
       "      <td>0.021800</td>\n",
       "    </tr>\n",
       "    <tr>\n",
       "      <td>31000</td>\n",
       "      <td>0.021300</td>\n",
       "    </tr>\n",
       "    <tr>\n",
       "      <td>31500</td>\n",
       "      <td>0.022400</td>\n",
       "    </tr>\n",
       "    <tr>\n",
       "      <td>32000</td>\n",
       "      <td>0.021700</td>\n",
       "    </tr>\n",
       "    <tr>\n",
       "      <td>32500</td>\n",
       "      <td>0.021400</td>\n",
       "    </tr>\n",
       "    <tr>\n",
       "      <td>33000</td>\n",
       "      <td>0.020700</td>\n",
       "    </tr>\n",
       "    <tr>\n",
       "      <td>33500</td>\n",
       "      <td>0.020700</td>\n",
       "    </tr>\n",
       "    <tr>\n",
       "      <td>34000</td>\n",
       "      <td>0.021300</td>\n",
       "    </tr>\n",
       "    <tr>\n",
       "      <td>34500</td>\n",
       "      <td>0.021500</td>\n",
       "    </tr>\n",
       "    <tr>\n",
       "      <td>35000</td>\n",
       "      <td>0.022600</td>\n",
       "    </tr>\n",
       "    <tr>\n",
       "      <td>35500</td>\n",
       "      <td>0.021800</td>\n",
       "    </tr>\n",
       "    <tr>\n",
       "      <td>36000</td>\n",
       "      <td>0.020500</td>\n",
       "    </tr>\n",
       "    <tr>\n",
       "      <td>36500</td>\n",
       "      <td>0.020200</td>\n",
       "    </tr>\n",
       "    <tr>\n",
       "      <td>37000</td>\n",
       "      <td>0.020900</td>\n",
       "    </tr>\n",
       "    <tr>\n",
       "      <td>37500</td>\n",
       "      <td>0.019500</td>\n",
       "    </tr>\n",
       "  </tbody>\n",
       "</table><p>"
      ],
      "text/plain": [
       "<IPython.core.display.HTML object>"
      ]
     },
     "metadata": {},
     "output_type": "display_data"
    },
    {
     "name": "stdout",
     "output_type": "stream",
     "text": [
      "Training step 1000/37974\n",
      "Training step 2000/37974\n",
      "Training step 3000/37974\n",
      "Training step 4000/37974\n",
      "Training step 5000/37974\n",
      "Training step 6000/37974\n",
      "Training step 7000/37974\n",
      "Training step 8000/37974\n",
      "Training step 9000/37974\n",
      "Training step 10000/37974\n",
      "Training step 11000/37974\n",
      "Training step 12000/37974\n",
      "Training step 12658/37974\n",
      "Training step 13000/37974\n",
      "Training step 14000/37974\n",
      "Training step 15000/37974\n",
      "Training step 16000/37974\n",
      "Training step 17000/37974\n",
      "Training step 18000/37974\n",
      "Training step 19000/37974\n",
      "Training step 20000/37974\n",
      "Training step 21000/37974\n",
      "Training step 22000/37974\n",
      "Training step 23000/37974\n",
      "Training step 24000/37974\n",
      "Training step 25000/37974\n",
      "Training step 26000/37974\n",
      "Training step 27000/37974\n",
      "Training step 28000/37974\n",
      "Training step 29000/37974\n",
      "Training step 30000/37974\n",
      "Training step 31000/37974\n",
      "Training step 32000/37974\n",
      "Training step 33000/37974\n",
      "Training step 34000/37974\n",
      "Training step 35000/37974\n",
      "Training step 36000/37974\n",
      "Training step 37000/37974\n",
      "end training...\n"
     ]
    }
   ],
   "source": [
    "print(\"Starting training...\")\n",
    "\n",
    "model.fit(\n",
    "    train_objectives=[(train_dataloader, train_loss)],\n",
    "    epochs=3,\n",
    "    warmup_steps=int(0.1 * len(train_dataloader) * 3),\n",
    "    show_progress_bar=True,\n",
    "    output_path=None\n",
    ")\n",
    "\n",
    "print(\"end training...\")"
   ]
  },
  {
   "cell_type": "code",
   "execution_count": null,
   "metadata": {
    "execution": {
     "iopub.execute_input": "2025-05-17T10:35:45.927361Z",
     "iopub.status.busy": "2025-05-17T10:35:45.927069Z",
     "iopub.status.idle": "2025-05-17T10:35:47.374646Z",
     "shell.execute_reply": "2025-05-17T10:35:47.374117Z",
     "shell.execute_reply.started": "2025-05-17T10:35:45.927336Z"
    },
    "trusted": true
   },
   "outputs": [],
   "source": [
    "model.save(\"fine-tuned-embedding-model-2020\")"
   ]
  }
 ],
 "metadata": {
  "kaggle": {
   "accelerator": "gpu",
   "dataSources": [
    {
     "datasetId": 7256682,
     "sourceId": 11574317,
     "sourceType": "datasetVersion"
    },
    {
     "datasetId": 7442129,
     "sourceId": 11844821,
     "sourceType": "datasetVersion"
    }
   ],
   "dockerImageVersionId": 31011,
   "isGpuEnabled": true,
   "isInternetEnabled": true,
   "language": "python",
   "sourceType": "notebook"
  },
  "kernelspec": {
   "display_name": "base",
   "language": "python",
   "name": "python3"
  },
  "language_info": {
   "codemirror_mode": {
    "name": "ipython",
    "version": 3
   },
   "file_extension": ".py",
   "mimetype": "text/x-python",
   "name": "python",
   "nbconvert_exporter": "python",
   "pygments_lexer": "ipython3",
   "version": "3.11.5"
  }
 },
 "nbformat": 4,
 "nbformat_minor": 4
}
