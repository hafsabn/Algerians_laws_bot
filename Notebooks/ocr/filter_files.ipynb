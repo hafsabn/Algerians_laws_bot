{
 "cells": [
  {
   "cell_type": "markdown",
   "metadata": {},
   "source": [
    "## Libraries"
   ]
  },
  {
   "cell_type": "code",
   "execution_count": 104,
   "metadata": {},
   "outputs": [],
   "source": [
    "import json"
   ]
  },
  {
   "cell_type": "code",
   "execution_count": 105,
   "metadata": {},
   "outputs": [],
   "source": [
    "input_file_name = './result.json'\n",
    "output_file_name = './output.json'"
   ]
  },
  {
   "cell_type": "code",
   "execution_count": 106,
   "metadata": {},
   "outputs": [],
   "source": [
    "with open(input_file_name, 'r', encoding='utf-8') as f:\n",
    "    data = json.load(f)"
   ]
  },
  {
   "cell_type": "markdown",
   "metadata": {},
   "source": [
    "## Total pdf files"
   ]
  },
  {
   "cell_type": "code",
   "execution_count": 107,
   "metadata": {},
   "outputs": [
    {
     "name": "stdout",
     "output_type": "stream",
     "text": [
      "2175\n"
     ]
    }
   ],
   "source": [
    "print(len(data))"
   ]
  },
  {
   "cell_type": "markdown",
   "metadata": {},
   "source": [
    "## Files without metadata"
   ]
  },
  {
   "cell_type": "code",
   "execution_count": 108,
   "metadata": {},
   "outputs": [
    {
     "name": "stdout",
     "output_type": "stream",
     "text": [
      "total files without metadata: 24\n",
      "total files without journal_number: 47\n",
      "total files without hijri_date: 0\n",
      "total files without gregorian_date: 772\n",
      "total files we're gonna remove: 843\n",
      "rest: 1332\n"
     ]
    }
   ],
   "source": [
    "invalid_journal_number = 0\n",
    "invalid_metadata = 0\n",
    "invalid_hijri_date = 0\n",
    "invalid_gregorian_date = 0\n",
    "\n",
    "for item in data:\n",
    "    if \"metadata\" in item:\n",
    "        journal_number = item['metadata']['journal_number']\n",
    "        hijri_date = item['metadata']['hijri_date']\n",
    "        gregorian_date = item['metadata']['gregorian_date']\n",
    "\n",
    "        if journal_number == 0:\n",
    "            invalid_journal_number += 1\n",
    "        elif hijri_date == \"\":\n",
    "            invalid_hijri_date += 1\n",
    "        elif gregorian_date == \"\":\n",
    "            invalid_gregorian_date += 1\n",
    "    else:\n",
    "        invalid_metadata += 1\n",
    "\n",
    "print(f\"total files without metadata: {invalid_metadata}\")\n",
    "print(f\"total files without journal_number: {invalid_journal_number}\")\n",
    "print(f\"total files without hijri_date: {invalid_hijri_date}\")\n",
    "print(f\"total files without gregorian_date: {invalid_gregorian_date}\")\n",
    "print(f\"total files we're gonna remove: {invalid_metadata + invalid_journal_number + invalid_hijri_date + invalid_gregorian_date}\")\n",
    "print(f\"rest: {len(data) - (invalid_metadata + invalid_journal_number + invalid_hijri_date + invalid_gregorian_date)}\")"
   ]
  },
  {
   "cell_type": "code",
   "execution_count": 109,
   "metadata": {},
   "outputs": [],
   "source": [
    "cleaned_data = [item for item in data if (\"metadata\" in item and 'journal_number' in item['metadata'] and item['metadata']['hijri_date'] != '' and item['metadata']['gregorian_date'] != '' and item['metadata']['journal_number'] != 0)]\n",
    "data = cleaned_data"
   ]
  },
  {
   "cell_type": "code",
   "execution_count": 110,
   "metadata": {},
   "outputs": [
    {
     "data": {
      "text/plain": [
       "1332"
      ]
     },
     "execution_count": 110,
     "metadata": {},
     "output_type": "execute_result"
    }
   ],
   "source": [
    "len(data)"
   ]
  },
  {
   "cell_type": "markdown",
   "metadata": {},
   "source": [
    "## Files without decret_title"
   ]
  },
  {
   "cell_type": "code",
   "execution_count": 111,
   "metadata": {},
   "outputs": [
    {
     "name": "stdout",
     "output_type": "stream",
     "text": [
      "total files without types: 0\n",
      "total files without decret_title: 1028\n",
      "rest: 304\n"
     ]
    }
   ],
   "source": [
    "invalid_types = 0\n",
    "invalid_decret_title = 0\n",
    "\n",
    "invalid_hijri_date = 0\n",
    "invalid_gregorian_date = 0\n",
    "\n",
    "for item in data:\n",
    "    if \"types\" in item:\n",
    "        types = item['types']\n",
    "        for _type in types:\n",
    "            if _type == '':\n",
    "                invalid_types += 1\n",
    "            elif _type['ministries'] == []:\n",
    "                invalid_types += 1\n",
    "            ministries = _type['ministries']\n",
    "            for ministry in ministries:\n",
    "                if ministry == '':\n",
    "                    invalid_types += 1\n",
    "                elif ministry['decrets'] == []:\n",
    "                    invalid_decret_title += 1\n",
    "                    break\n",
    "    else:\n",
    "        invalid_types += 1\n",
    "\n",
    "print(f\"total files without types: {invalid_types}\")\n",
    "print(f\"total files without decret_title: {invalid_decret_title}\")\n",
    "print(f\"rest: { len(data) - invalid_decret_title - invalid_types}\")"
   ]
  },
  {
   "cell_type": "code",
   "execution_count": 112,
   "metadata": {},
   "outputs": [
    {
     "name": "stdout",
     "output_type": "stream",
     "text": [
      "output result in ./output.json\n"
     ]
    }
   ],
   "source": [
    "with open(output_file_name, \"w\", encoding=\"utf-8\") as f:\n",
    "    json.dump(data, f, indent=2, ensure_ascii=False)\n",
    "\n",
    "print(f\"output result in {output_file_name}\")"
   ]
  }
 ],
 "metadata": {
  "kernelspec": {
   "display_name": "base",
   "language": "python",
   "name": "python3"
  },
  "language_info": {
   "codemirror_mode": {
    "name": "ipython",
    "version": 3
   },
   "file_extension": ".py",
   "mimetype": "text/x-python",
   "name": "python",
   "nbconvert_exporter": "python",
   "pygments_lexer": "ipython3",
   "version": "3.12.4"
  }
 },
 "nbformat": 4,
 "nbformat_minor": 2
}
