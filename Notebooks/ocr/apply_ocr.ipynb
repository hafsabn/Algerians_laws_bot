{
 "cells": [
  {
   "cell_type": "markdown",
   "metadata": {},
   "source": [
    "## Libraries"
   ]
  },
  {
   "cell_type": "code",
   "execution_count": null,
   "metadata": {},
   "outputs": [],
   "source": [
    "from pdf2image import convert_from_path\n",
    "from bs4 import BeautifulSoup\n",
    "from pathlib import Path\n",
    "from PIL import Image\n",
    "import pytesseract\n",
    "import requests\n",
    "import json\n",
    "import re\n",
    "import os"
   ]
  },
  {
   "cell_type": "markdown",
   "metadata": {},
   "source": [
    "## Get the pdf files"
   ]
  },
  {
   "cell_type": "code",
   "execution_count": 7,
   "metadata": {},
   "outputs": [],
   "source": [
    "year = 2025\n",
    "base_folder = Path(\"files\") / str(year)"
   ]
  },
  {
   "cell_type": "code",
   "execution_count": 10,
   "metadata": {},
   "outputs": [],
   "source": [
    "def init_file(): \n",
    "    if not os.path.exists(data_file_path):\n",
    "        with open(data_file_path, 'w') as f:\n",
    "            json.dump([], f)\n",
    "\n",
    "def append_to_json_file(nex_data):\n",
    "    init_file()\n",
    "    with open(data_file_path, 'r') as f:\n",
    "        existing_data = json.load(f)\n",
    "    existing_data.append(nex_data)\n",
    "    with open(data_file_path, 'w') as f:\n",
    "        json.dump(existing_data, f, indent=2)"
   ]
  },
  {
   "cell_type": "code",
   "execution_count": null,
   "metadata": {},
   "outputs": [],
   "source": [
    "files = [str(path) for path in base_folder.glob(\"*.pdf\")]"
   ]
  },
  {
   "cell_type": "code",
   "execution_count": 21,
   "metadata": {},
   "outputs": [
    {
     "data": {
      "text/plain": [
       "['./files/2006/F2006001.pdf',\n",
       " './files/2006/F2006002.pdf',\n",
       " './files/2006/F2006003.pdf',\n",
       " './files/2006/F2006004.pdf',\n",
       " './files/2006/F2006005.pdf',\n",
       " './files/2006/F2006006.pdf',\n",
       " './files/2006/F2006007.pdf',\n",
       " './files/2006/F2006008.pdf',\n",
       " './files/2006/F2006009.pdf',\n",
       " './files/2006/F2006010.pdf',\n",
       " './files/2006/F2006011.pdf',\n",
       " './files/2006/F2006012.pdf',\n",
       " './files/2006/F2006013.pdf',\n",
       " './files/2006/F2006014.pdf',\n",
       " './files/2006/F2006015.pdf',\n",
       " './files/2006/F2006016.pdf',\n",
       " './files/2006/F2006017.pdf',\n",
       " './files/2006/F2006018.pdf',\n",
       " './files/2006/F2006019.pdf',\n",
       " './files/2006/F2006020.pdf',\n",
       " './files/2006/F2006021.pdf',\n",
       " './files/2006/F2006022.pdf',\n",
       " './files/2006/F2006023.pdf',\n",
       " './files/2006/F2006024.pdf',\n",
       " './files/2006/F2006025.pdf',\n",
       " './files/2006/F2006026.pdf',\n",
       " './files/2006/F2006027.pdf',\n",
       " './files/2006/F2006028.pdf',\n",
       " './files/2006/F2006029.pdf',\n",
       " './files/2006/F2006030.pdf',\n",
       " './files/2006/F2006031.pdf',\n",
       " './files/2006/F2006032.pdf',\n",
       " './files/2006/F2006033.pdf',\n",
       " './files/2006/F2006034.pdf',\n",
       " './files/2006/F2006035.pdf',\n",
       " './files/2006/F2006036.pdf',\n",
       " './files/2006/F2006037.pdf',\n",
       " './files/2006/F2006038.pdf',\n",
       " './files/2006/F2006039.pdf',\n",
       " './files/2006/F2006040.pdf',\n",
       " './files/2006/F2006041.pdf',\n",
       " './files/2006/F2006042.pdf',\n",
       " './files/2006/F2006043.pdf',\n",
       " './files/2006/F2006044.pdf',\n",
       " './files/2006/F2006045.pdf',\n",
       " './files/2006/F2006046.pdf',\n",
       " './files/2006/F2006047.pdf',\n",
       " './files/2006/F2006048.pdf',\n",
       " './files/2006/F2006049.pdf',\n",
       " './files/2006/F2006050.pdf',\n",
       " './files/2006/F2006051.pdf',\n",
       " './files/2006/F2006052.pdf',\n",
       " './files/2006/F2006053.pdf',\n",
       " './files/2006/F2006054.pdf',\n",
       " './files/2006/F2006055.pdf',\n",
       " './files/2006/F2006056.pdf',\n",
       " './files/2006/F2006057.pdf',\n",
       " './files/2006/F2006058.pdf',\n",
       " './files/2006/F2006059.pdf',\n",
       " './files/2006/F2006060.pdf',\n",
       " './files/2006/F2006061.pdf',\n",
       " './files/2006/F2006062.pdf',\n",
       " './files/2006/F2006063.pdf',\n",
       " './files/2006/F2006064.pdf',\n",
       " './files/2006/F2006065.pdf',\n",
       " './files/2006/F2006066.pdf',\n",
       " './files/2006/F2006067.pdf',\n",
       " './files/2006/F2006068.pdf',\n",
       " './files/2006/F2006069.pdf',\n",
       " './files/2006/F2006070.pdf',\n",
       " './files/2006/F2006071.pdf',\n",
       " './files/2006/F2006072.pdf',\n",
       " './files/2006/F2006073.pdf',\n",
       " './files/2006/F2006074.pdf',\n",
       " './files/2006/F2006075.pdf',\n",
       " './files/2006/F2006076.pdf',\n",
       " './files/2006/F2006077.pdf',\n",
       " './files/2006/F2006078.pdf',\n",
       " './files/2006/F2006079.pdf',\n",
       " './files/2006/F2006080.pdf',\n",
       " './files/2006/F2006081.pdf',\n",
       " './files/2006/F2006082.pdf',\n",
       " './files/2006/F2006083.pdf',\n",
       " './files/2006/F2006084.pdf',\n",
       " './files/2006/F2006085.pdf']"
      ]
     },
     "execution_count": 21,
     "metadata": {},
     "output_type": "execute_result"
    }
   ],
   "source": [
    "files"
   ]
  },
  {
   "cell_type": "markdown",
   "metadata": {},
   "source": [
    "## Apply OCR"
   ]
  },
  {
   "cell_type": "code",
   "execution_count": null,
   "metadata": {},
   "outputs": [
    {
     "name": "stdout",
     "output_type": "stream",
     "text": [
      "./files/2006/F2006006.pdf\n",
      "./files/2006/F2006007.pdf\n",
      "./files/2006/F2006008.pdf\n",
      "./files/2006/F2006009.pdf\n",
      "./files/2006/F2006010.pdf\n",
      "./files/2006/F2006011.pdf\n",
      "./files/2006/F2006012.pdf\n",
      "./files/2006/F2006013.pdf\n",
      "./files/2006/F2006014.pdf\n",
      "./files/2006/F2006015.pdf\n",
      "./files/2006/F2006016.pdf\n",
      "./files/2006/F2006017.pdf\n",
      "./files/2006/F2006018.pdf\n",
      "./files/2006/F2006019.pdf\n",
      "./files/2006/F2006020.pdf\n",
      "./files/2006/F2006021.pdf\n",
      "./files/2006/F2006022.pdf\n",
      "./files/2006/F2006023.pdf\n",
      "./files/2006/F2006024.pdf\n",
      "./files/2006/F2006025.pdf\n",
      "./files/2006/F2006026.pdf\n",
      "./files/2006/F2006027.pdf\n",
      "./files/2006/F2006028.pdf\n",
      "./files/2006/F2006029.pdf\n",
      "./files/2006/F2006030.pdf\n",
      "./files/2006/F2006031.pdf\n",
      "./files/2006/F2006032.pdf\n",
      "./files/2006/F2006033.pdf\n",
      "./files/2006/F2006034.pdf\n",
      "./files/2006/F2006035.pdf\n",
      "./files/2006/F2006036.pdf\n",
      "./files/2006/F2006037.pdf\n",
      "./files/2006/F2006038.pdf\n",
      "./files/2006/F2006039.pdf\n",
      "./files/2006/F2006040.pdf\n",
      "./files/2006/F2006041.pdf\n",
      "./files/2006/F2006042.pdf\n",
      "./files/2006/F2006043.pdf\n",
      "./files/2006/F2006044.pdf\n",
      "./files/2006/F2006045.pdf\n",
      "./files/2006/F2006046.pdf\n",
      "./files/2006/F2006047.pdf\n",
      "./files/2006/F2006048.pdf\n",
      "./files/2006/F2006049.pdf\n",
      "./files/2006/F2006050.pdf\n",
      "./files/2006/F2006051.pdf\n",
      "./files/2006/F2006052.pdf\n",
      "./files/2006/F2006053.pdf\n",
      "./files/2006/F2006054.pdf\n",
      "./files/2006/F2006055.pdf\n",
      "./files/2006/F2006056.pdf\n",
      "./files/2006/F2006057.pdf\n",
      "./files/2006/F2006058.pdf\n",
      "./files/2006/F2006059.pdf\n",
      "./files/2006/F2006060.pdf\n",
      "./files/2006/F2006061.pdf\n",
      "./files/2006/F2006062.pdf\n",
      "./files/2006/F2006063.pdf\n",
      "./files/2006/F2006064.pdf\n",
      "./files/2006/F2006065.pdf\n",
      "./files/2006/F2006066.pdf\n",
      "./files/2006/F2006067.pdf\n",
      "./files/2006/F2006068.pdf\n",
      "./files/2006/F2006069.pdf\n",
      "./files/2006/F2006070.pdf\n",
      "./files/2006/F2006071.pdf\n",
      "./files/2006/F2006072.pdf\n",
      "./files/2006/F2006073.pdf\n",
      "./files/2006/F2006074.pdf\n",
      "./files/2006/F2006075.pdf\n",
      "./files/2006/F2006076.pdf\n",
      "./files/2006/F2006077.pdf\n",
      "./files/2006/F2006078.pdf\n",
      "./files/2006/F2006079.pdf\n",
      "./files/2006/F2006080.pdf\n",
      "./files/2006/F2006081.pdf\n",
      "./files/2006/F2006082.pdf\n",
      "./files/2006/F2006083.pdf\n",
      "./files/2006/F2006084.pdf\n",
      "./files/2006/F2006085.pdf\n"
     ]
    }
   ],
   "source": [
    "for pdf_file in files:\n",
    "    images = convert_from_path(pdf_file, dpi=300)\n",
    "\n",
    "    tmp_data = {\n",
    "        'file_name': pdf_file.split('/')[-1].split('.')[0], # pdf_file = ./files/2006/F2006006.pdf\n",
    "        'pages': '',\n",
    "        'content': []\n",
    "    }\n",
    "\n",
    "    for i, img in enumerate(images):\n",
    "        text = pytesseract.image_to_string(img, lang=\"fra\")\n",
    "        tmp_data['pages'] = i + 1\n",
    "        tmp_data['content'].append(text)\n",
    "    append_to_json_file(tmp_data)"
   ]
  }
 ],
 "metadata": {
  "kernelspec": {
   "display_name": "base",
   "language": "python",
   "name": "python3"
  },
  "language_info": {
   "codemirror_mode": {
    "name": "ipython",
    "version": 3
   },
   "file_extension": ".py",
   "mimetype": "text/x-python",
   "name": "python",
   "nbconvert_exporter": "python",
   "pygments_lexer": "ipython3",
   "version": "3.11.5"
  }
 },
 "nbformat": 4,
 "nbformat_minor": 2
}
