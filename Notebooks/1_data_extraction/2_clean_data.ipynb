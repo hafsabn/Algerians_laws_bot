{
 "cells": [
  {
   "cell_type": "markdown",
   "id": "9468075f-e7d3-4267-91b1-d003971ad993",
   "metadata": {},
   "source": [
    "# Data cleaning"
   ]
  },
  {
   "cell_type": "markdown",
   "id": "5a71a4f4-af37-4b1d-bf53-a89af8d74da3",
   "metadata": {},
   "source": [
    "## Load file"
   ]
  },
  {
   "cell_type": "code",
   "execution_count": 33,
   "id": "571746f2-5d6d-4e41-adea-06442a0314f4",
   "metadata": {},
   "outputs": [],
   "source": [
    "import pandas as pd\n",
    "year = 2012\n",
    "file_name = f\"output_{year}\"\n",
    "file_path = f\"files/{year}\"\n",
    "data = pd.read_json(f\"{file_path}/{file_name}.json\")"
   ]
  },
  {
   "cell_type": "code",
   "execution_count": 34,
   "id": "a6b25f8f-3a2d-475c-a65d-855467f9fa3b",
   "metadata": {},
   "outputs": [
    {
     "data": {
      "text/html": [
       "<div>\n",
       "<style scoped>\n",
       "    .dataframe tbody tr th:only-of-type {\n",
       "        vertical-align: middle;\n",
       "    }\n",
       "\n",
       "    .dataframe tbody tr th {\n",
       "        vertical-align: top;\n",
       "    }\n",
       "\n",
       "    .dataframe thead th {\n",
       "        text-align: right;\n",
       "    }\n",
       "</style>\n",
       "<table border=\"1\" class=\"dataframe\">\n",
       "  <thead>\n",
       "    <tr style=\"text-align: right;\">\n",
       "      <th></th>\n",
       "      <th>metadata</th>\n",
       "      <th>content</th>\n",
       "    </tr>\n",
       "  </thead>\n",
       "  <tbody>\n",
       "    <tr>\n",
       "      <th>0</th>\n",
       "      <td>{'document_id': 'F2012001', 'domain': '', 'yea...</td>\n",
       "      <td>AVIS ET LOIS\\nAvis n° 03/A.CC/11 du 27 Moharra...</td>\n",
       "    </tr>\n",
       "    <tr>\n",
       "      <th>1</th>\n",
       "      <td>{'document_id': 'F2012002', 'domain': '', 'yea...</td>\n",
       "      <td>AVIS ET LOIS\\nAvis n° 01/A. CC/ 12 du 14 Safar...</td>\n",
       "    </tr>\n",
       "    <tr>\n",
       "      <th>2</th>\n",
       "      <td>{'document_id': 'F2012003', 'domain': '', 'yea...</td>\n",
       "      <td>CONVENTIONS ET ACCORDS INTERNATIONAUX\\nDécret ...</td>\n",
       "    </tr>\n",
       "    <tr>\n",
       "      <th>3</th>\n",
       "      <td>{'document_id': 'F2012004', 'domain': '', 'yea...</td>\n",
       "      <td>DECRETS\\nDécret présidentiel n° 12-23 du 24 Sa...</td>\n",
       "    </tr>\n",
       "    <tr>\n",
       "      <th>4</th>\n",
       "      <td>{'document_id': 'F2012005', 'domain': '', 'yea...</td>\n",
       "      <td>CONVENTIONS ET ACCORDS INTERNATIONAUX\\nDécret ...</td>\n",
       "    </tr>\n",
       "    <tr>\n",
       "      <th>...</th>\n",
       "      <td>...</td>\n",
       "      <td>...</td>\n",
       "    </tr>\n",
       "    <tr>\n",
       "      <th>66</th>\n",
       "      <td>{'document_id': 'F2012068', 'domain': '', 'yea...</td>\n",
       "      <td>CONVENTIONS ET ACCORDS INTERNATIONAUX\\nDécret ...</td>\n",
       "    </tr>\n",
       "    <tr>\n",
       "      <th>67</th>\n",
       "      <td>{'document_id': 'F2012069', 'domain': '', 'yea...</td>\n",
       "      <td>CONVENTIONS ET ACCORDS INTERNATIONAUX\\nDécret ...</td>\n",
       "    </tr>\n",
       "    <tr>\n",
       "      <th>68</th>\n",
       "      <td>{'document_id': 'F2012070', 'domain': '', 'yea...</td>\n",
       "      <td>CONVENTIONS ET ACCORDS INTERNATIONAUX\\nDécret ...</td>\n",
       "    </tr>\n",
       "    <tr>\n",
       "      <th>69</th>\n",
       "      <td>{'document_id': 'F2012071', 'domain': '', 'yea...</td>\n",
       "      <td>DECRETS\\nDécret présidentiel n° 12-434 du 12 S...</td>\n",
       "    </tr>\n",
       "    <tr>\n",
       "      <th>70</th>\n",
       "      <td>{'document_id': 'F2012072', 'domain': '', 'yea...</td>\n",
       "      <td>LOIS\\nLoi n° 12-12 du 12 Safar 1434 correspond...</td>\n",
       "    </tr>\n",
       "  </tbody>\n",
       "</table>\n",
       "<p>71 rows × 2 columns</p>\n",
       "</div>"
      ],
      "text/plain": [
       "                                             metadata  \\\n",
       "0   {'document_id': 'F2012001', 'domain': '', 'yea...   \n",
       "1   {'document_id': 'F2012002', 'domain': '', 'yea...   \n",
       "2   {'document_id': 'F2012003', 'domain': '', 'yea...   \n",
       "3   {'document_id': 'F2012004', 'domain': '', 'yea...   \n",
       "4   {'document_id': 'F2012005', 'domain': '', 'yea...   \n",
       "..                                                ...   \n",
       "66  {'document_id': 'F2012068', 'domain': '', 'yea...   \n",
       "67  {'document_id': 'F2012069', 'domain': '', 'yea...   \n",
       "68  {'document_id': 'F2012070', 'domain': '', 'yea...   \n",
       "69  {'document_id': 'F2012071', 'domain': '', 'yea...   \n",
       "70  {'document_id': 'F2012072', 'domain': '', 'yea...   \n",
       "\n",
       "                                              content  \n",
       "0   AVIS ET LOIS\\nAvis n° 03/A.CC/11 du 27 Moharra...  \n",
       "1   AVIS ET LOIS\\nAvis n° 01/A. CC/ 12 du 14 Safar...  \n",
       "2   CONVENTIONS ET ACCORDS INTERNATIONAUX\\nDécret ...  \n",
       "3   DECRETS\\nDécret présidentiel n° 12-23 du 24 Sa...  \n",
       "4   CONVENTIONS ET ACCORDS INTERNATIONAUX\\nDécret ...  \n",
       "..                                                ...  \n",
       "66  CONVENTIONS ET ACCORDS INTERNATIONAUX\\nDécret ...  \n",
       "67  CONVENTIONS ET ACCORDS INTERNATIONAUX\\nDécret ...  \n",
       "68  CONVENTIONS ET ACCORDS INTERNATIONAUX\\nDécret ...  \n",
       "69  DECRETS\\nDécret présidentiel n° 12-434 du 12 S...  \n",
       "70  LOIS\\nLoi n° 12-12 du 12 Safar 1434 correspond...  \n",
       "\n",
       "[71 rows x 2 columns]"
      ]
     },
     "execution_count": 34,
     "metadata": {},
     "output_type": "execute_result"
    }
   ],
   "source": [
    "data"
   ]
  },
  {
   "cell_type": "markdown",
   "id": "22f13074-ccd8-47d3-846c-0a3c8baa8b89",
   "metadata": {},
   "source": [
    "### Remove page header"
   ]
  },
  {
   "cell_type": "code",
   "execution_count": 35,
   "id": "b9708053-6a7f-4685-b32d-9bcb0243951a",
   "metadata": {},
   "outputs": [],
   "source": [
    "def delete_page_header(content):\n",
    "    \"\"\"\n",
    "    Removes JOURNAL OFFICIEL headers and their subsequent lines (2-4 lines total).\n",
    "    Handles cases where the header has 2 lines or 4 lines.\n",
    "    \"\"\"\n",
    "    lines = content.split('\\n')\n",
    "    to_delete = set()\n",
    "    \n",
    "    # Regex to match the header line (case-insensitive, allows spaces around N°)\n",
    "    header_pattern = re.compile(\n",
    "        r'^JOURNAL\\s+OFFICIEL\\s+DE\\s+LA\\s+REPUBLIQUE\\s+ALGERIENNE\\s+N°\\s*\\d+',\n",
    "        re.IGNORECASE\n",
    "    )\n",
    "    \n",
    "    # Regex to match date lines (e.g., \"28\", \"28 Dhou El Kaada 1425\", \"9 janvier 2005\")\n",
    "    date_pattern = re.compile(\n",
    "        r'^(\\d+\\s*[A-Za-z]+\\s*\\d*|\\d+\\s*[A-Za-z]+\\s*\\d+\\s*[A-Za-z]+\\s*\\d+|\\d+\\s*[A-Za-zé]+\\s*\\d+)$',\n",
    "        re.IGNORECASE\n",
    "    )\n",
    "\n",
    "    for i, line in enumerate(lines):\n",
    "        if header_pattern.search(line.strip()):\n",
    "            # Check if previous line is a page number\n",
    "            if i > 0 and re.fullmatch(r'\\s*\\d+\\s*', lines[i-1].strip()):\n",
    "                to_delete.add(i-1)\n",
    "            \n",
    "            # Always delete the header line\n",
    "            to_delete.add(i)\n",
    "            \n",
    "            # Check next 3 lines for date patterns\n",
    "            for j in range(i+1, min(i+4, len(lines))):\n",
    "                if date_pattern.search(lines[j].strip()):\n",
    "                    to_delete.add(j)\n",
    "                else:\n",
    "                    break  # Stop if a non-date line is found\n",
    "            \n",
    "            break  # Only process the first matching header\n",
    "\n",
    "    return '\\n'.join([line for idx, line in enumerate(lines) if idx not in to_delete])"
   ]
  },
  {
   "cell_type": "markdown",
   "id": "ab02934b-9c0c-4f3a-8dac-339eab04aebf",
   "metadata": {},
   "source": [
    "### Remove footer"
   ]
  },
  {
   "cell_type": "code",
   "execution_count": 36,
   "id": "2d934ea6-33ed-458b-acd3-26cf406f6571",
   "metadata": {},
   "outputs": [],
   "source": [
    "import re\n",
    "\n",
    "def remove_footer(text):\n",
    "    \"\"\"Remove footer starting with 'Imprimerie Officielle -' and ending with 'ALGER-GARE'.\"\"\"\n",
    "    return re.sub(\n",
    "        r'(?i)Imprimerie\\s+officielle\\s*-.*?ALGER-GARE', \n",
    "        '', \n",
    "        text, \n",
    "        flags=re.DOTALL  # Handles multi-line footers\n",
    "    )"
   ]
  },
  {
   "cell_type": "markdown",
   "id": "3ac7080c-0a04-4cf2-b17d-2bfa6e479fb6",
   "metadata": {},
   "source": [
    "### Replace newline characters"
   ]
  },
  {
   "cell_type": "code",
   "execution_count": 37,
   "id": "ab0fb122-19d2-45a4-b4ed-58308efda4e4",
   "metadata": {},
   "outputs": [],
   "source": [
    "import re\n",
    "\n",
    "def replace_newlines(text):\n",
    "    return re.sub(r'[\\r\\n]+', ' ', text)"
   ]
  },
  {
   "cell_type": "markdown",
   "id": "d0b91a6d-5ea6-44d6-bf78-64c5f72697fc",
   "metadata": {},
   "source": [
    "### Remove Arabic"
   ]
  },
  {
   "cell_type": "code",
   "execution_count": 38,
   "id": "e1675f34-20c7-4f6c-8dec-7c7773170b34",
   "metadata": {},
   "outputs": [],
   "source": [
    "import re\n",
    "\n",
    "def remove_arabic(text):\n",
    "    \"\"\"Remove Arabic script characters and symbols.\"\"\"\n",
    "    # Regex to match Arabic Unicode characters and related symbols\n",
    "    arabic_pattern = re.compile(\n",
    "        r'[\\u0600-\\u06FF\\u0750-\\u077F\\u08A0-\\u08FF\\uFB50-\\uFDFF\\uFE70-\\uFEFF]+'\n",
    "    )\n",
    "    return arabic_pattern.sub(' ', text)"
   ]
  },
  {
   "cell_type": "markdown",
   "id": "80055679-c7a2-4fef-a134-4a1c206d6b7f",
   "metadata": {},
   "source": [
    "### Remove Punctuation"
   ]
  },
  {
   "cell_type": "code",
   "execution_count": 39,
   "id": "ae7ff794-0c0c-40e2-ba78-adf554e91edd",
   "metadata": {
    "scrolled": true
   },
   "outputs": [],
   "source": [
    "def remove_punctuation(text):\n",
    "    \"\"\"\n",
    "    Remove unwanted punctuation (e.g., «»“”‘’()!?) but keep commas, periods, and hyphens (-).\n",
    "    \"\"\"\n",
    "    # Keep: letters, numbers, spaces, commas (`,`), periods (`.`), and hyphens (`-`)\n",
    "    return re.sub(r'[^\\w\\s,.\\'’°/-]', ' ', text)"
   ]
  },
  {
   "cell_type": "markdown",
   "id": "3786b186-6c0c-4ff8-92df-c0eb95dd7a9b",
   "metadata": {},
   "source": [
    "### Collapse allowed punctuation"
   ]
  },
  {
   "cell_type": "code",
   "execution_count": 40,
   "id": "98d40216-0568-421d-8b81-ebd90b9ba31e",
   "metadata": {},
   "outputs": [],
   "source": [
    "def remove_repeated_punctuation(text):\n",
    "    \"\"\"Collapse repeated allowed punctuation (e.g., N°°°° → N°).\"\"\"\n",
    "    return re.sub(r'([°/-])\\1+', r'\\1', text)  # Handles °°° → °, /// → /"
   ]
  },
  {
   "cell_type": "markdown",
   "id": "963673ef-1583-41ca-97ec-05d309efc8b9",
   "metadata": {},
   "source": [
    "### Remove Multiple Periods"
   ]
  },
  {
   "cell_type": "code",
   "execution_count": 41,
   "id": "3ffa429a-5cdd-4f62-8bf9-14ac364d014e",
   "metadata": {},
   "outputs": [],
   "source": [
    "def remove_multiple_periods(text):\n",
    "    \"\"\"Replace sequences of periods (e.g., .... or . . . .) with a space.\"\"\"\n",
    "    return re.sub(r'\\.\\s*\\.+', ' ', text)"
   ]
  },
  {
   "cell_type": "markdown",
   "id": "7aee4254-0808-409d-beb6-db162d8323aa",
   "metadata": {},
   "source": [
    "### remove dashes"
   ]
  },
  {
   "cell_type": "code",
   "execution_count": 42,
   "id": "ae356762-b1da-4e85-b49e-71780557848b",
   "metadata": {},
   "outputs": [],
   "source": [
    "def remove_symbols(text):\n",
    "    \"\"\"Remove symbols like ★, ◼, etc.\"\"\"\n",
    "    return re.sub(r'[★◼▪•H#]+', ' ', text)"
   ]
  },
  {
   "cell_type": "code",
   "execution_count": 43,
   "id": "dc27d36e-bb47-4193-8416-5748380ef132",
   "metadata": {},
   "outputs": [],
   "source": [
    "def remove_dashes(text):\n",
    "    \"\"\"\n",
    "    Remove em-dashes (—) and standalone hyphens (e.g., \" — \"), but keep hyphens in terms like `08-05`.\n",
    "    Example: \n",
    "      Input: \"08-05 — code-pénal ————H————\" \n",
    "      Output: \"08-05 code-pénal\"\n",
    "    \"\"\"\n",
    "    # Remove em-dashes (—)\n",
    "    text = re.sub(r'—+', ' ', text)\n",
    "    # Remove standalone hyphens (not part of a word/number sequence)\n",
    "    text = re.sub(r'(?<!\\w)-(?!\\w)', ' ', text)\n",
    "    text = remove_symbols(text)\n",
    "    return text"
   ]
  },
  {
   "cell_type": "markdown",
   "id": "f438aeb6-5c87-4311-aebb-ab12517054ec",
   "metadata": {},
   "source": [
    "### Remove Multiple Spaces"
   ]
  },
  {
   "cell_type": "code",
   "execution_count": 44,
   "id": "614d642d-cda3-4d51-8397-8c941d98efe4",
   "metadata": {},
   "outputs": [],
   "source": [
    "def remove_multiple_spaces(text):\n",
    "    return re.sub(r'\\s+', ' ', text).strip()"
   ]
  },
  {
   "cell_type": "markdown",
   "id": "793c5aa9-b1de-4091-84bd-325c30360bb3",
   "metadata": {},
   "source": [
    "### Lowercasing"
   ]
  },
  {
   "cell_type": "code",
   "execution_count": 45,
   "id": "bd1dddcd-4f00-4174-ab0c-aa8ec26ba158",
   "metadata": {},
   "outputs": [],
   "source": [
    "def lowercasing(text):\n",
    "    return text.lower()"
   ]
  },
  {
   "cell_type": "markdown",
   "id": "b5835e55-d492-4162-9471-0b26142b6107",
   "metadata": {},
   "source": [
    "### Handel words duplicates"
   ]
  },
  {
   "cell_type": "code",
   "execution_count": 46,
   "id": "438c6b88-1b7b-4d6c-a065-7a10c2118dfc",
   "metadata": {},
   "outputs": [],
   "source": [
    "def remove_duplicate_words(content):\n",
    "    words = content.split()\n",
    "    if not words:\n",
    "        return \"\"\n",
    "    filtered_words = [words[0]]\n",
    "    for word in words[1:]:\n",
    "        if word != filtered_words[-1]:\n",
    "            filtered_words.append(word)\n",
    "    return ' '.join(filtered_words)"
   ]
  },
  {
   "cell_type": "markdown",
   "id": "8a6e0656-7f3f-43e2-a5f6-0a568c430a11",
   "metadata": {},
   "source": [
    "### Apply Cleaning Pipeline"
   ]
  },
  {
   "cell_type": "code",
   "execution_count": 47,
   "id": "1631e6fc-a1c7-4748-bd48-20405899d8a4",
   "metadata": {},
   "outputs": [],
   "source": [
    "def clean_text(text):\n",
    "    text = remove_repeated_punctuation(text)  \n",
    "    text = delete_page_header(text)  \n",
    "    text = remove_footer(text)\n",
    "    text = replace_newlines(text)  \n",
    "    text = remove_arabic(text)     \n",
    "    text = remove_punctuation(text)   \n",
    "    text = remove_multiple_periods(text)\n",
    "    text = remove_dashes(text)\n",
    "    text = remove_multiple_spaces(text)\n",
    "    text = remove_duplicate_words(text)\n",
    "    text = lowercasing(text)\n",
    "    return text\n",
    "\n",
    "data[\"content\"] = data[\"content\"].apply(clean_text)"
   ]
  },
  {
   "cell_type": "markdown",
   "id": "891b09f9-464b-4be1-96c5-f961bc513ffa",
   "metadata": {},
   "source": [
    "### Save cleaned data"
   ]
  },
  {
   "cell_type": "code",
   "execution_count": 48,
   "id": "3694db1f-2e60-4850-9318-fccdffd9603b",
   "metadata": {},
   "outputs": [
    {
     "name": "stdout",
     "output_type": "stream",
     "text": [
      "Cleaned data saved to: files/2012/output_2012_cleaned.json\n"
     ]
    }
   ],
   "source": [
    "import json\n",
    "\n",
    "# Convert DataFrame to list of records (like the original JSON structure)\n",
    "cleaned_records = data.to_dict(orient='records')\n",
    "cleaned_file_name = f\"{file_name}_cleaned\"\n",
    "# Save with proper formatting and without escaping slashes\n",
    "with open(f\"{file_path}/{cleaned_file_name}.json\", 'w', encoding='utf-8') as f:\n",
    "    json.dump(cleaned_records, f, indent=2, ensure_ascii=False)\n",
    "\n",
    "print(f\"Cleaned data saved to: {file_path}/{cleaned_file_name}.json\")"
   ]
  }
 ],
 "metadata": {
  "kernelspec": {
   "display_name": "Python 3 (ipykernel)",
   "language": "python",
   "name": "python3"
  },
  "language_info": {
   "codemirror_mode": {
    "name": "ipython",
    "version": 3
   },
   "file_extension": ".py",
   "mimetype": "text/x-python",
   "name": "python",
   "nbconvert_exporter": "python",
   "pygments_lexer": "ipython3",
   "version": "3.12.3"
  }
 },
 "nbformat": 4,
 "nbformat_minor": 5
}
