{
 "cells": [
  {
   "cell_type": "markdown",
   "id": "9643bff7-d580-46cd-a655-51bb4cf69d22",
   "metadata": {},
   "source": [
    "# Collect data"
   ]
  },
  {
   "cell_type": "code",
   "execution_count": null,
   "id": "276b21dd-8e44-4bc1-8627-f86224402a0a",
   "metadata": {},
   "outputs": [
    {
     "name": "stdout",
     "output_type": "stream",
     "text": [
      "Found 21 files to process\n",
      "Processed: output_2005_cleaned.json\n",
      "Processed: output_2006_cleaned.json\n",
      "Processed: output_2007_cleaned.json\n",
      "Processed: output_2008_cleaned.json\n",
      "Processed: output_2009_cleaned.json\n",
      "Processed: output_2010_cleaned.json\n",
      "Processed: output_2011_cleaned.json\n",
      "Processed: output_2012_cleaned.json\n",
      "Processed: output_2013_cleaned.json\n",
      "Processed: output_2014_cleaned.json\n",
      "Processed: output_2015_cleaned.json\n",
      "Processed: output_2016_cleaned.json\n",
      "Processed: output_2017_cleaned.json\n",
      "Processed: output_2018_cleaned.json\n",
      "Processed: output_2019_cleaned.json\n",
      "Processed: output_2020_cleaned.json\n",
      "Processed: output_2021_cleaned.json\n",
      "Processed: output_2022_cleaned.json\n",
      "Processed: output_2023_cleaned.json\n",
      "Processed: output_2024_cleaned.json\n",
      "Processed: output_2025_cleaned.json\n",
      "\n",
      "Combined data saved to dataset.json\n"
     ]
    }
   ],
   "source": [
    "import pandas as pd\n",
    "import glob\n",
    "import os\n",
    "import json  # Add this import\n",
    "\n",
    "# Define the directory path and file pattern\n",
    "directory = \"./files/*/\"\n",
    "file_pattern = \"*_cleaned.json\"\n",
    "\n",
    "# Get all matching files in the directory\n",
    "file_paths = glob.glob(os.path.join(directory, file_pattern))\n",
    "\n",
    "# Check if any files were found\n",
    "if not file_paths:\n",
    "    print(\"No matching files found!\")\n",
    "else:\n",
    "    print(f\"Found {len(file_paths)} files to process\")\n",
    "    \n",
    "    # Create a list to hold individual DataFrames\n",
    "    dfs = []\n",
    "    \n",
    "    # Read each JSON file into a DataFrame and add to list\n",
    "    for file_path in file_paths:\n",
    "        try:\n",
    "            df = pd.read_json(file_path)\n",
    "            dfs.append(df)\n",
    "            print(f\"Processed: {os.path.basename(file_path)}\")\n",
    "        except Exception as e:\n",
    "            print(f\"Error processing {file_path}: {str(e)}\")\n",
    "    \n",
    "    combined_df = pd.concat(dfs, ignore_index=True)\n",
    "    \n",
    "    output_file = \"dataset.json\"\n",
    "    data = combined_df.to_dict(orient='records')\n",
    "    with open(output_file, 'w', encoding='utf-8') as f:\n",
    "        json.dump(data, f, indent=2, ensure_ascii=False) \n",
    "      \n",
    "    print(f\"\\nCombined data saved to {output_file}\")"
   ]
  },
  {
   "cell_type": "code",
   "execution_count": 2,
   "id": "8ab4322d-001d-46f7-beb5-0041f626364b",
   "metadata": {},
   "outputs": [
    {
     "data": {
      "text/plain": [
       "1603"
      ]
     },
     "execution_count": 2,
     "metadata": {},
     "output_type": "execute_result"
    }
   ],
   "source": [
    "metadata_count = combined_df['metadata'].notna().sum()\n",
    "metadata_count"
   ]
  }
 ],
 "metadata": {
  "kernelspec": {
   "display_name": "Python 3 (ipykernel)",
   "language": "python",
   "name": "python3"
  },
  "language_info": {
   "codemirror_mode": {
    "name": "ipython",
    "version": 3
   },
   "file_extension": ".py",
   "mimetype": "text/x-python",
   "name": "python",
   "nbconvert_exporter": "python",
   "pygments_lexer": "ipython3",
   "version": "3.12.3"
  }
 },
 "nbformat": 4,
 "nbformat_minor": 5
}
