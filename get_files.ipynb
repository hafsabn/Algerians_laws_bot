{
 "cells": [
  {
   "cell_type": "markdown",
   "metadata": {},
   "source": [
    "## Libraries"
   ]
  },
  {
   "cell_type": "code",
   "execution_count": 2,
   "metadata": {},
   "outputs": [],
   "source": [
    "from bs4 import BeautifulSoup\n",
    "from pathlib import Path\n",
    "import requests\n",
    "import json\n",
    "import re\n",
    "import os"
   ]
  },
  {
   "cell_type": "code",
   "execution_count": null,
   "metadata": {},
   "outputs": [],
   "source": [
    "files_year = 2025"
   ]
  },
  {
   "cell_type": "code",
   "execution_count": null,
   "metadata": {},
   "outputs": [],
   "source": [
    "directory = './files/'\n",
    "os.makedirs(directory, exist_ok=True)"
   ]
  },
  {
   "cell_type": "code",
   "execution_count": 14,
   "metadata": {},
   "outputs": [],
   "source": [
    "data_file_path = f'./files/{str(files_year)}/data.json'"
   ]
  },
  {
   "cell_type": "markdown",
   "metadata": {},
   "source": [
    "## Web scraping (get pdf files)"
   ]
  },
  {
   "cell_type": "code",
   "execution_count": null,
   "metadata": {},
   "outputs": [],
   "source": [
    "links = []\n",
    "\n",
    "def get_pdfs(year):\n",
    "    url = f\"https://www.joradp.dz/JRN/ZF{year}.htm\"\n",
    "    headers = {\"User-Agent\": \"Mozilla/5.0\"}\n",
    "\n",
    "    response = requests.get(url, headers=headers, verify=False)\n",
    "    soup = BeautifulSoup(response.text, 'html.parser')\n",
    "\n",
    "    pdf_links = soup.find_all('a', href=re.compile(r\"MaxWin\\('(\\d+)'\\)\"))\n",
    "\n",
    "    for link in pdf_links:\n",
    "        html_tag = str(link)\n",
    "        match = re.search(r\"MaxWin\\('(\\d+)'\\)\", html_tag)\n",
    "        if match:\n",
    "            value = match.group(1)\n",
    "            links.append(f\"https://www.joradp.dz/FTP/JO-FRANCAIS/{year}/F{year}{value}.pdf\")"
   ]
  },
  {
   "cell_type": "code",
   "execution_count": 17,
   "metadata": {},
   "outputs": [
    {
     "name": "stderr",
     "output_type": "stream",
     "text": [
      "/home/mina/anaconda3/lib/python3.12/site-packages/urllib3/connectionpool.py:1097: InsecureRequestWarning: Unverified HTTPS request is being made to host 'www.joradp.dz'. Adding certificate verification is strongly advised. See: https://urllib3.readthedocs.io/en/latest/advanced-usage.html#tls-warnings\n",
      "  warnings.warn(\n"
     ]
    }
   ],
   "source": [
    "get_pdfs(files_year)"
   ]
  },
  {
   "cell_type": "code",
   "execution_count": 18,
   "metadata": {},
   "outputs": [
    {
     "data": {
      "text/plain": [
       "['https://www.joradp.dz/FTP/JO-FRANCAIS/2006/F2006001.pdf',\n",
       " 'https://www.joradp.dz/FTP/JO-FRANCAIS/2006/F2006002.pdf',\n",
       " 'https://www.joradp.dz/FTP/JO-FRANCAIS/2006/F2006003.pdf',\n",
       " 'https://www.joradp.dz/FTP/JO-FRANCAIS/2006/F2006004.pdf',\n",
       " 'https://www.joradp.dz/FTP/JO-FRANCAIS/2006/F2006005.pdf',\n",
       " 'https://www.joradp.dz/FTP/JO-FRANCAIS/2006/F2006006.pdf',\n",
       " 'https://www.joradp.dz/FTP/JO-FRANCAIS/2006/F2006007.pdf',\n",
       " 'https://www.joradp.dz/FTP/JO-FRANCAIS/2006/F2006008.pdf',\n",
       " 'https://www.joradp.dz/FTP/JO-FRANCAIS/2006/F2006009.pdf',\n",
       " 'https://www.joradp.dz/FTP/JO-FRANCAIS/2006/F2006010.pdf',\n",
       " 'https://www.joradp.dz/FTP/JO-FRANCAIS/2006/F2006011.pdf',\n",
       " 'https://www.joradp.dz/FTP/JO-FRANCAIS/2006/F2006012.pdf',\n",
       " 'https://www.joradp.dz/FTP/JO-FRANCAIS/2006/F2006013.pdf',\n",
       " 'https://www.joradp.dz/FTP/JO-FRANCAIS/2006/F2006014.pdf',\n",
       " 'https://www.joradp.dz/FTP/JO-FRANCAIS/2006/F2006015.pdf',\n",
       " 'https://www.joradp.dz/FTP/JO-FRANCAIS/2006/F2006016.pdf',\n",
       " 'https://www.joradp.dz/FTP/JO-FRANCAIS/2006/F2006017.pdf',\n",
       " 'https://www.joradp.dz/FTP/JO-FRANCAIS/2006/F2006018.pdf',\n",
       " 'https://www.joradp.dz/FTP/JO-FRANCAIS/2006/F2006019.pdf',\n",
       " 'https://www.joradp.dz/FTP/JO-FRANCAIS/2006/F2006020.pdf',\n",
       " 'https://www.joradp.dz/FTP/JO-FRANCAIS/2006/F2006021.pdf',\n",
       " 'https://www.joradp.dz/FTP/JO-FRANCAIS/2006/F2006022.pdf',\n",
       " 'https://www.joradp.dz/FTP/JO-FRANCAIS/2006/F2006023.pdf',\n",
       " 'https://www.joradp.dz/FTP/JO-FRANCAIS/2006/F2006024.pdf',\n",
       " 'https://www.joradp.dz/FTP/JO-FRANCAIS/2006/F2006025.pdf',\n",
       " 'https://www.joradp.dz/FTP/JO-FRANCAIS/2006/F2006026.pdf',\n",
       " 'https://www.joradp.dz/FTP/JO-FRANCAIS/2006/F2006027.pdf',\n",
       " 'https://www.joradp.dz/FTP/JO-FRANCAIS/2006/F2006028.pdf',\n",
       " 'https://www.joradp.dz/FTP/JO-FRANCAIS/2006/F2006029.pdf',\n",
       " 'https://www.joradp.dz/FTP/JO-FRANCAIS/2006/F2006030.pdf',\n",
       " 'https://www.joradp.dz/FTP/JO-FRANCAIS/2006/F2006031.pdf',\n",
       " 'https://www.joradp.dz/FTP/JO-FRANCAIS/2006/F2006032.pdf',\n",
       " 'https://www.joradp.dz/FTP/JO-FRANCAIS/2006/F2006033.pdf',\n",
       " 'https://www.joradp.dz/FTP/JO-FRANCAIS/2006/F2006034.pdf',\n",
       " 'https://www.joradp.dz/FTP/JO-FRANCAIS/2006/F2006035.pdf',\n",
       " 'https://www.joradp.dz/FTP/JO-FRANCAIS/2006/F2006036.pdf',\n",
       " 'https://www.joradp.dz/FTP/JO-FRANCAIS/2006/F2006037.pdf',\n",
       " 'https://www.joradp.dz/FTP/JO-FRANCAIS/2006/F2006038.pdf',\n",
       " 'https://www.joradp.dz/FTP/JO-FRANCAIS/2006/F2006039.pdf',\n",
       " 'https://www.joradp.dz/FTP/JO-FRANCAIS/2006/F2006040.pdf',\n",
       " 'https://www.joradp.dz/FTP/JO-FRANCAIS/2006/F2006041.pdf',\n",
       " 'https://www.joradp.dz/FTP/JO-FRANCAIS/2006/F2006042.pdf',\n",
       " 'https://www.joradp.dz/FTP/JO-FRANCAIS/2006/F2006043.pdf',\n",
       " 'https://www.joradp.dz/FTP/JO-FRANCAIS/2006/F2006044.pdf',\n",
       " 'https://www.joradp.dz/FTP/JO-FRANCAIS/2006/F2006045.pdf',\n",
       " 'https://www.joradp.dz/FTP/JO-FRANCAIS/2006/F2006046.pdf',\n",
       " 'https://www.joradp.dz/FTP/JO-FRANCAIS/2006/F2006047.pdf',\n",
       " 'https://www.joradp.dz/FTP/JO-FRANCAIS/2006/F2006048.pdf',\n",
       " 'https://www.joradp.dz/FTP/JO-FRANCAIS/2006/F2006049.pdf',\n",
       " 'https://www.joradp.dz/FTP/JO-FRANCAIS/2006/F2006050.pdf',\n",
       " 'https://www.joradp.dz/FTP/JO-FRANCAIS/2006/F2006051.pdf',\n",
       " 'https://www.joradp.dz/FTP/JO-FRANCAIS/2006/F2006052.pdf',\n",
       " 'https://www.joradp.dz/FTP/JO-FRANCAIS/2006/F2006053.pdf',\n",
       " 'https://www.joradp.dz/FTP/JO-FRANCAIS/2006/F2006054.pdf',\n",
       " 'https://www.joradp.dz/FTP/JO-FRANCAIS/2006/F2006055.pdf',\n",
       " 'https://www.joradp.dz/FTP/JO-FRANCAIS/2006/F2006056.pdf',\n",
       " 'https://www.joradp.dz/FTP/JO-FRANCAIS/2006/F2006057.pdf',\n",
       " 'https://www.joradp.dz/FTP/JO-FRANCAIS/2006/F2006058.pdf',\n",
       " 'https://www.joradp.dz/FTP/JO-FRANCAIS/2006/F2006059.pdf',\n",
       " 'https://www.joradp.dz/FTP/JO-FRANCAIS/2006/F2006060.pdf',\n",
       " 'https://www.joradp.dz/FTP/JO-FRANCAIS/2006/F2006061.pdf',\n",
       " 'https://www.joradp.dz/FTP/JO-FRANCAIS/2006/F2006062.pdf',\n",
       " 'https://www.joradp.dz/FTP/JO-FRANCAIS/2006/F2006063.pdf',\n",
       " 'https://www.joradp.dz/FTP/JO-FRANCAIS/2006/F2006064.pdf',\n",
       " 'https://www.joradp.dz/FTP/JO-FRANCAIS/2006/F2006065.pdf',\n",
       " 'https://www.joradp.dz/FTP/JO-FRANCAIS/2006/F2006066.pdf',\n",
       " 'https://www.joradp.dz/FTP/JO-FRANCAIS/2006/F2006067.pdf',\n",
       " 'https://www.joradp.dz/FTP/JO-FRANCAIS/2006/F2006068.pdf',\n",
       " 'https://www.joradp.dz/FTP/JO-FRANCAIS/2006/F2006069.pdf',\n",
       " 'https://www.joradp.dz/FTP/JO-FRANCAIS/2006/F2006070.pdf',\n",
       " 'https://www.joradp.dz/FTP/JO-FRANCAIS/2006/F2006071.pdf',\n",
       " 'https://www.joradp.dz/FTP/JO-FRANCAIS/2006/F2006072.pdf',\n",
       " 'https://www.joradp.dz/FTP/JO-FRANCAIS/2006/F2006073.pdf',\n",
       " 'https://www.joradp.dz/FTP/JO-FRANCAIS/2006/F2006074.pdf',\n",
       " 'https://www.joradp.dz/FTP/JO-FRANCAIS/2006/F2006075.pdf',\n",
       " 'https://www.joradp.dz/FTP/JO-FRANCAIS/2006/F2006076.pdf',\n",
       " 'https://www.joradp.dz/FTP/JO-FRANCAIS/2006/F2006077.pdf',\n",
       " 'https://www.joradp.dz/FTP/JO-FRANCAIS/2006/F2006078.pdf',\n",
       " 'https://www.joradp.dz/FTP/JO-FRANCAIS/2006/F2006079.pdf',\n",
       " 'https://www.joradp.dz/FTP/JO-FRANCAIS/2006/F2006080.pdf',\n",
       " 'https://www.joradp.dz/FTP/JO-FRANCAIS/2006/F2006081.pdf',\n",
       " 'https://www.joradp.dz/FTP/JO-FRANCAIS/2006/F2006082.pdf',\n",
       " 'https://www.joradp.dz/FTP/JO-FRANCAIS/2006/F2006083.pdf',\n",
       " 'https://www.joradp.dz/FTP/JO-FRANCAIS/2006/F2006084.pdf',\n",
       " 'https://www.joradp.dz/FTP/JO-FRANCAIS/2006/F2006085.pdf']"
      ]
     },
     "execution_count": 18,
     "metadata": {},
     "output_type": "execute_result"
    }
   ],
   "source": [
    "links"
   ]
  },
  {
   "cell_type": "markdown",
   "metadata": {},
   "source": [
    "## Download pdfs"
   ]
  },
  {
   "cell_type": "code",
   "execution_count": 19,
   "metadata": {},
   "outputs": [],
   "source": [
    "os.makedirs('./files/' + str(files_year), exist_ok=True)"
   ]
  },
  {
   "cell_type": "code",
   "execution_count": null,
   "metadata": {},
   "outputs": [],
   "source": [
    "files = []\n",
    "\n",
    "for link in links:\n",
    "    response = requests.get(link)\n",
    "    files.append(f'./files/{str(files_year)}/{link.split('/')[-1]}')\n",
    "\n",
    "    file_name = Path(f'./files/{str(files_year)}/{link.split('/')[-1]}')\n",
    "    file_name.write_bytes(response.content)"
   ]
  },
  {
   "cell_type": "code",
   "execution_count": 21,
   "metadata": {},
   "outputs": [
    {
     "data": {
      "text/plain": [
       "['./files/2006/F2006001.pdf',\n",
       " './files/2006/F2006002.pdf',\n",
       " './files/2006/F2006003.pdf',\n",
       " './files/2006/F2006004.pdf',\n",
       " './files/2006/F2006005.pdf',\n",
       " './files/2006/F2006006.pdf',\n",
       " './files/2006/F2006007.pdf',\n",
       " './files/2006/F2006008.pdf',\n",
       " './files/2006/F2006009.pdf',\n",
       " './files/2006/F2006010.pdf',\n",
       " './files/2006/F2006011.pdf',\n",
       " './files/2006/F2006012.pdf',\n",
       " './files/2006/F2006013.pdf',\n",
       " './files/2006/F2006014.pdf',\n",
       " './files/2006/F2006015.pdf',\n",
       " './files/2006/F2006016.pdf',\n",
       " './files/2006/F2006017.pdf',\n",
       " './files/2006/F2006018.pdf',\n",
       " './files/2006/F2006019.pdf',\n",
       " './files/2006/F2006020.pdf',\n",
       " './files/2006/F2006021.pdf',\n",
       " './files/2006/F2006022.pdf',\n",
       " './files/2006/F2006023.pdf',\n",
       " './files/2006/F2006024.pdf',\n",
       " './files/2006/F2006025.pdf',\n",
       " './files/2006/F2006026.pdf',\n",
       " './files/2006/F2006027.pdf',\n",
       " './files/2006/F2006028.pdf',\n",
       " './files/2006/F2006029.pdf',\n",
       " './files/2006/F2006030.pdf',\n",
       " './files/2006/F2006031.pdf',\n",
       " './files/2006/F2006032.pdf',\n",
       " './files/2006/F2006033.pdf',\n",
       " './files/2006/F2006034.pdf',\n",
       " './files/2006/F2006035.pdf',\n",
       " './files/2006/F2006036.pdf',\n",
       " './files/2006/F2006037.pdf',\n",
       " './files/2006/F2006038.pdf',\n",
       " './files/2006/F2006039.pdf',\n",
       " './files/2006/F2006040.pdf',\n",
       " './files/2006/F2006041.pdf',\n",
       " './files/2006/F2006042.pdf',\n",
       " './files/2006/F2006043.pdf',\n",
       " './files/2006/F2006044.pdf',\n",
       " './files/2006/F2006045.pdf',\n",
       " './files/2006/F2006046.pdf',\n",
       " './files/2006/F2006047.pdf',\n",
       " './files/2006/F2006048.pdf',\n",
       " './files/2006/F2006049.pdf',\n",
       " './files/2006/F2006050.pdf',\n",
       " './files/2006/F2006051.pdf',\n",
       " './files/2006/F2006052.pdf',\n",
       " './files/2006/F2006053.pdf',\n",
       " './files/2006/F2006054.pdf',\n",
       " './files/2006/F2006055.pdf',\n",
       " './files/2006/F2006056.pdf',\n",
       " './files/2006/F2006057.pdf',\n",
       " './files/2006/F2006058.pdf',\n",
       " './files/2006/F2006059.pdf',\n",
       " './files/2006/F2006060.pdf',\n",
       " './files/2006/F2006061.pdf',\n",
       " './files/2006/F2006062.pdf',\n",
       " './files/2006/F2006063.pdf',\n",
       " './files/2006/F2006064.pdf',\n",
       " './files/2006/F2006065.pdf',\n",
       " './files/2006/F2006066.pdf',\n",
       " './files/2006/F2006067.pdf',\n",
       " './files/2006/F2006068.pdf',\n",
       " './files/2006/F2006069.pdf',\n",
       " './files/2006/F2006070.pdf',\n",
       " './files/2006/F2006071.pdf',\n",
       " './files/2006/F2006072.pdf',\n",
       " './files/2006/F2006073.pdf',\n",
       " './files/2006/F2006074.pdf',\n",
       " './files/2006/F2006075.pdf',\n",
       " './files/2006/F2006076.pdf',\n",
       " './files/2006/F2006077.pdf',\n",
       " './files/2006/F2006078.pdf',\n",
       " './files/2006/F2006079.pdf',\n",
       " './files/2006/F2006080.pdf',\n",
       " './files/2006/F2006081.pdf',\n",
       " './files/2006/F2006082.pdf',\n",
       " './files/2006/F2006083.pdf',\n",
       " './files/2006/F2006084.pdf',\n",
       " './files/2006/F2006085.pdf']"
      ]
     },
     "execution_count": 21,
     "metadata": {},
     "output_type": "execute_result"
    }
   ],
   "source": [
    "files"
   ]
  }
 ],
 "metadata": {
  "kernelspec": {
   "display_name": "base",
   "language": "python",
   "name": "python3"
  },
  "language_info": {
   "codemirror_mode": {
    "name": "ipython",
    "version": 3
   },
   "file_extension": ".py",
   "mimetype": "text/x-python",
   "name": "python",
   "nbconvert_exporter": "python",
   "pygments_lexer": "ipython3",
   "version": "3.11.5"
  }
 },
 "nbformat": 4,
 "nbformat_minor": 2
}
